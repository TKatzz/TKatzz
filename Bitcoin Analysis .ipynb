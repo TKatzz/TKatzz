{
 "cells": [
  {
   "cell_type": "code",
   "execution_count": 1,
   "id": "309860b6",
   "metadata": {},
   "outputs": [],
   "source": [
    "import pandas as pd\n",
    "import numpy as np\n",
    "import seaborn as sns\n",
    "import datetime\n",
    "import matplotlib as plt\n",
    "%matplotlib inline\n",
    "from pandas_datareader import data, wb"
   ]
  },
  {
   "cell_type": "code",
   "execution_count": 2,
   "id": "854819f2",
   "metadata": {},
   "outputs": [
    {
     "data": {
      "text/html": [
       "        <script type=\"text/javascript\">\n",
       "        window.PlotlyConfig = {MathJaxConfig: 'local'};\n",
       "        if (window.MathJax) {MathJax.Hub.Config({SVG: {font: \"STIX-Web\"}});}\n",
       "        if (typeof require !== 'undefined') {\n",
       "        require.undef(\"plotly\");\n",
       "        requirejs.config({\n",
       "            paths: {\n",
       "                'plotly': ['https://cdn.plot.ly/plotly-latest.min']\n",
       "            }\n",
       "        });\n",
       "        require(['plotly'], function(Plotly) {\n",
       "            window._Plotly = Plotly;\n",
       "        });\n",
       "        }\n",
       "        </script>\n",
       "        "
      ]
     },
     "metadata": {},
     "output_type": "display_data"
    }
   ],
   "source": [
    "import matplotlib.pyplot as plt\n",
    "import plotly\n",
    "import cufflinks as cf\n",
    "cf.go_offline()"
   ]
  },
  {
   "cell_type": "code",
   "execution_count": 3,
   "id": "28707452",
   "metadata": {},
   "outputs": [],
   "source": [
    "BTC = data.DataReader('BTC-USD',data_source='yahoo',start='1/1/2022',end='5/31/2022')\n",
    "ETH = data.DataReader('ETH-USD',data_source='yahoo',start='1/1/2022',end='5/31/2022')"
   ]
  },
  {
   "cell_type": "code",
   "execution_count": 4,
   "id": "0fac5528",
   "metadata": {},
   "outputs": [
    {
     "data": {
      "text/html": [
       "<div>\n",
       "<style scoped>\n",
       "    .dataframe tbody tr th:only-of-type {\n",
       "        vertical-align: middle;\n",
       "    }\n",
       "\n",
       "    .dataframe tbody tr th {\n",
       "        vertical-align: top;\n",
       "    }\n",
       "\n",
       "    .dataframe thead th {\n",
       "        text-align: right;\n",
       "    }\n",
       "</style>\n",
       "<table border=\"1\" class=\"dataframe\">\n",
       "  <thead>\n",
       "    <tr style=\"text-align: right;\">\n",
       "      <th></th>\n",
       "      <th>High</th>\n",
       "      <th>Low</th>\n",
       "      <th>Open</th>\n",
       "      <th>Close</th>\n",
       "      <th>Volume</th>\n",
       "      <th>Adj Close</th>\n",
       "    </tr>\n",
       "    <tr>\n",
       "      <th>Date</th>\n",
       "      <th></th>\n",
       "      <th></th>\n",
       "      <th></th>\n",
       "      <th></th>\n",
       "      <th></th>\n",
       "      <th></th>\n",
       "    </tr>\n",
       "  </thead>\n",
       "  <tbody>\n",
       "    <tr>\n",
       "      <th>2022-01-01</th>\n",
       "      <td>47827.312500</td>\n",
       "      <td>46288.484375</td>\n",
       "      <td>46311.746094</td>\n",
       "      <td>47686.812500</td>\n",
       "      <td>24582667004</td>\n",
       "      <td>47686.812500</td>\n",
       "    </tr>\n",
       "    <tr>\n",
       "      <th>2022-01-02</th>\n",
       "      <td>47881.406250</td>\n",
       "      <td>46856.937500</td>\n",
       "      <td>47680.925781</td>\n",
       "      <td>47345.218750</td>\n",
       "      <td>27951569547</td>\n",
       "      <td>47345.218750</td>\n",
       "    </tr>\n",
       "    <tr>\n",
       "      <th>2022-01-03</th>\n",
       "      <td>47510.726562</td>\n",
       "      <td>45835.964844</td>\n",
       "      <td>47343.542969</td>\n",
       "      <td>46458.117188</td>\n",
       "      <td>33071628362</td>\n",
       "      <td>46458.117188</td>\n",
       "    </tr>\n",
       "    <tr>\n",
       "      <th>2022-01-04</th>\n",
       "      <td>47406.546875</td>\n",
       "      <td>45752.464844</td>\n",
       "      <td>46458.851562</td>\n",
       "      <td>45897.574219</td>\n",
       "      <td>42494677905</td>\n",
       "      <td>45897.574219</td>\n",
       "    </tr>\n",
       "    <tr>\n",
       "      <th>2022-01-05</th>\n",
       "      <td>46929.046875</td>\n",
       "      <td>42798.222656</td>\n",
       "      <td>45899.359375</td>\n",
       "      <td>43569.003906</td>\n",
       "      <td>36851084859</td>\n",
       "      <td>43569.003906</td>\n",
       "    </tr>\n",
       "    <tr>\n",
       "      <th>...</th>\n",
       "      <td>...</td>\n",
       "      <td>...</td>\n",
       "      <td>...</td>\n",
       "      <td>...</td>\n",
       "      <td>...</td>\n",
       "      <td>...</td>\n",
       "    </tr>\n",
       "    <tr>\n",
       "      <th>2022-05-28</th>\n",
       "      <td>28814.900391</td>\n",
       "      <td>28554.566406</td>\n",
       "      <td>28622.625000</td>\n",
       "      <td>28814.900391</td>\n",
       "      <td>35519577634</td>\n",
       "      <td>28814.900391</td>\n",
       "    </tr>\n",
       "    <tr>\n",
       "      <th>2022-05-29</th>\n",
       "      <td>29498.009766</td>\n",
       "      <td>28841.107422</td>\n",
       "      <td>29019.867188</td>\n",
       "      <td>29445.957031</td>\n",
       "      <td>18093886409</td>\n",
       "      <td>29445.957031</td>\n",
       "    </tr>\n",
       "    <tr>\n",
       "      <th>2022-05-30</th>\n",
       "      <td>31949.630859</td>\n",
       "      <td>29303.572266</td>\n",
       "      <td>29443.365234</td>\n",
       "      <td>31726.390625</td>\n",
       "      <td>39277993274</td>\n",
       "      <td>31726.390625</td>\n",
       "    </tr>\n",
       "    <tr>\n",
       "      <th>2022-05-31</th>\n",
       "      <td>32249.863281</td>\n",
       "      <td>31286.154297</td>\n",
       "      <td>31723.865234</td>\n",
       "      <td>31792.310547</td>\n",
       "      <td>33538210634</td>\n",
       "      <td>31792.310547</td>\n",
       "    </tr>\n",
       "    <tr>\n",
       "      <th>2022-06-01</th>\n",
       "      <td>31957.285156</td>\n",
       "      <td>29501.587891</td>\n",
       "      <td>31792.554688</td>\n",
       "      <td>29799.080078</td>\n",
       "      <td>41135817341</td>\n",
       "      <td>29799.080078</td>\n",
       "    </tr>\n",
       "  </tbody>\n",
       "</table>\n",
       "<p>152 rows × 6 columns</p>\n",
       "</div>"
      ],
      "text/plain": [
       "                    High           Low          Open         Close  \\\n",
       "Date                                                                 \n",
       "2022-01-01  47827.312500  46288.484375  46311.746094  47686.812500   \n",
       "2022-01-02  47881.406250  46856.937500  47680.925781  47345.218750   \n",
       "2022-01-03  47510.726562  45835.964844  47343.542969  46458.117188   \n",
       "2022-01-04  47406.546875  45752.464844  46458.851562  45897.574219   \n",
       "2022-01-05  46929.046875  42798.222656  45899.359375  43569.003906   \n",
       "...                  ...           ...           ...           ...   \n",
       "2022-05-28  28814.900391  28554.566406  28622.625000  28814.900391   \n",
       "2022-05-29  29498.009766  28841.107422  29019.867188  29445.957031   \n",
       "2022-05-30  31949.630859  29303.572266  29443.365234  31726.390625   \n",
       "2022-05-31  32249.863281  31286.154297  31723.865234  31792.310547   \n",
       "2022-06-01  31957.285156  29501.587891  31792.554688  29799.080078   \n",
       "\n",
       "                 Volume     Adj Close  \n",
       "Date                                   \n",
       "2022-01-01  24582667004  47686.812500  \n",
       "2022-01-02  27951569547  47345.218750  \n",
       "2022-01-03  33071628362  46458.117188  \n",
       "2022-01-04  42494677905  45897.574219  \n",
       "2022-01-05  36851084859  43569.003906  \n",
       "...                 ...           ...  \n",
       "2022-05-28  35519577634  28814.900391  \n",
       "2022-05-29  18093886409  29445.957031  \n",
       "2022-05-30  39277993274  31726.390625  \n",
       "2022-05-31  33538210634  31792.310547  \n",
       "2022-06-01  41135817341  29799.080078  \n",
       "\n",
       "[152 rows x 6 columns]"
      ]
     },
     "execution_count": 4,
     "metadata": {},
     "output_type": "execute_result"
    }
   ],
   "source": [
    "BTC"
   ]
  },
  {
   "cell_type": "code",
   "execution_count": 5,
   "id": "9d08718f",
   "metadata": {},
   "outputs": [],
   "source": [
    "headers = ['BTC-USD','ETH-USD']"
   ]
  },
  {
   "cell_type": "code",
   "execution_count": 6,
   "id": "9ef49568",
   "metadata": {},
   "outputs": [],
   "source": [
    "cpt = pd.concat([BTC,ETH],axis=1,keys=headers)"
   ]
  },
  {
   "cell_type": "code",
   "execution_count": 7,
   "id": "344e708c",
   "metadata": {},
   "outputs": [
    {
     "data": {
      "text/html": [
       "<div>\n",
       "<style scoped>\n",
       "    .dataframe tbody tr th:only-of-type {\n",
       "        vertical-align: middle;\n",
       "    }\n",
       "\n",
       "    .dataframe tbody tr th {\n",
       "        vertical-align: top;\n",
       "    }\n",
       "\n",
       "    .dataframe thead tr th {\n",
       "        text-align: left;\n",
       "    }\n",
       "\n",
       "    .dataframe thead tr:last-of-type th {\n",
       "        text-align: right;\n",
       "    }\n",
       "</style>\n",
       "<table border=\"1\" class=\"dataframe\">\n",
       "  <thead>\n",
       "    <tr>\n",
       "      <th></th>\n",
       "      <th colspan=\"6\" halign=\"left\">BTC-USD</th>\n",
       "      <th colspan=\"6\" halign=\"left\">ETH-USD</th>\n",
       "    </tr>\n",
       "    <tr>\n",
       "      <th></th>\n",
       "      <th>High</th>\n",
       "      <th>Low</th>\n",
       "      <th>Open</th>\n",
       "      <th>Close</th>\n",
       "      <th>Volume</th>\n",
       "      <th>Adj Close</th>\n",
       "      <th>High</th>\n",
       "      <th>Low</th>\n",
       "      <th>Open</th>\n",
       "      <th>Close</th>\n",
       "      <th>Volume</th>\n",
       "      <th>Adj Close</th>\n",
       "    </tr>\n",
       "    <tr>\n",
       "      <th>Date</th>\n",
       "      <th></th>\n",
       "      <th></th>\n",
       "      <th></th>\n",
       "      <th></th>\n",
       "      <th></th>\n",
       "      <th></th>\n",
       "      <th></th>\n",
       "      <th></th>\n",
       "      <th></th>\n",
       "      <th></th>\n",
       "      <th></th>\n",
       "      <th></th>\n",
       "    </tr>\n",
       "  </thead>\n",
       "  <tbody>\n",
       "    <tr>\n",
       "      <th>2022-01-01</th>\n",
       "      <td>47827.312500</td>\n",
       "      <td>46288.484375</td>\n",
       "      <td>46311.746094</td>\n",
       "      <td>47686.812500</td>\n",
       "      <td>24582667004</td>\n",
       "      <td>47686.812500</td>\n",
       "      <td>3769.917969</td>\n",
       "      <td>3682.286621</td>\n",
       "      <td>3683.047119</td>\n",
       "      <td>3769.697021</td>\n",
       "      <td>9776191466</td>\n",
       "      <td>3769.697021</td>\n",
       "    </tr>\n",
       "    <tr>\n",
       "      <th>2022-01-02</th>\n",
       "      <td>47881.406250</td>\n",
       "      <td>46856.937500</td>\n",
       "      <td>47680.925781</td>\n",
       "      <td>47345.218750</td>\n",
       "      <td>27951569547</td>\n",
       "      <td>47345.218750</td>\n",
       "      <td>3836.161865</td>\n",
       "      <td>3727.357422</td>\n",
       "      <td>3769.298340</td>\n",
       "      <td>3829.564941</td>\n",
       "      <td>9881471548</td>\n",
       "      <td>3829.564941</td>\n",
       "    </tr>\n",
       "    <tr>\n",
       "      <th>2022-01-03</th>\n",
       "      <td>47510.726562</td>\n",
       "      <td>45835.964844</td>\n",
       "      <td>47343.542969</td>\n",
       "      <td>46458.117188</td>\n",
       "      <td>33071628362</td>\n",
       "      <td>46458.117188</td>\n",
       "      <td>3836.198730</td>\n",
       "      <td>3698.047607</td>\n",
       "      <td>3829.535645</td>\n",
       "      <td>3761.380371</td>\n",
       "      <td>12080777893</td>\n",
       "      <td>3761.380371</td>\n",
       "    </tr>\n",
       "    <tr>\n",
       "      <th>2022-01-04</th>\n",
       "      <td>47406.546875</td>\n",
       "      <td>45752.464844</td>\n",
       "      <td>46458.851562</td>\n",
       "      <td>45897.574219</td>\n",
       "      <td>42494677905</td>\n",
       "      <td>45897.574219</td>\n",
       "      <td>3876.785156</td>\n",
       "      <td>3723.349854</td>\n",
       "      <td>3761.361572</td>\n",
       "      <td>3794.056641</td>\n",
       "      <td>14030925983</td>\n",
       "      <td>3794.056641</td>\n",
       "    </tr>\n",
       "    <tr>\n",
       "      <th>2022-01-05</th>\n",
       "      <td>46929.046875</td>\n",
       "      <td>42798.222656</td>\n",
       "      <td>45899.359375</td>\n",
       "      <td>43569.003906</td>\n",
       "      <td>36851084859</td>\n",
       "      <td>43569.003906</td>\n",
       "      <td>3842.059814</td>\n",
       "      <td>3456.745361</td>\n",
       "      <td>3794.269043</td>\n",
       "      <td>3550.386963</td>\n",
       "      <td>18061338502</td>\n",
       "      <td>3550.386963</td>\n",
       "    </tr>\n",
       "    <tr>\n",
       "      <th>...</th>\n",
       "      <td>...</td>\n",
       "      <td>...</td>\n",
       "      <td>...</td>\n",
       "      <td>...</td>\n",
       "      <td>...</td>\n",
       "      <td>...</td>\n",
       "      <td>...</td>\n",
       "      <td>...</td>\n",
       "      <td>...</td>\n",
       "      <td>...</td>\n",
       "      <td>...</td>\n",
       "      <td>...</td>\n",
       "    </tr>\n",
       "    <tr>\n",
       "      <th>2022-05-28</th>\n",
       "      <td>28814.900391</td>\n",
       "      <td>28554.566406</td>\n",
       "      <td>28622.625000</td>\n",
       "      <td>28814.900391</td>\n",
       "      <td>35519577634</td>\n",
       "      <td>28814.900391</td>\n",
       "      <td>1757.941772</td>\n",
       "      <td>1724.635986</td>\n",
       "      <td>1724.635986</td>\n",
       "      <td>1757.941772</td>\n",
       "      <td>23214777872</td>\n",
       "      <td>1757.941772</td>\n",
       "    </tr>\n",
       "    <tr>\n",
       "      <th>2022-05-29</th>\n",
       "      <td>29498.009766</td>\n",
       "      <td>28841.107422</td>\n",
       "      <td>29019.867188</td>\n",
       "      <td>29445.957031</td>\n",
       "      <td>18093886409</td>\n",
       "      <td>29445.957031</td>\n",
       "      <td>1818.776611</td>\n",
       "      <td>1765.937378</td>\n",
       "      <td>1792.184448</td>\n",
       "      <td>1812.031006</td>\n",
       "      <td>10642556101</td>\n",
       "      <td>1812.031006</td>\n",
       "    </tr>\n",
       "    <tr>\n",
       "      <th>2022-05-30</th>\n",
       "      <td>31949.630859</td>\n",
       "      <td>29303.572266</td>\n",
       "      <td>29443.365234</td>\n",
       "      <td>31726.390625</td>\n",
       "      <td>39277993274</td>\n",
       "      <td>31726.390625</td>\n",
       "      <td>2005.210815</td>\n",
       "      <td>1804.456055</td>\n",
       "      <td>1811.885986</td>\n",
       "      <td>1996.441284</td>\n",
       "      <td>19580808705</td>\n",
       "      <td>1996.441284</td>\n",
       "    </tr>\n",
       "    <tr>\n",
       "      <th>2022-05-31</th>\n",
       "      <td>32249.863281</td>\n",
       "      <td>31286.154297</td>\n",
       "      <td>31723.865234</td>\n",
       "      <td>31792.310547</td>\n",
       "      <td>33538210634</td>\n",
       "      <td>31792.310547</td>\n",
       "      <td>2005.490967</td>\n",
       "      <td>1932.352051</td>\n",
       "      <td>1996.408081</td>\n",
       "      <td>1942.328003</td>\n",
       "      <td>18363115560</td>\n",
       "      <td>1942.328003</td>\n",
       "    </tr>\n",
       "    <tr>\n",
       "      <th>2022-06-01</th>\n",
       "      <td>31957.285156</td>\n",
       "      <td>29501.587891</td>\n",
       "      <td>31792.554688</td>\n",
       "      <td>29799.080078</td>\n",
       "      <td>41135817341</td>\n",
       "      <td>29799.080078</td>\n",
       "      <td>1965.166626</td>\n",
       "      <td>1776.053223</td>\n",
       "      <td>1942.050659</td>\n",
       "      <td>1823.569336</td>\n",
       "      <td>21037797760</td>\n",
       "      <td>1823.569336</td>\n",
       "    </tr>\n",
       "  </tbody>\n",
       "</table>\n",
       "<p>152 rows × 12 columns</p>\n",
       "</div>"
      ],
      "text/plain": [
       "                 BTC-USD                                            \\\n",
       "                    High           Low          Open         Close   \n",
       "Date                                                                 \n",
       "2022-01-01  47827.312500  46288.484375  46311.746094  47686.812500   \n",
       "2022-01-02  47881.406250  46856.937500  47680.925781  47345.218750   \n",
       "2022-01-03  47510.726562  45835.964844  47343.542969  46458.117188   \n",
       "2022-01-04  47406.546875  45752.464844  46458.851562  45897.574219   \n",
       "2022-01-05  46929.046875  42798.222656  45899.359375  43569.003906   \n",
       "...                  ...           ...           ...           ...   \n",
       "2022-05-28  28814.900391  28554.566406  28622.625000  28814.900391   \n",
       "2022-05-29  29498.009766  28841.107422  29019.867188  29445.957031   \n",
       "2022-05-30  31949.630859  29303.572266  29443.365234  31726.390625   \n",
       "2022-05-31  32249.863281  31286.154297  31723.865234  31792.310547   \n",
       "2022-06-01  31957.285156  29501.587891  31792.554688  29799.080078   \n",
       "\n",
       "                                           ETH-USD                            \\\n",
       "                 Volume     Adj Close         High          Low         Open   \n",
       "Date                                                                           \n",
       "2022-01-01  24582667004  47686.812500  3769.917969  3682.286621  3683.047119   \n",
       "2022-01-02  27951569547  47345.218750  3836.161865  3727.357422  3769.298340   \n",
       "2022-01-03  33071628362  46458.117188  3836.198730  3698.047607  3829.535645   \n",
       "2022-01-04  42494677905  45897.574219  3876.785156  3723.349854  3761.361572   \n",
       "2022-01-05  36851084859  43569.003906  3842.059814  3456.745361  3794.269043   \n",
       "...                 ...           ...          ...          ...          ...   \n",
       "2022-05-28  35519577634  28814.900391  1757.941772  1724.635986  1724.635986   \n",
       "2022-05-29  18093886409  29445.957031  1818.776611  1765.937378  1792.184448   \n",
       "2022-05-30  39277993274  31726.390625  2005.210815  1804.456055  1811.885986   \n",
       "2022-05-31  33538210634  31792.310547  2005.490967  1932.352051  1996.408081   \n",
       "2022-06-01  41135817341  29799.080078  1965.166626  1776.053223  1942.050659   \n",
       "\n",
       "                                                   \n",
       "                  Close       Volume    Adj Close  \n",
       "Date                                               \n",
       "2022-01-01  3769.697021   9776191466  3769.697021  \n",
       "2022-01-02  3829.564941   9881471548  3829.564941  \n",
       "2022-01-03  3761.380371  12080777893  3761.380371  \n",
       "2022-01-04  3794.056641  14030925983  3794.056641  \n",
       "2022-01-05  3550.386963  18061338502  3550.386963  \n",
       "...                 ...          ...          ...  \n",
       "2022-05-28  1757.941772  23214777872  1757.941772  \n",
       "2022-05-29  1812.031006  10642556101  1812.031006  \n",
       "2022-05-30  1996.441284  19580808705  1996.441284  \n",
       "2022-05-31  1942.328003  18363115560  1942.328003  \n",
       "2022-06-01  1823.569336  21037797760  1823.569336  \n",
       "\n",
       "[152 rows x 12 columns]"
      ]
     },
     "execution_count": 7,
     "metadata": {},
     "output_type": "execute_result"
    }
   ],
   "source": [
    "cpt"
   ]
  },
  {
   "cell_type": "code",
   "execution_count": 8,
   "id": "570ec730",
   "metadata": {},
   "outputs": [],
   "source": [
    "cpt.columns.names = ['Crypto','Info']"
   ]
  },
  {
   "cell_type": "code",
   "execution_count": 9,
   "id": "34e57c19",
   "metadata": {},
   "outputs": [
    {
     "data": {
      "text/html": [
       "<div>\n",
       "<style scoped>\n",
       "    .dataframe tbody tr th:only-of-type {\n",
       "        vertical-align: middle;\n",
       "    }\n",
       "\n",
       "    .dataframe tbody tr th {\n",
       "        vertical-align: top;\n",
       "    }\n",
       "\n",
       "    .dataframe thead tr th {\n",
       "        text-align: left;\n",
       "    }\n",
       "\n",
       "    .dataframe thead tr:last-of-type th {\n",
       "        text-align: right;\n",
       "    }\n",
       "</style>\n",
       "<table border=\"1\" class=\"dataframe\">\n",
       "  <thead>\n",
       "    <tr>\n",
       "      <th>Crypto</th>\n",
       "      <th colspan=\"6\" halign=\"left\">BTC-USD</th>\n",
       "      <th colspan=\"6\" halign=\"left\">ETH-USD</th>\n",
       "    </tr>\n",
       "    <tr>\n",
       "      <th>Info</th>\n",
       "      <th>High</th>\n",
       "      <th>Low</th>\n",
       "      <th>Open</th>\n",
       "      <th>Close</th>\n",
       "      <th>Volume</th>\n",
       "      <th>Adj Close</th>\n",
       "      <th>High</th>\n",
       "      <th>Low</th>\n",
       "      <th>Open</th>\n",
       "      <th>Close</th>\n",
       "      <th>Volume</th>\n",
       "      <th>Adj Close</th>\n",
       "    </tr>\n",
       "    <tr>\n",
       "      <th>Date</th>\n",
       "      <th></th>\n",
       "      <th></th>\n",
       "      <th></th>\n",
       "      <th></th>\n",
       "      <th></th>\n",
       "      <th></th>\n",
       "      <th></th>\n",
       "      <th></th>\n",
       "      <th></th>\n",
       "      <th></th>\n",
       "      <th></th>\n",
       "      <th></th>\n",
       "    </tr>\n",
       "  </thead>\n",
       "  <tbody>\n",
       "    <tr>\n",
       "      <th>2022-01-01</th>\n",
       "      <td>47827.312500</td>\n",
       "      <td>46288.484375</td>\n",
       "      <td>46311.746094</td>\n",
       "      <td>47686.812500</td>\n",
       "      <td>24582667004</td>\n",
       "      <td>47686.812500</td>\n",
       "      <td>3769.917969</td>\n",
       "      <td>3682.286621</td>\n",
       "      <td>3683.047119</td>\n",
       "      <td>3769.697021</td>\n",
       "      <td>9776191466</td>\n",
       "      <td>3769.697021</td>\n",
       "    </tr>\n",
       "    <tr>\n",
       "      <th>2022-01-02</th>\n",
       "      <td>47881.406250</td>\n",
       "      <td>46856.937500</td>\n",
       "      <td>47680.925781</td>\n",
       "      <td>47345.218750</td>\n",
       "      <td>27951569547</td>\n",
       "      <td>47345.218750</td>\n",
       "      <td>3836.161865</td>\n",
       "      <td>3727.357422</td>\n",
       "      <td>3769.298340</td>\n",
       "      <td>3829.564941</td>\n",
       "      <td>9881471548</td>\n",
       "      <td>3829.564941</td>\n",
       "    </tr>\n",
       "    <tr>\n",
       "      <th>2022-01-03</th>\n",
       "      <td>47510.726562</td>\n",
       "      <td>45835.964844</td>\n",
       "      <td>47343.542969</td>\n",
       "      <td>46458.117188</td>\n",
       "      <td>33071628362</td>\n",
       "      <td>46458.117188</td>\n",
       "      <td>3836.198730</td>\n",
       "      <td>3698.047607</td>\n",
       "      <td>3829.535645</td>\n",
       "      <td>3761.380371</td>\n",
       "      <td>12080777893</td>\n",
       "      <td>3761.380371</td>\n",
       "    </tr>\n",
       "    <tr>\n",
       "      <th>2022-01-04</th>\n",
       "      <td>47406.546875</td>\n",
       "      <td>45752.464844</td>\n",
       "      <td>46458.851562</td>\n",
       "      <td>45897.574219</td>\n",
       "      <td>42494677905</td>\n",
       "      <td>45897.574219</td>\n",
       "      <td>3876.785156</td>\n",
       "      <td>3723.349854</td>\n",
       "      <td>3761.361572</td>\n",
       "      <td>3794.056641</td>\n",
       "      <td>14030925983</td>\n",
       "      <td>3794.056641</td>\n",
       "    </tr>\n",
       "    <tr>\n",
       "      <th>2022-01-05</th>\n",
       "      <td>46929.046875</td>\n",
       "      <td>42798.222656</td>\n",
       "      <td>45899.359375</td>\n",
       "      <td>43569.003906</td>\n",
       "      <td>36851084859</td>\n",
       "      <td>43569.003906</td>\n",
       "      <td>3842.059814</td>\n",
       "      <td>3456.745361</td>\n",
       "      <td>3794.269043</td>\n",
       "      <td>3550.386963</td>\n",
       "      <td>18061338502</td>\n",
       "      <td>3550.386963</td>\n",
       "    </tr>\n",
       "    <tr>\n",
       "      <th>...</th>\n",
       "      <td>...</td>\n",
       "      <td>...</td>\n",
       "      <td>...</td>\n",
       "      <td>...</td>\n",
       "      <td>...</td>\n",
       "      <td>...</td>\n",
       "      <td>...</td>\n",
       "      <td>...</td>\n",
       "      <td>...</td>\n",
       "      <td>...</td>\n",
       "      <td>...</td>\n",
       "      <td>...</td>\n",
       "    </tr>\n",
       "    <tr>\n",
       "      <th>2022-05-28</th>\n",
       "      <td>28814.900391</td>\n",
       "      <td>28554.566406</td>\n",
       "      <td>28622.625000</td>\n",
       "      <td>28814.900391</td>\n",
       "      <td>35519577634</td>\n",
       "      <td>28814.900391</td>\n",
       "      <td>1757.941772</td>\n",
       "      <td>1724.635986</td>\n",
       "      <td>1724.635986</td>\n",
       "      <td>1757.941772</td>\n",
       "      <td>23214777872</td>\n",
       "      <td>1757.941772</td>\n",
       "    </tr>\n",
       "    <tr>\n",
       "      <th>2022-05-29</th>\n",
       "      <td>29498.009766</td>\n",
       "      <td>28841.107422</td>\n",
       "      <td>29019.867188</td>\n",
       "      <td>29445.957031</td>\n",
       "      <td>18093886409</td>\n",
       "      <td>29445.957031</td>\n",
       "      <td>1818.776611</td>\n",
       "      <td>1765.937378</td>\n",
       "      <td>1792.184448</td>\n",
       "      <td>1812.031006</td>\n",
       "      <td>10642556101</td>\n",
       "      <td>1812.031006</td>\n",
       "    </tr>\n",
       "    <tr>\n",
       "      <th>2022-05-30</th>\n",
       "      <td>31949.630859</td>\n",
       "      <td>29303.572266</td>\n",
       "      <td>29443.365234</td>\n",
       "      <td>31726.390625</td>\n",
       "      <td>39277993274</td>\n",
       "      <td>31726.390625</td>\n",
       "      <td>2005.210815</td>\n",
       "      <td>1804.456055</td>\n",
       "      <td>1811.885986</td>\n",
       "      <td>1996.441284</td>\n",
       "      <td>19580808705</td>\n",
       "      <td>1996.441284</td>\n",
       "    </tr>\n",
       "    <tr>\n",
       "      <th>2022-05-31</th>\n",
       "      <td>32249.863281</td>\n",
       "      <td>31286.154297</td>\n",
       "      <td>31723.865234</td>\n",
       "      <td>31792.310547</td>\n",
       "      <td>33538210634</td>\n",
       "      <td>31792.310547</td>\n",
       "      <td>2005.490967</td>\n",
       "      <td>1932.352051</td>\n",
       "      <td>1996.408081</td>\n",
       "      <td>1942.328003</td>\n",
       "      <td>18363115560</td>\n",
       "      <td>1942.328003</td>\n",
       "    </tr>\n",
       "    <tr>\n",
       "      <th>2022-06-01</th>\n",
       "      <td>31957.285156</td>\n",
       "      <td>29501.587891</td>\n",
       "      <td>31792.554688</td>\n",
       "      <td>29799.080078</td>\n",
       "      <td>41135817341</td>\n",
       "      <td>29799.080078</td>\n",
       "      <td>1965.166626</td>\n",
       "      <td>1776.053223</td>\n",
       "      <td>1942.050659</td>\n",
       "      <td>1823.569336</td>\n",
       "      <td>21037797760</td>\n",
       "      <td>1823.569336</td>\n",
       "    </tr>\n",
       "  </tbody>\n",
       "</table>\n",
       "<p>152 rows × 12 columns</p>\n",
       "</div>"
      ],
      "text/plain": [
       "Crypto           BTC-USD                                            \\\n",
       "Info                High           Low          Open         Close   \n",
       "Date                                                                 \n",
       "2022-01-01  47827.312500  46288.484375  46311.746094  47686.812500   \n",
       "2022-01-02  47881.406250  46856.937500  47680.925781  47345.218750   \n",
       "2022-01-03  47510.726562  45835.964844  47343.542969  46458.117188   \n",
       "2022-01-04  47406.546875  45752.464844  46458.851562  45897.574219   \n",
       "2022-01-05  46929.046875  42798.222656  45899.359375  43569.003906   \n",
       "...                  ...           ...           ...           ...   \n",
       "2022-05-28  28814.900391  28554.566406  28622.625000  28814.900391   \n",
       "2022-05-29  29498.009766  28841.107422  29019.867188  29445.957031   \n",
       "2022-05-30  31949.630859  29303.572266  29443.365234  31726.390625   \n",
       "2022-05-31  32249.863281  31286.154297  31723.865234  31792.310547   \n",
       "2022-06-01  31957.285156  29501.587891  31792.554688  29799.080078   \n",
       "\n",
       "Crypto                                     ETH-USD                            \\\n",
       "Info             Volume     Adj Close         High          Low         Open   \n",
       "Date                                                                           \n",
       "2022-01-01  24582667004  47686.812500  3769.917969  3682.286621  3683.047119   \n",
       "2022-01-02  27951569547  47345.218750  3836.161865  3727.357422  3769.298340   \n",
       "2022-01-03  33071628362  46458.117188  3836.198730  3698.047607  3829.535645   \n",
       "2022-01-04  42494677905  45897.574219  3876.785156  3723.349854  3761.361572   \n",
       "2022-01-05  36851084859  43569.003906  3842.059814  3456.745361  3794.269043   \n",
       "...                 ...           ...          ...          ...          ...   \n",
       "2022-05-28  35519577634  28814.900391  1757.941772  1724.635986  1724.635986   \n",
       "2022-05-29  18093886409  29445.957031  1818.776611  1765.937378  1792.184448   \n",
       "2022-05-30  39277993274  31726.390625  2005.210815  1804.456055  1811.885986   \n",
       "2022-05-31  33538210634  31792.310547  2005.490967  1932.352051  1996.408081   \n",
       "2022-06-01  41135817341  29799.080078  1965.166626  1776.053223  1942.050659   \n",
       "\n",
       "Crypto                                             \n",
       "Info              Close       Volume    Adj Close  \n",
       "Date                                               \n",
       "2022-01-01  3769.697021   9776191466  3769.697021  \n",
       "2022-01-02  3829.564941   9881471548  3829.564941  \n",
       "2022-01-03  3761.380371  12080777893  3761.380371  \n",
       "2022-01-04  3794.056641  14030925983  3794.056641  \n",
       "2022-01-05  3550.386963  18061338502  3550.386963  \n",
       "...                 ...          ...          ...  \n",
       "2022-05-28  1757.941772  23214777872  1757.941772  \n",
       "2022-05-29  1812.031006  10642556101  1812.031006  \n",
       "2022-05-30  1996.441284  19580808705  1996.441284  \n",
       "2022-05-31  1942.328003  18363115560  1942.328003  \n",
       "2022-06-01  1823.569336  21037797760  1823.569336  \n",
       "\n",
       "[152 rows x 12 columns]"
      ]
     },
     "execution_count": 9,
     "metadata": {},
     "output_type": "execute_result"
    }
   ],
   "source": [
    "cpt"
   ]
  },
  {
   "cell_type": "code",
   "execution_count": 10,
   "id": "264515a9",
   "metadata": {},
   "outputs": [
    {
     "data": {
      "text/plain": [
       "Crypto   Info     \n",
       "BTC-USD  High        2022-03-28\n",
       "         Low         2022-03-29\n",
       "         Open        2022-01-02\n",
       "         Close       2022-01-01\n",
       "         Volume      2022-01-07\n",
       "         Adj Close   2022-01-01\n",
       "ETH-USD  High        2022-01-04\n",
       "         Low         2022-01-02\n",
       "         Open        2022-01-03\n",
       "         Close       2022-01-02\n",
       "         Volume      2022-05-11\n",
       "         Adj Close   2022-01-02\n",
       "dtype: datetime64[ns]"
      ]
     },
     "execution_count": 10,
     "metadata": {},
     "output_type": "execute_result"
    }
   ],
   "source": [
    "cpt.idxmax()"
   ]
  },
  {
   "cell_type": "code",
   "execution_count": 11,
   "id": "ec17013a",
   "metadata": {},
   "outputs": [
    {
     "data": {
      "text/plain": [
       "Info\n",
       "High         4.808684e+04\n",
       "Low          4.669020e+04\n",
       "Open         4.682185e+04\n",
       "Close        4.712800e+04\n",
       "Volume       3.636218e+10\n",
       "Adj Close    4.712800e+04\n",
       "Name: 2022-03-28 00:00:00, dtype: float64"
      ]
     },
     "execution_count": 11,
     "metadata": {},
     "output_type": "execute_result"
    }
   ],
   "source": [
    "cpt['BTC-USD'].loc['2022-03-28']"
   ]
  },
  {
   "cell_type": "code",
   "execution_count": 12,
   "id": "6b89cc71",
   "metadata": {},
   "outputs": [],
   "source": [
    "returns = pd.DataFrame()"
   ]
  },
  {
   "cell_type": "code",
   "execution_count": 13,
   "id": "d5a2dc01",
   "metadata": {},
   "outputs": [],
   "source": [
    "for x in headers:\n",
    "    returns[x+' Return'] = cpt[x]['Close'].pct_change()"
   ]
  },
  {
   "cell_type": "code",
   "execution_count": 14,
   "id": "7d3dc68e",
   "metadata": {},
   "outputs": [
    {
     "data": {
      "text/html": [
       "<div>\n",
       "<style scoped>\n",
       "    .dataframe tbody tr th:only-of-type {\n",
       "        vertical-align: middle;\n",
       "    }\n",
       "\n",
       "    .dataframe tbody tr th {\n",
       "        vertical-align: top;\n",
       "    }\n",
       "\n",
       "    .dataframe thead th {\n",
       "        text-align: right;\n",
       "    }\n",
       "</style>\n",
       "<table border=\"1\" class=\"dataframe\">\n",
       "  <thead>\n",
       "    <tr style=\"text-align: right;\">\n",
       "      <th></th>\n",
       "      <th>BTC-USD Return</th>\n",
       "      <th>ETH-USD Return</th>\n",
       "    </tr>\n",
       "    <tr>\n",
       "      <th>Date</th>\n",
       "      <th></th>\n",
       "      <th></th>\n",
       "    </tr>\n",
       "  </thead>\n",
       "  <tbody>\n",
       "    <tr>\n",
       "      <th>2022-01-01</th>\n",
       "      <td>NaN</td>\n",
       "      <td>NaN</td>\n",
       "    </tr>\n",
       "    <tr>\n",
       "      <th>2022-01-02</th>\n",
       "      <td>-0.007163</td>\n",
       "      <td>0.015881</td>\n",
       "    </tr>\n",
       "    <tr>\n",
       "      <th>2022-01-03</th>\n",
       "      <td>-0.018737</td>\n",
       "      <td>-0.017805</td>\n",
       "    </tr>\n",
       "    <tr>\n",
       "      <th>2022-01-04</th>\n",
       "      <td>-0.012066</td>\n",
       "      <td>0.008687</td>\n",
       "    </tr>\n",
       "    <tr>\n",
       "      <th>2022-01-05</th>\n",
       "      <td>-0.050734</td>\n",
       "      <td>-0.064224</td>\n",
       "    </tr>\n",
       "    <tr>\n",
       "      <th>...</th>\n",
       "      <td>...</td>\n",
       "      <td>...</td>\n",
       "    </tr>\n",
       "    <tr>\n",
       "      <th>2022-05-28</th>\n",
       "      <td>0.006544</td>\n",
       "      <td>0.019142</td>\n",
       "    </tr>\n",
       "    <tr>\n",
       "      <th>2022-05-29</th>\n",
       "      <td>0.021900</td>\n",
       "      <td>0.030769</td>\n",
       "    </tr>\n",
       "    <tr>\n",
       "      <th>2022-05-30</th>\n",
       "      <td>0.077445</td>\n",
       "      <td>0.101770</td>\n",
       "    </tr>\n",
       "    <tr>\n",
       "      <th>2022-05-31</th>\n",
       "      <td>0.002078</td>\n",
       "      <td>-0.027105</td>\n",
       "    </tr>\n",
       "    <tr>\n",
       "      <th>2022-06-01</th>\n",
       "      <td>-0.062695</td>\n",
       "      <td>-0.061142</td>\n",
       "    </tr>\n",
       "  </tbody>\n",
       "</table>\n",
       "<p>152 rows × 2 columns</p>\n",
       "</div>"
      ],
      "text/plain": [
       "            BTC-USD Return  ETH-USD Return\n",
       "Date                                      \n",
       "2022-01-01             NaN             NaN\n",
       "2022-01-02       -0.007163        0.015881\n",
       "2022-01-03       -0.018737       -0.017805\n",
       "2022-01-04       -0.012066        0.008687\n",
       "2022-01-05       -0.050734       -0.064224\n",
       "...                    ...             ...\n",
       "2022-05-28        0.006544        0.019142\n",
       "2022-05-29        0.021900        0.030769\n",
       "2022-05-30        0.077445        0.101770\n",
       "2022-05-31        0.002078       -0.027105\n",
       "2022-06-01       -0.062695       -0.061142\n",
       "\n",
       "[152 rows x 2 columns]"
      ]
     },
     "execution_count": 14,
     "metadata": {},
     "output_type": "execute_result"
    }
   ],
   "source": [
    "returns"
   ]
  },
  {
   "cell_type": "code",
   "execution_count": 15,
   "id": "8de721dc",
   "metadata": {},
   "outputs": [
    {
     "data": {
      "text/plain": [
       "<seaborn.axisgrid.PairGrid at 0x7fe69d21fd30>"
      ]
     },
     "execution_count": 15,
     "metadata": {},
     "output_type": "execute_result"
    },
    {
     "data": {
      "image/png": "[encoded data removed]",
      "text/plain": [
       "<Figure size 360x360 with 6 Axes>"
      ]
     },
     "metadata": {
      "needs_background": "light"
     },
     "output_type": "display_data"
    }
   ],
   "source": [
    "sns.pairplot(returns)"
   ]
  },
  {
   "cell_type": "code",
   "execution_count": 16,
   "id": "32cb33bb",
   "metadata": {},
   "outputs": [
    {
     "data": {
      "text/plain": [
       "Date\n",
       "2022-01-01         NaN\n",
       "2022-01-02   -0.007163\n",
       "2022-01-03   -0.018737\n",
       "2022-01-04   -0.012066\n",
       "2022-01-05   -0.050734\n",
       "                ...   \n",
       "2022-05-28    0.006544\n",
       "2022-05-29    0.021900\n",
       "2022-05-30    0.077445\n",
       "2022-05-31    0.002078\n",
       "2022-06-01   -0.062695\n",
       "Name: BTC-USD Return, Length: 152, dtype: float64"
      ]
     },
     "execution_count": 16,
     "metadata": {},
     "output_type": "execute_result"
    }
   ],
   "source": [
    "returns['BTC-USD Return']"
   ]
  },
  {
   "cell_type": "code",
   "execution_count": 17,
   "id": "4facfa4c",
   "metadata": {},
   "outputs": [
    {
     "data": {
      "image/png": "[encoded data removed]",
      "text/plain": [
       "<Figure size 360x360 with 1 Axes>"
      ]
     },
     "metadata": {
      "needs_background": "light"
     },
     "output_type": "display_data"
    }
   ],
   "source": [
    "sns.displot(x='BTC-USD Return',kde=True,data=returns)\n",
    "plt.style.use('ggplot')"
   ]
  },
  {
   "cell_type": "code",
   "execution_count": 18,
   "id": "eb4facfd",
   "metadata": {},
   "outputs": [
    {
     "data": {
      "application/vnd.plotly.v1+json": {
       "config": {
        "linkText": "Export to plot.ly",
        "plotlyServerURL": "https://plot.ly",
        "showLink": true
       },
       "data": [
        {
         "line": {
          "color": "rgba(255, 153, 51, 1.0)",
          "dash": "solid",
          "shape": "linear",
          "width": 1.3
         },
         "mode": "lines",
         "name": "BTC-USD",
         "text": "",
         "type": "scatter",
         "x": [
          "2022-01-01",
          "2022-01-02",
          "2022-01-03",
          "2022-01-04",
          "2022-01-05",
          "2022-01-06",
          "2022-01-07",
          "2022-01-08",
          "2022-01-09",
          "2022-01-10",
          "2022-01-11",
          "2022-01-12",
          "2022-01-13",
          "2022-01-14",
          "2022-01-15",
          "2022-01-16",
          "2022-01-17",
          "2022-01-18",
          "2022-01-19",
          "2022-01-20",
          "2022-01-21",
          "2022-01-22",
          "2022-01-23",
          "2022-01-24",
          "2022-01-25",
          "2022-01-26",
          "2022-01-27",
          "2022-01-28",
          "2022-01-29",
          "2022-01-30",
          "2022-01-31",
          "2022-02-01",
          "2022-02-02",
          "2022-02-03",
          "2022-02-04",
          "2022-02-05",
          "2022-02-06",
          "2022-02-07",
          "2022-02-08",
          "2022-02-09",
          "2022-02-10",
          "2022-02-11",
          "2022-02-12",
          "2022-02-13",
          "2022-02-14",
          "2022-02-15",
          "2022-02-16",
          "2022-02-17",
          "2022-02-18",
          "2022-02-19",
          "2022-02-20",
          "2022-02-21",
          "2022-02-22",
          "2022-02-23",
          "2022-02-24",
          "2022-02-25",
          "2022-02-26",
          "2022-02-27",
          "2022-02-28",
          "2022-03-01",
          "2022-03-02",
          "2022-03-03",
          "2022-03-04",
          "2022-03-05",
          "2022-03-06",
          "2022-03-07",
          "2022-03-08",
          "2022-03-09",
          "2022-03-10",
          "2022-03-11",
          "2022-03-12",
          "2022-03-13",
          "2022-03-14",
          "2022-03-15",
          "2022-03-16",
          "2022-03-17",
          "2022-03-18",
          "2022-03-19",
          "2022-03-20",
          "2022-03-21",
          "2022-03-22",
          "2022-03-23",
          "2022-03-24",
          "2022-03-25",
          "2022-03-26",
          "2022-03-27",
          "2022-03-28",
          "2022-03-29",
          "2022-03-30",
          "2022-03-31",
          "2022-04-01",
          "2022-04-02",
          "2022-04-03",
          "2022-04-04",
          "2022-04-05",
          "2022-04-06",
          "2022-04-07",
          "2022-04-08",
          "2022-04-09",
          "2022-04-10",
          "2022-04-11",
          "2022-04-12",
          "2022-04-13",
          "2022-04-14",
          "2022-04-15",
          "2022-04-16",
          "2022-04-17",
          "2022-04-18",
          "2022-04-19",
          "2022-04-20",
          "2022-04-21",
          "2022-04-22",
          "2022-04-23",
          "2022-04-24",
          "2022-04-25",
          "2022-04-26",
          "2022-04-27",
          "2022-04-28",
          "2022-04-29",
          "2022-04-30",
          "2022-05-01",
          "2022-05-02",
          "2022-05-03",
          "2022-05-04",
          "2022-05-05",
          "2022-05-06",
          "2022-05-07",
          "2022-05-08",
          "2022-05-09",
          "2022-05-10",
          "2022-05-11",
          "2022-05-12",
          "2022-05-13",
          "2022-05-14",
          "2022-05-15",
          "2022-05-16",
          "2022-05-17",
          "2022-05-18",
          "2022-05-19",
          "2022-05-20",
          "2022-05-21",
          "2022-05-22",
          "2022-05-23",
          "2022-05-24",
          "2022-05-25",
          "2022-05-26",
          "2022-05-27",
          "2022-05-28",
          "2022-05-29",
          "2022-05-30",
          "2022-05-31",
          "2022-06-01"
         ],
         "y": [
          47686.8125,
          47345.21875,
          46458.1171875,
          45897.57421875,
          43569.00390625,
          43160.9296875,
          41557.90234375,
          41733.94140625,
          41911.6015625,
          41821.26171875,
          42735.85546875,
          43949.1015625,
          42591.5703125,
          43099.69921875,
          43177.3984375,
          43113.87890625,
          42250.55078125,
          42375.6328125,
          41744.328125,
          40680.41796875,
          36457.31640625,
          35030.25,
          36276.8046875,
          36654.328125,
          36954.00390625,
          36852.12109375,
          37138.234375,
          37784.33203125,
          38138.1796875,
          37917.6015625,
          38483.125,
          38743.2734375,
          36952.984375,
          37154.6015625,
          41500.875,
          41441.1640625,
          42412.43359375,
          43840.28515625,
          44118.4453125,
          44338.796875,
          43565.11328125,
          42407.9375,
          42244.46875,
          42197.515625,
          42586.91796875,
          44575.203125,
          43961.859375,
          40538.01171875,
          40030.9765625,
          40122.15625,
          38431.37890625,
          37075.28125,
          38286.02734375,
          37296.5703125,
          38332.609375,
          39214.21875,
          39105.1484375,
          37709.78515625,
          43193.234375,
          44354.63671875,
          43924.1171875,
          42451.7890625,
          39137.60546875,
          39400.5859375,
          38419.984375,
          38062.0390625,
          38737.26953125,
          41982.92578125,
          39437.4609375,
          38794.97265625,
          38904.01171875,
          37849.6640625,
          39666.75390625,
          39338.78515625,
          41143.9296875,
          40951.37890625,
          41801.15625,
          42190.65234375,
          41247.82421875,
          41077.99609375,
          42358.80859375,
          42892.95703125,
          43960.93359375,
          44348.73046875,
          44500.828125,
          46820.4921875,
          47128.00390625,
          47465.73046875,
          47062.6640625,
          45538.67578125,
          46281.64453125,
          45868.94921875,
          46453.56640625,
          46622.67578125,
          45555.9921875,
          43206.73828125,
          43503.84765625,
          42287.6640625,
          42782.13671875,
          42207.671875,
          39521.90234375,
          40127.18359375,
          41166.73046875,
          39935.515625,
          40553.46484375,
          40424.484375,
          39716.953125,
          40826.21484375,
          41502.75,
          41374.37890625,
          40527.36328125,
          39740.3203125,
          39486.73046875,
          39469.29296875,
          40458.30859375,
          38117.4609375,
          39241.12109375,
          39773.828125,
          38609.82421875,
          37714.875,
          38469.09375,
          38529.328125,
          37750.453125,
          39698.37109375,
          36575.140625,
          36040.921875,
          35501.953125,
          34059.265625,
          30296.953125,
          31022.90625,
          28936.35546875,
          29047.751953125,
          29283.103515625,
          30101.265625,
          31305.11328125,
          29862.91796875,
          30425.857421875,
          28720.271484375,
          30314.333984375,
          29200.740234375,
          29432.2265625,
          30323.72265625,
          29098.91015625,
          29655.5859375,
          29562.361328125,
          29267.224609375,
          28627.57421875,
          28814.900390625,
          29445.95703125,
          31726.390625,
          31792.310546875,
          29799.080078125
         ]
        },
        {
         "line": {
          "color": "rgba(55, 128, 191, 1.0)",
          "dash": "solid",
          "shape": "linear",
          "width": 1.3
         },
         "mode": "lines",
         "name": "ETH-USD",
         "text": "",
         "type": "scatter",
         "x": [
          "2022-01-01",
          "2022-01-02",
          "2022-01-03",
          "2022-01-04",
          "2022-01-05",
          "2022-01-06",
          "2022-01-07",
          "2022-01-08",
          "2022-01-09",
          "2022-01-10",
          "2022-01-11",
          "2022-01-12",
          "2022-01-13",
          "2022-01-14",
          "2022-01-15",
          "2022-01-16",
          "2022-01-17",
          "2022-01-18",
          "2022-01-19",
          "2022-01-20",
          "2022-01-21",
          "2022-01-22",
          "2022-01-23",
          "2022-01-24",
          "2022-01-25",
          "2022-01-26",
          "2022-01-27",
          "2022-01-28",
          "2022-01-29",
          "2022-01-30",
          "2022-01-31",
          "2022-02-01",
          "2022-02-02",
          "2022-02-03",
          "2022-02-04",
          "2022-02-05",
          "2022-02-06",
          "2022-02-07",
          "2022-02-08",
          "2022-02-09",
          "2022-02-10",
          "2022-02-11",
          "2022-02-12",
          "2022-02-13",
          "2022-02-14",
          "2022-02-15",
          "2022-02-16",
          "2022-02-17",
          "2022-02-18",
          "2022-02-19",
          "2022-02-20",
          "2022-02-21",
          "2022-02-22",
          "2022-02-23",
          "2022-02-24",
          "2022-02-25",
          "2022-02-26",
          "2022-02-27",
          "2022-02-28",
          "2022-03-01",
          "2022-03-02",
          "2022-03-03",
          "2022-03-04",
          "2022-03-05",
          "2022-03-06",
          "2022-03-07",
          "2022-03-08",
          "2022-03-09",
          "2022-03-10",
          "2022-03-11",
          "2022-03-12",
          "2022-03-13",
          "2022-03-14",
          "2022-03-15",
          "2022-03-16",
          "2022-03-17",
          "2022-03-18",
          "2022-03-19",
          "2022-03-20",
          "2022-03-21",
          "2022-03-22",
          "2022-03-23",
          "2022-03-24",
          "2022-03-25",
          "2022-03-26",
          "2022-03-27",
          "2022-03-28",
          "2022-03-29",
          "2022-03-30",
          "2022-03-31",
          "2022-04-01",
          "2022-04-02",
          "2022-04-03",
          "2022-04-04",
          "2022-04-05",
          "2022-04-06",
          "2022-04-07",
          "2022-04-08",
          "2022-04-09",
          "2022-04-10",
          "2022-04-11",
          "2022-04-12",
          "2022-04-13",
          "2022-04-14",
          "2022-04-15",
          "2022-04-16",
          "2022-04-17",
          "2022-04-18",
          "2022-04-19",
          "2022-04-20",
          "2022-04-21",
          "2022-04-22",
          "2022-04-23",
          "2022-04-24",
          "2022-04-25",
          "2022-04-26",
          "2022-04-27",
          "2022-04-28",
          "2022-04-29",
          "2022-04-30",
          "2022-05-01",
          "2022-05-02",
          "2022-05-03",
          "2022-05-04",
          "2022-05-05",
          "2022-05-06",
          "2022-05-07",
          "2022-05-08",
          "2022-05-09",
          "2022-05-10",
          "2022-05-11",
          "2022-05-12",
          "2022-05-13",
          "2022-05-14",
          "2022-05-15",
          "2022-05-16",
          "2022-05-17",
          "2022-05-18",
          "2022-05-19",
          "2022-05-20",
          "2022-05-21",
          "2022-05-22",
          "2022-05-23",
          "2022-05-24",
          "2022-05-25",
          "2022-05-26",
          "2022-05-27",
          "2022-05-28",
          "2022-05-29",
          "2022-05-30",
          "2022-05-31",
          "2022-06-01"
         ],
         "y": [
          3769.697021484375,
          3829.56494140625,
          3761.38037109375,
          3794.056640625,
          3550.386962890625,
          3418.408203125,
          3193.21044921875,
          3091.97265625,
          3157.75146484375,
          3083.097900390625,
          3238.111572265625,
          3372.25830078125,
          3248.28857421875,
          3310.00146484375,
          3330.53076171875,
          3350.921875,
          3212.304931640625,
          3164.025146484375,
          3095.825927734375,
          3001.1201171875,
          2557.931640625,
          2405.18115234375,
          2535.0390625,
          2440.352294921875,
          2455.93505859375,
          2468.0302734375,
          2423.001220703125,
          2547.092041015625,
          2597.084716796875,
          2603.466552734375,
          2688.27880859375,
          2792.1171875,
          2682.85400390625,
          2679.16259765625,
          2983.5869140625,
          3014.648193359375,
          3057.47607421875,
          3142.470703125,
          3122.608642578125,
          3239.45703125,
          3077.482177734375,
          2927.383544921875,
          2917.36279296875,
          2883.46337890625,
          2933.47900390625,
          3179.877197265625,
          3127.830078125,
          2881.48193359375,
          2785.7275390625,
          2763.701171875,
          2628.6484375,
          2573.816162109375,
          2639.29931640625,
          2590.359619140625,
          2598.067138671875,
          2764.53564453125,
          2781.11181640625,
          2621.8017578125,
          2919.201171875,
          2972.485107421875,
          2950.118408203125,
          2834.468994140625,
          2617.156005859375,
          2664.8310546875,
          2555.037353515625,
          2497.771240234375,
          2576.74755859375,
          2729.783447265625,
          2608.048583984375,
          2559.56298828125,
          2574.754150390625,
          2518.944580078125,
          2590.696044921875,
          2620.149658203125,
          2772.0556640625,
          2814.8544921875,
          2945.343017578125,
          2946.257080078125,
          2860.459228515625,
          2897.9765625,
          2973.131103515625,
          3031.067138671875,
          3108.06201171875,
          3106.67138671875,
          3143.178955078125,
          3291.57763671875,
          3336.634521484375,
          3401.98779296875,
          3385.157958984375,
          3281.642822265625,
          3449.55224609375,
          3445.059326171875,
          3522.83349609375,
          3521.2412109375,
          3411.79248046875,
          3171.69189453125,
          3233.274658203125,
          3192.073974609375,
          3261.916259765625,
          3211.866943359375,
          2981.05224609375,
          3030.37646484375,
          3118.34423828125,
          3019.909423828125,
          3040.91650390625,
          3062.310302734375,
          2993.4033203125,
          3057.606689453125,
          3104.1064453125,
          3077.745849609375,
          2987.480712890625,
          2964.835693359375,
          2938.114013671875,
          2922.732666015625,
          3009.3935546875,
          2808.29833984375,
          2888.9296875,
          2936.94091796875,
          2815.601806640625,
          2730.186767578125,
          2827.756103515625,
          2857.410400390625,
          2783.476318359375,
          2940.644775390625,
          2749.213134765625,
          2694.979736328125,
          2636.093017578125,
          2517.4599609375,
          2245.430419921875,
          2343.510986328125,
          2072.108642578125,
          1961.7015380859375,
          2014.418212890625,
          2056.27392578125,
          2145.706787109375,
          2022.7259521484375,
          2090.4091796875,
          1916.6561279296875,
          2018.336181640625,
          1961.315673828125,
          1974.518310546875,
          2043.170166015625,
          1972.181884765625,
          1978.9827880859375,
          1944.827880859375,
          1803.913330078125,
          1724.9228515625,
          1757.9417724609375,
          1812.031005859375,
          1996.4412841796875,
          1942.3280029296875,
          1823.5693359375
         ]
        }
       ],
       "layout": {
        "legend": {
         "bgcolor": "#F5F6F9",
         "font": {
          "color": "#4D5663"
         }
        },
        "paper_bgcolor": "#F5F6F9",
        "plot_bgcolor": "#F5F6F9",
        "template": {
         "data": {
          "bar": [
           {
            "error_x": {
             "color": "#2a3f5f"
            },
            "error_y": {
             "color": "#2a3f5f"
            },
            "marker": {
             "line": {
              "color": "#E5ECF6",
              "width": 0.5
             }
            },
            "type": "bar"
           }
          ],
          "barpolar": [
           {
            "marker": {
             "line": {
              "color": "#E5ECF6",
              "width": 0.5
             }
            },
            "type": "barpolar"
           }
          ],
          "carpet": [
           {
            "aaxis": {
             "endlinecolor": "#2a3f5f",
             "gridcolor": "white",
             "linecolor": "white",
             "minorgridcolor": "white",
             "startlinecolor": "#2a3f5f"
            },
            "baxis": {
             "endlinecolor": "#2a3f5f",
             "gridcolor": "white",
             "linecolor": "white",
             "minorgridcolor": "white",
             "startlinecolor": "#2a3f5f"
            },
            "type": "carpet"
           }
          ],
          "choropleth": [
           {
            "colorbar": {
             "outlinewidth": 0,
             "ticks": ""
            },
            "type": "choropleth"
           }
          ],
          "contour": [
           {
            "colorbar": {
             "outlinewidth": 0,
             "ticks": ""
            },
            "colorscale": [
             [
              0,
              "#0d0887"
             ],
             [
              0.1111111111111111,
              "#46039f"
             ],
             [
              0.2222222222222222,
              "#7201a8"
             ],
             [
              0.3333333333333333,
              "#9c179e"
             ],
             [
              0.4444444444444444,
              "#bd3786"
             ],
             [
              0.5555555555555556,
              "#d8576b"
             ],
             [
              0.6666666666666666,
              "#ed7953"
             ],
             [
              0.7777777777777778,
              "#fb9f3a"
             ],
             [
              0.8888888888888888,
              "#fdca26"
             ],
             [
              1,
              "#f0f921"
             ]
            ],
            "type": "contour"
           }
          ],
          "contourcarpet": [
           {
            "colorbar": {
             "outlinewidth": 0,
             "ticks": ""
            },
            "type": "contourcarpet"
           }
          ],
          "heatmap": [
           {
            "colorbar": {
             "outlinewidth": 0,
             "ticks": ""
            },
            "colorscale": [
             [
              0,
              "#0d0887"
             ],
             [
              0.1111111111111111,
              "#46039f"
             ],
             [
              0.2222222222222222,
              "#7201a8"
             ],
             [
              0.3333333333333333,
              "#9c179e"
             ],
             [
              0.4444444444444444,
              "#bd3786"
             ],
             [
              0.5555555555555556,
              "#d8576b"
             ],
             [
              0.6666666666666666,
              "#ed7953"
             ],
             [
              0.7777777777777778,
              "#fb9f3a"
             ],
             [
              0.8888888888888888,
              "#fdca26"
             ],
             [
              1,
              "#f0f921"
             ]
            ],
            "type": "heatmap"
           }
          ],
          "heatmapgl": [
           {
            "colorbar": {
             "outlinewidth": 0,
             "ticks": ""
            },
            "colorscale": [
             [
              0,
              "#0d0887"
             ],
             [
              0.1111111111111111,
              "#46039f"
             ],
             [
              0.2222222222222222,
              "#7201a8"
             ],
             [
              0.3333333333333333,
              "#9c179e"
             ],
             [
              0.4444444444444444,
              "#bd3786"
             ],
             [
              0.5555555555555556,
              "#d8576b"
             ],
             [
              0.6666666666666666,
              "#ed7953"
             ],
             [
              0.7777777777777778,
              "#fb9f3a"
             ],
             [
              0.8888888888888888,
              "#fdca26"
             ],
             [
              1,
              "#f0f921"
             ]
            ],
            "type": "heatmapgl"
           }
          ],
          "histogram": [
           {
            "marker": {
             "colorbar": {
              "outlinewidth": 0,
              "ticks": ""
             }
            },
            "type": "histogram"
           }
          ],
          "histogram2d": [
           {
            "colorbar": {
             "outlinewidth": 0,
             "ticks": ""
            },
            "colorscale": [
             [
              0,
              "#0d0887"
             ],
             [
              0.1111111111111111,
              "#46039f"
             ],
             [
              0.2222222222222222,
              "#7201a8"
             ],
             [
              0.3333333333333333,
              "#9c179e"
             ],
             [
              0.4444444444444444,
              "#bd3786"
             ],
             [
              0.5555555555555556,
              "#d8576b"
             ],
             [
              0.6666666666666666,
              "#ed7953"
             ],
             [
              0.7777777777777778,
              "#fb9f3a"
             ],
             [
              0.8888888888888888,
              "#fdca26"
             ],
             [
              1,
              "#f0f921"
             ]
            ],
            "type": "histogram2d"
           }
          ],
          "histogram2dcontour": [
           {
            "colorbar": {
             "outlinewidth": 0,
             "ticks": ""
            },
            "colorscale": [
             [
              0,
              "#0d0887"
             ],
             [
              0.1111111111111111,
              "#46039f"
             ],
             [
              0.2222222222222222,
              "#7201a8"
             ],
             [
              0.3333333333333333,
              "#9c179e"
             ],
             [
              0.4444444444444444,
              "#bd3786"
             ],
             [
              0.5555555555555556,
              "#d8576b"
             ],
             [
              0.6666666666666666,
              "#ed7953"
             ],
             [
              0.7777777777777778,
              "#fb9f3a"
             ],
             [
              0.8888888888888888,
              "#fdca26"
             ],
             [
              1,
              "#f0f921"
             ]
            ],
            "type": "histogram2dcontour"
           }
          ],
          "mesh3d": [
           {
            "colorbar": {
             "outlinewidth": 0,
             "ticks": ""
            },
            "type": "mesh3d"
           }
          ],
          "parcoords": [
           {
            "line": {
             "colorbar": {
              "outlinewidth": 0,
              "ticks": ""
             }
            },
            "type": "parcoords"
           }
          ],
          "pie": [
           {
            "automargin": true,
            "type": "pie"
           }
          ],
          "scatter": [
           {
            "marker": {
             "colorbar": {
              "outlinewidth": 0,
              "ticks": ""
             }
            },
            "type": "scatter"
           }
          ],
          "scatter3d": [
           {
            "line": {
             "colorbar": {
              "outlinewidth": 0,
              "ticks": ""
             }
            },
            "marker": {
             "colorbar": {
              "outlinewidth": 0,
              "ticks": ""
             }
            },
            "type": "scatter3d"
           }
          ],
          "scattercarpet": [
           {
            "marker": {
             "colorbar": {
              "outlinewidth": 0,
              "ticks": ""
             }
            },
            "type": "scattercarpet"
           }
          ],
          "scattergeo": [
           {
            "marker": {
             "colorbar": {
              "outlinewidth": 0,
              "ticks": ""
             }
            },
            "type": "scattergeo"
           }
          ],
          "scattergl": [
           {
            "marker": {
             "colorbar": {
              "outlinewidth": 0,
              "ticks": ""
             }
            },
            "type": "scattergl"
           }
          ],
          "scattermapbox": [
           {
            "marker": {
             "colorbar": {
              "outlinewidth": 0,
              "ticks": ""
             }
            },
            "type": "scattermapbox"
           }
          ],
          "scatterpolar": [
           {
            "marker": {
             "colorbar": {
              "outlinewidth": 0,
              "ticks": ""
             }
            },
            "type": "scatterpolar"
           }
          ],
          "scatterpolargl": [
           {
            "marker": {
             "colorbar": {
              "outlinewidth": 0,
              "ticks": ""
             }
            },
            "type": "scatterpolargl"
           }
          ],
          "scatterternary": [
           {
            "marker": {
             "colorbar": {
              "outlinewidth": 0,
              "ticks": ""
             }
            },
            "type": "scatterternary"
           }
          ],
          "surface": [
           {
            "colorbar": {
             "outlinewidth": 0,
             "ticks": ""
            },
            "colorscale": [
             [
              0,
              "#0d0887"
             ],
             [
              0.1111111111111111,
              "#46039f"
             ],
             [
              0.2222222222222222,
              "#7201a8"
             ],
             [
              0.3333333333333333,
              "#9c179e"
             ],
             [
              0.4444444444444444,
              "#bd3786"
             ],
             [
              0.5555555555555556,
              "#d8576b"
             ],
             [
              0.6666666666666666,
              "#ed7953"
             ],
             [
              0.7777777777777778,
              "#fb9f3a"
             ],
             [
              0.8888888888888888,
              "#fdca26"
             ],
             [
              1,
              "#f0f921"
             ]
            ],
            "type": "surface"
           }
          ],
          "table": [
           {
            "cells": {
             "fill": {
              "color": "#EBF0F8"
             },
             "line": {
              "color": "white"
             }
            },
            "header": {
             "fill": {
              "color": "#C8D4E3"
             },
             "line": {
              "color": "white"
             }
            },
            "type": "table"
           }
          ]
         },
         "layout": {
          "annotationdefaults": {
           "arrowcolor": "#2a3f5f",
           "arrowhead": 0,
           "arrowwidth": 1
          },
          "autotypenumbers": "strict",
          "coloraxis": {
           "colorbar": {
            "outlinewidth": 0,
            "ticks": ""
           }
          },
          "colorscale": {
           "diverging": [
            [
             0,
             "#8e0152"
            ],
            [
             0.1,
             "#c51b7d"
            ],
            [
             0.2,
             "#de77ae"
            ],
            [
             0.3,
             "#f1b6da"
            ],
            [
             0.4,
             "#fde0ef"
            ],
            [
             0.5,
             "#f7f7f7"
            ],
            [
             0.6,
             "#e6f5d0"
            ],
            [
             0.7,
             "#b8e186"
            ],
            [
             0.8,
             "#7fbc41"
            ],
            [
             0.9,
             "#4d9221"
            ],
            [
             1,
             "#276419"
            ]
           ],
           "sequential": [
            [
             0,
             "#0d0887"
            ],
            [
             0.1111111111111111,
             "#46039f"
            ],
            [
             0.2222222222222222,
             "#7201a8"
            ],
            [
             0.3333333333333333,
             "#9c179e"
            ],
            [
             0.4444444444444444,
             "#bd3786"
            ],
            [
             0.5555555555555556,
             "#d8576b"
            ],
            [
             0.6666666666666666,
             "#ed7953"
            ],
            [
             0.7777777777777778,
             "#fb9f3a"
            ],
            [
             0.8888888888888888,
             "#fdca26"
            ],
            [
             1,
             "#f0f921"
            ]
           ],
           "sequentialminus": [
            [
             0,
             "#0d0887"
            ],
            [
             0.1111111111111111,
             "#46039f"
            ],
            [
             0.2222222222222222,
             "#7201a8"
            ],
            [
             0.3333333333333333,
             "#9c179e"
            ],
            [
             0.4444444444444444,
             "#bd3786"
            ],
            [
             0.5555555555555556,
             "#d8576b"
            ],
            [
             0.6666666666666666,
             "#ed7953"
            ],
            [
             0.7777777777777778,
             "#fb9f3a"
            ],
            [
             0.8888888888888888,
             "#fdca26"
            ],
            [
             1,
             "#f0f921"
            ]
           ]
          },
          "colorway": [
           "#636efa",
           "#EF553B",
           "#00cc96",
           "#ab63fa",
           "#FFA15A",
           "#19d3f3",
           "#FF6692",
           "#B6E880",
           "#FF97FF",
           "#FECB52"
          ],
          "font": {
           "color": "#2a3f5f"
          },
          "geo": {
           "bgcolor": "white",
           "lakecolor": "white",
           "landcolor": "#E5ECF6",
           "showlakes": true,
           "showland": true,
           "subunitcolor": "white"
          },
          "hoverlabel": {
           "align": "left"
          },
          "hovermode": "closest",
          "mapbox": {
           "style": "light"
          },
          "paper_bgcolor": "white",
          "plot_bgcolor": "#E5ECF6",
          "polar": {
           "angularaxis": {
            "gridcolor": "white",
            "linecolor": "white",
            "ticks": ""
           },
           "bgcolor": "#E5ECF6",
           "radialaxis": {
            "gridcolor": "white",
            "linecolor": "white",
            "ticks": ""
           }
          },
          "scene": {
           "xaxis": {
            "backgroundcolor": "#E5ECF6",
            "gridcolor": "white",
            "gridwidth": 2,
            "linecolor": "white",
            "showbackground": true,
            "ticks": "",
            "zerolinecolor": "white"
           },
           "yaxis": {
            "backgroundcolor": "#E5ECF6",
            "gridcolor": "white",
            "gridwidth": 2,
            "linecolor": "white",
            "showbackground": true,
            "ticks": "",
            "zerolinecolor": "white"
           },
           "zaxis": {
            "backgroundcolor": "#E5ECF6",
            "gridcolor": "white",
            "gridwidth": 2,
            "linecolor": "white",
            "showbackground": true,
            "ticks": "",
            "zerolinecolor": "white"
           }
          },
          "shapedefaults": {
           "line": {
            "color": "#2a3f5f"
           }
          },
          "ternary": {
           "aaxis": {
            "gridcolor": "white",
            "linecolor": "white",
            "ticks": ""
           },
           "baxis": {
            "gridcolor": "white",
            "linecolor": "white",
            "ticks": ""
           },
           "bgcolor": "#E5ECF6",
           "caxis": {
            "gridcolor": "white",
            "linecolor": "white",
            "ticks": ""
           }
          },
          "title": {
           "x": 0.05
          },
          "xaxis": {
           "automargin": true,
           "gridcolor": "white",
           "linecolor": "white",
           "ticks": "",
           "title": {
            "standoff": 15
           },
           "zerolinecolor": "white",
           "zerolinewidth": 2
          },
          "yaxis": {
           "automargin": true,
           "gridcolor": "white",
           "linecolor": "white",
           "ticks": "",
           "title": {
            "standoff": 15
           },
           "zerolinecolor": "white",
           "zerolinewidth": 2
          }
         }
        },
        "title": {
         "font": {
          "color": "#4D5663"
         }
        },
        "xaxis": {
         "gridcolor": "#E1E5ED",
         "showgrid": true,
         "tickfont": {
          "color": "#4D5663"
         },
         "title": {
          "font": {
           "color": "#4D5663"
          },
          "text": ""
         },
         "zerolinecolor": "#E1E5ED"
        },
        "yaxis": {
         "gridcolor": "#E1E5ED",
         "showgrid": true,
         "tickfont": {
          "color": "#4D5663"
         },
         "title": {
          "font": {
           "color": "#4D5663"
          },
          "text": ""
         },
         "zerolinecolor": "#E1E5ED"
        }
       }
      },
      "text/html": [
       "<div>                            <div id=\"f4aeb33c-593b-4595-adfb-2032120139db\" class=\"plotly-graph-div\" style=\"height:525px; width:100%;\"></div>            <script type=\"text/javascript\">                require([\"plotly\"], function(Plotly) {                    window.PLOTLYENV=window.PLOTLYENV || {};\n",
       "                    window.PLOTLYENV.BASE_URL='https://plot.ly';                                    if (document.getElementById(\"f4aeb33c-593b-4595-adfb-2032120139db\")) {                    Plotly.newPlot(                        \"f4aeb33c-593b-4595-adfb-2032120139db\",                        [{\"line\": {\"color\": \"rgba(255, 153, 51, 1.0)\", \"dash\": \"solid\", \"shape\": \"linear\", \"width\": 1.3}, \"mode\": \"lines\", \"name\": \"BTC-USD\", \"text\": \"\", \"type\": \"scatter\", \"x\": [\"2022-01-01\", \"2022-01-02\", \"2022-01-03\", \"2022-01-04\", \"2022-01-05\", \"2022-01-06\", \"2022-01-07\", \"2022-01-08\", \"2022-01-09\", \"2022-01-10\", \"2022-01-11\", \"2022-01-12\", \"2022-01-13\", \"2022-01-14\", \"2022-01-15\", \"2022-01-16\", \"2022-01-17\", \"2022-01-18\", \"2022-01-19\", \"2022-01-20\", \"2022-01-21\", \"2022-01-22\", \"2022-01-23\", \"2022-01-24\", \"2022-01-25\", \"2022-01-26\", \"2022-01-27\", \"2022-01-28\", \"2022-01-29\", \"2022-01-30\", \"2022-01-31\", \"2022-02-01\", \"2022-02-02\", \"2022-02-03\", \"2022-02-04\", \"2022-02-05\", \"2022-02-06\", \"2022-02-07\", \"2022-02-08\", \"2022-02-09\", \"2022-02-10\", \"2022-02-11\", \"2022-02-12\", \"2022-02-13\", \"2022-02-14\", \"2022-02-15\", \"2022-02-16\", \"2022-02-17\", \"2022-02-18\", \"2022-02-19\", \"2022-02-20\", \"2022-02-21\", \"2022-02-22\", \"2022-02-23\", \"2022-02-24\", \"2022-02-25\", \"2022-02-26\", \"2022-02-27\", \"2022-02-28\", \"2022-03-01\", \"2022-03-02\", \"2022-03-03\", \"2022-03-04\", \"2022-03-05\", \"2022-03-06\", \"2022-03-07\", \"2022-03-08\", \"2022-03-09\", \"2022-03-10\", \"2022-03-11\", \"2022-03-12\", \"2022-03-13\", \"2022-03-14\", \"2022-03-15\", \"2022-03-16\", \"2022-03-17\", \"2022-03-18\", \"2022-03-19\", \"2022-03-20\", \"2022-03-21\", \"2022-03-22\", \"2022-03-23\", \"2022-03-24\", \"2022-03-25\", \"2022-03-26\", \"2022-03-27\", \"2022-03-28\", \"2022-03-29\", \"2022-03-30\", \"2022-03-31\", \"2022-04-01\", \"2022-04-02\", \"2022-04-03\", \"2022-04-04\", \"2022-04-05\", \"2022-04-06\", \"2022-04-07\", \"2022-04-08\", \"2022-04-09\", \"2022-04-10\", \"2022-04-11\", \"2022-04-12\", \"2022-04-13\", \"2022-04-14\", \"2022-04-15\", \"2022-04-16\", \"2022-04-17\", \"2022-04-18\", \"2022-04-19\", \"2022-04-20\", \"2022-04-21\", \"2022-04-22\", \"2022-04-23\", \"2022-04-24\", \"2022-04-25\", \"2022-04-26\", \"2022-04-27\", \"2022-04-28\", \"2022-04-29\", \"2022-04-30\", \"2022-05-01\", \"2022-05-02\", \"2022-05-03\", \"2022-05-04\", \"2022-05-05\", \"2022-05-06\", \"2022-05-07\", \"2022-05-08\", \"2022-05-09\", \"2022-05-10\", \"2022-05-11\", \"2022-05-12\", \"2022-05-13\", \"2022-05-14\", \"2022-05-15\", \"2022-05-16\", \"2022-05-17\", \"2022-05-18\", \"2022-05-19\", \"2022-05-20\", \"2022-05-21\", \"2022-05-22\", \"2022-05-23\", \"2022-05-24\", \"2022-05-25\", \"2022-05-26\", \"2022-05-27\", \"2022-05-28\", \"2022-05-29\", \"2022-05-30\", \"2022-05-31\", \"2022-06-01\"], \"y\": [47686.8125, 47345.21875, 46458.1171875, 45897.57421875, 43569.00390625, 43160.9296875, 41557.90234375, 41733.94140625, 41911.6015625, 41821.26171875, 42735.85546875, 43949.1015625, 42591.5703125, 43099.69921875, 43177.3984375, 43113.87890625, 42250.55078125, 42375.6328125, 41744.328125, 40680.41796875, 36457.31640625, 35030.25, 36276.8046875, 36654.328125, 36954.00390625, 36852.12109375, 37138.234375, 37784.33203125, 38138.1796875, 37917.6015625, 38483.125, 38743.2734375, 36952.984375, 37154.6015625, 41500.875, 41441.1640625, 42412.43359375, 43840.28515625, 44118.4453125, 44338.796875, 43565.11328125, 42407.9375, 42244.46875, 42197.515625, 42586.91796875, 44575.203125, 43961.859375, 40538.01171875, 40030.9765625, 40122.15625, 38431.37890625, 37075.28125, 38286.02734375, 37296.5703125, 38332.609375, 39214.21875, 39105.1484375, 37709.78515625, 43193.234375, 44354.63671875, 43924.1171875, 42451.7890625, 39137.60546875, 39400.5859375, 38419.984375, 38062.0390625, 38737.26953125, 41982.92578125, 39437.4609375, 38794.97265625, 38904.01171875, 37849.6640625, 39666.75390625, 39338.78515625, 41143.9296875, 40951.37890625, 41801.15625, 42190.65234375, 41247.82421875, 41077.99609375, 42358.80859375, 42892.95703125, 43960.93359375, 44348.73046875, 44500.828125, 46820.4921875, 47128.00390625, 47465.73046875, 47062.6640625, 45538.67578125, 46281.64453125, 45868.94921875, 46453.56640625, 46622.67578125, 45555.9921875, 43206.73828125, 43503.84765625, 42287.6640625, 42782.13671875, 42207.671875, 39521.90234375, 40127.18359375, 41166.73046875, 39935.515625, 40553.46484375, 40424.484375, 39716.953125, 40826.21484375, 41502.75, 41374.37890625, 40527.36328125, 39740.3203125, 39486.73046875, 39469.29296875, 40458.30859375, 38117.4609375, 39241.12109375, 39773.828125, 38609.82421875, 37714.875, 38469.09375, 38529.328125, 37750.453125, 39698.37109375, 36575.140625, 36040.921875, 35501.953125, 34059.265625, 30296.953125, 31022.90625, 28936.35546875, 29047.751953125, 29283.103515625, 30101.265625, 31305.11328125, 29862.91796875, 30425.857421875, 28720.271484375, 30314.333984375, 29200.740234375, 29432.2265625, 30323.72265625, 29098.91015625, 29655.5859375, 29562.361328125, 29267.224609375, 28627.57421875, 28814.900390625, 29445.95703125, 31726.390625, 31792.310546875, 29799.080078125]}, {\"line\": {\"color\": \"rgba(55, 128, 191, 1.0)\", \"dash\": \"solid\", \"shape\": \"linear\", \"width\": 1.3}, \"mode\": \"lines\", \"name\": \"ETH-USD\", \"text\": \"\", \"type\": \"scatter\", \"x\": [\"2022-01-01\", \"2022-01-02\", \"2022-01-03\", \"2022-01-04\", \"2022-01-05\", \"2022-01-06\", \"2022-01-07\", \"2022-01-08\", \"2022-01-09\", \"2022-01-10\", \"2022-01-11\", \"2022-01-12\", \"2022-01-13\", \"2022-01-14\", \"2022-01-15\", \"2022-01-16\", \"2022-01-17\", \"2022-01-18\", \"2022-01-19\", \"2022-01-20\", \"2022-01-21\", \"2022-01-22\", \"2022-01-23\", \"2022-01-24\", \"2022-01-25\", \"2022-01-26\", \"2022-01-27\", \"2022-01-28\", \"2022-01-29\", \"2022-01-30\", \"2022-01-31\", \"2022-02-01\", \"2022-02-02\", \"2022-02-03\", \"2022-02-04\", \"2022-02-05\", \"2022-02-06\", \"2022-02-07\", \"2022-02-08\", \"2022-02-09\", \"2022-02-10\", \"2022-02-11\", \"2022-02-12\", \"2022-02-13\", \"2022-02-14\", \"2022-02-15\", \"2022-02-16\", \"2022-02-17\", \"2022-02-18\", \"2022-02-19\", \"2022-02-20\", \"2022-02-21\", \"2022-02-22\", \"2022-02-23\", \"2022-02-24\", \"2022-02-25\", \"2022-02-26\", \"2022-02-27\", \"2022-02-28\", \"2022-03-01\", \"2022-03-02\", \"2022-03-03\", \"2022-03-04\", \"2022-03-05\", \"2022-03-06\", \"2022-03-07\", \"2022-03-08\", \"2022-03-09\", \"2022-03-10\", \"2022-03-11\", \"2022-03-12\", \"2022-03-13\", \"2022-03-14\", \"2022-03-15\", \"2022-03-16\", \"2022-03-17\", \"2022-03-18\", \"2022-03-19\", \"2022-03-20\", \"2022-03-21\", \"2022-03-22\", \"2022-03-23\", \"2022-03-24\", \"2022-03-25\", \"2022-03-26\", \"2022-03-27\", \"2022-03-28\", \"2022-03-29\", \"2022-03-30\", \"2022-03-31\", \"2022-04-01\", \"2022-04-02\", \"2022-04-03\", \"2022-04-04\", \"2022-04-05\", \"2022-04-06\", \"2022-04-07\", \"2022-04-08\", \"2022-04-09\", \"2022-04-10\", \"2022-04-11\", \"2022-04-12\", \"2022-04-13\", \"2022-04-14\", \"2022-04-15\", \"2022-04-16\", \"2022-04-17\", \"2022-04-18\", \"2022-04-19\", \"2022-04-20\", \"2022-04-21\", \"2022-04-22\", \"2022-04-23\", \"2022-04-24\", \"2022-04-25\", \"2022-04-26\", \"2022-04-27\", \"2022-04-28\", \"2022-04-29\", \"2022-04-30\", \"2022-05-01\", \"2022-05-02\", \"2022-05-03\", \"2022-05-04\", \"2022-05-05\", \"2022-05-06\", \"2022-05-07\", \"2022-05-08\", \"2022-05-09\", \"2022-05-10\", \"2022-05-11\", \"2022-05-12\", \"2022-05-13\", \"2022-05-14\", \"2022-05-15\", \"2022-05-16\", \"2022-05-17\", \"2022-05-18\", \"2022-05-19\", \"2022-05-20\", \"2022-05-21\", \"2022-05-22\", \"2022-05-23\", \"2022-05-24\", \"2022-05-25\", \"2022-05-26\", \"2022-05-27\", \"2022-05-28\", \"2022-05-29\", \"2022-05-30\", \"2022-05-31\", \"2022-06-01\"], \"y\": [3769.697021484375, 3829.56494140625, 3761.38037109375, 3794.056640625, 3550.386962890625, 3418.408203125, 3193.21044921875, 3091.97265625, 3157.75146484375, 3083.097900390625, 3238.111572265625, 3372.25830078125, 3248.28857421875, 3310.00146484375, 3330.53076171875, 3350.921875, 3212.304931640625, 3164.025146484375, 3095.825927734375, 3001.1201171875, 2557.931640625, 2405.18115234375, 2535.0390625, 2440.352294921875, 2455.93505859375, 2468.0302734375, 2423.001220703125, 2547.092041015625, 2597.084716796875, 2603.466552734375, 2688.27880859375, 2792.1171875, 2682.85400390625, 2679.16259765625, 2983.5869140625, 3014.648193359375, 3057.47607421875, 3142.470703125, 3122.608642578125, 3239.45703125, 3077.482177734375, 2927.383544921875, 2917.36279296875, 2883.46337890625, 2933.47900390625, 3179.877197265625, 3127.830078125, 2881.48193359375, 2785.7275390625, 2763.701171875, 2628.6484375, 2573.816162109375, 2639.29931640625, 2590.359619140625, 2598.067138671875, 2764.53564453125, 2781.11181640625, 2621.8017578125, 2919.201171875, 2972.485107421875, 2950.118408203125, 2834.468994140625, 2617.156005859375, 2664.8310546875, 2555.037353515625, 2497.771240234375, 2576.74755859375, 2729.783447265625, 2608.048583984375, 2559.56298828125, 2574.754150390625, 2518.944580078125, 2590.696044921875, 2620.149658203125, 2772.0556640625, 2814.8544921875, 2945.343017578125, 2946.257080078125, 2860.459228515625, 2897.9765625, 2973.131103515625, 3031.067138671875, 3108.06201171875, 3106.67138671875, 3143.178955078125, 3291.57763671875, 3336.634521484375, 3401.98779296875, 3385.157958984375, 3281.642822265625, 3449.55224609375, 3445.059326171875, 3522.83349609375, 3521.2412109375, 3411.79248046875, 3171.69189453125, 3233.274658203125, 3192.073974609375, 3261.916259765625, 3211.866943359375, 2981.05224609375, 3030.37646484375, 3118.34423828125, 3019.909423828125, 3040.91650390625, 3062.310302734375, 2993.4033203125, 3057.606689453125, 3104.1064453125, 3077.745849609375, 2987.480712890625, 2964.835693359375, 2938.114013671875, 2922.732666015625, 3009.3935546875, 2808.29833984375, 2888.9296875, 2936.94091796875, 2815.601806640625, 2730.186767578125, 2827.756103515625, 2857.410400390625, 2783.476318359375, 2940.644775390625, 2749.213134765625, 2694.979736328125, 2636.093017578125, 2517.4599609375, 2245.430419921875, 2343.510986328125, 2072.108642578125, 1961.7015380859375, 2014.418212890625, 2056.27392578125, 2145.706787109375, 2022.7259521484375, 2090.4091796875, 1916.6561279296875, 2018.336181640625, 1961.315673828125, 1974.518310546875, 2043.170166015625, 1972.181884765625, 1978.9827880859375, 1944.827880859375, 1803.913330078125, 1724.9228515625, 1757.9417724609375, 1812.031005859375, 1996.4412841796875, 1942.3280029296875, 1823.5693359375]}],                        {\"legend\": {\"bgcolor\": \"#F5F6F9\", \"font\": {\"color\": \"#4D5663\"}}, \"paper_bgcolor\": \"#F5F6F9\", \"plot_bgcolor\": \"#F5F6F9\", \"template\": {\"data\": {\"bar\": [{\"error_x\": {\"color\": \"#2a3f5f\"}, \"error_y\": {\"color\": \"#2a3f5f\"}, \"marker\": {\"line\": {\"color\": \"#E5ECF6\", \"width\": 0.5}}, \"type\": \"bar\"}], \"barpolar\": [{\"marker\": {\"line\": {\"color\": \"#E5ECF6\", \"width\": 0.5}}, \"type\": \"barpolar\"}], \"carpet\": [{\"aaxis\": {\"endlinecolor\": \"#2a3f5f\", \"gridcolor\": \"white\", \"linecolor\": \"white\", \"minorgridcolor\": \"white\", \"startlinecolor\": \"#2a3f5f\"}, \"baxis\": {\"endlinecolor\": \"#2a3f5f\", \"gridcolor\": \"white\", \"linecolor\": \"white\", \"minorgridcolor\": \"white\", \"startlinecolor\": \"#2a3f5f\"}, \"type\": \"carpet\"}], \"choropleth\": [{\"colorbar\": {\"outlinewidth\": 0, \"ticks\": \"\"}, \"type\": \"choropleth\"}], \"contour\": [{\"colorbar\": {\"outlinewidth\": 0, \"ticks\": \"\"}, \"colorscale\": [[0.0, \"#0d0887\"], [0.1111111111111111, \"#46039f\"], [0.2222222222222222, \"#7201a8\"], [0.3333333333333333, \"#9c179e\"], [0.4444444444444444, \"#bd3786\"], [0.5555555555555556, \"#d8576b\"], [0.6666666666666666, \"#ed7953\"], [0.7777777777777778, \"#fb9f3a\"], [0.8888888888888888, \"#fdca26\"], [1.0, \"#f0f921\"]], \"type\": \"contour\"}], \"contourcarpet\": [{\"colorbar\": {\"outlinewidth\": 0, \"ticks\": \"\"}, \"type\": \"contourcarpet\"}], \"heatmap\": [{\"colorbar\": {\"outlinewidth\": 0, \"ticks\": \"\"}, \"colorscale\": [[0.0, \"#0d0887\"], [0.1111111111111111, \"#46039f\"], [0.2222222222222222, \"#7201a8\"], [0.3333333333333333, \"#9c179e\"], [0.4444444444444444, \"#bd3786\"], [0.5555555555555556, \"#d8576b\"], [0.6666666666666666, \"#ed7953\"], [0.7777777777777778, \"#fb9f3a\"], [0.8888888888888888, \"#fdca26\"], [1.0, \"#f0f921\"]], \"type\": \"heatmap\"}], \"heatmapgl\": [{\"colorbar\": {\"outlinewidth\": 0, \"ticks\": \"\"}, \"colorscale\": [[0.0, \"#0d0887\"], [0.1111111111111111, \"#46039f\"], [0.2222222222222222, \"#7201a8\"], [0.3333333333333333, \"#9c179e\"], [0.4444444444444444, \"#bd3786\"], [0.5555555555555556, \"#d8576b\"], [0.6666666666666666, \"#ed7953\"], [0.7777777777777778, \"#fb9f3a\"], [0.8888888888888888, \"#fdca26\"], [1.0, \"#f0f921\"]], \"type\": \"heatmapgl\"}], \"histogram\": [{\"marker\": {\"colorbar\": {\"outlinewidth\": 0, \"ticks\": \"\"}}, \"type\": \"histogram\"}], \"histogram2d\": [{\"colorbar\": {\"outlinewidth\": 0, \"ticks\": \"\"}, \"colorscale\": [[0.0, \"#0d0887\"], [0.1111111111111111, \"#46039f\"], [0.2222222222222222, \"#7201a8\"], [0.3333333333333333, \"#9c179e\"], [0.4444444444444444, \"#bd3786\"], [0.5555555555555556, \"#d8576b\"], [0.6666666666666666, \"#ed7953\"], [0.7777777777777778, \"#fb9f3a\"], [0.8888888888888888, \"#fdca26\"], [1.0, \"#f0f921\"]], \"type\": \"histogram2d\"}], \"histogram2dcontour\": [{\"colorbar\": {\"outlinewidth\": 0, \"ticks\": \"\"}, \"colorscale\": [[0.0, \"#0d0887\"], [0.1111111111111111, \"#46039f\"], [0.2222222222222222, \"#7201a8\"], [0.3333333333333333, \"#9c179e\"], [0.4444444444444444, \"#bd3786\"], [0.5555555555555556, \"#d8576b\"], [0.6666666666666666, \"#ed7953\"], [0.7777777777777778, \"#fb9f3a\"], [0.8888888888888888, \"#fdca26\"], [1.0, \"#f0f921\"]], \"type\": \"histogram2dcontour\"}], \"mesh3d\": [{\"colorbar\": {\"outlinewidth\": 0, \"ticks\": \"\"}, \"type\": \"mesh3d\"}], \"parcoords\": [{\"line\": {\"colorbar\": {\"outlinewidth\": 0, \"ticks\": \"\"}}, \"type\": \"parcoords\"}], \"pie\": [{\"automargin\": true, \"type\": \"pie\"}], \"scatter\": [{\"marker\": {\"colorbar\": {\"outlinewidth\": 0, \"ticks\": \"\"}}, \"type\": \"scatter\"}], \"scatter3d\": [{\"line\": {\"colorbar\": {\"outlinewidth\": 0, \"ticks\": \"\"}}, \"marker\": {\"colorbar\": {\"outlinewidth\": 0, \"ticks\": \"\"}}, \"type\": \"scatter3d\"}], \"scattercarpet\": [{\"marker\": {\"colorbar\": {\"outlinewidth\": 0, \"ticks\": \"\"}}, \"type\": \"scattercarpet\"}], \"scattergeo\": [{\"marker\": {\"colorbar\": {\"outlinewidth\": 0, \"ticks\": \"\"}}, \"type\": \"scattergeo\"}], \"scattergl\": [{\"marker\": {\"colorbar\": {\"outlinewidth\": 0, \"ticks\": \"\"}}, \"type\": \"scattergl\"}], \"scattermapbox\": [{\"marker\": {\"colorbar\": {\"outlinewidth\": 0, \"ticks\": \"\"}}, \"type\": \"scattermapbox\"}], \"scatterpolar\": [{\"marker\": {\"colorbar\": {\"outlinewidth\": 0, \"ticks\": \"\"}}, \"type\": \"scatterpolar\"}], \"scatterpolargl\": [{\"marker\": {\"colorbar\": {\"outlinewidth\": 0, \"ticks\": \"\"}}, \"type\": \"scatterpolargl\"}], \"scatterternary\": [{\"marker\": {\"colorbar\": {\"outlinewidth\": 0, \"ticks\": \"\"}}, \"type\": \"scatterternary\"}], \"surface\": [{\"colorbar\": {\"outlinewidth\": 0, \"ticks\": \"\"}, \"colorscale\": [[0.0, \"#0d0887\"], [0.1111111111111111, \"#46039f\"], [0.2222222222222222, \"#7201a8\"], [0.3333333333333333, \"#9c179e\"], [0.4444444444444444, \"#bd3786\"], [0.5555555555555556, \"#d8576b\"], [0.6666666666666666, \"#ed7953\"], [0.7777777777777778, \"#fb9f3a\"], [0.8888888888888888, \"#fdca26\"], [1.0, \"#f0f921\"]], \"type\": \"surface\"}], \"table\": [{\"cells\": {\"fill\": {\"color\": \"#EBF0F8\"}, \"line\": {\"color\": \"white\"}}, \"header\": {\"fill\": {\"color\": \"#C8D4E3\"}, \"line\": {\"color\": \"white\"}}, \"type\": \"table\"}]}, \"layout\": {\"annotationdefaults\": {\"arrowcolor\": \"#2a3f5f\", \"arrowhead\": 0, \"arrowwidth\": 1}, \"autotypenumbers\": \"strict\", \"coloraxis\": {\"colorbar\": {\"outlinewidth\": 0, \"ticks\": \"\"}}, \"colorscale\": {\"diverging\": [[0, \"#8e0152\"], [0.1, \"#c51b7d\"], [0.2, \"#de77ae\"], [0.3, \"#f1b6da\"], [0.4, \"#fde0ef\"], [0.5, \"#f7f7f7\"], [0.6, \"#e6f5d0\"], [0.7, \"#b8e186\"], [0.8, \"#7fbc41\"], [0.9, \"#4d9221\"], [1, \"#276419\"]], \"sequential\": [[0.0, \"#0d0887\"], [0.1111111111111111, \"#46039f\"], [0.2222222222222222, \"#7201a8\"], [0.3333333333333333, \"#9c179e\"], [0.4444444444444444, \"#bd3786\"], [0.5555555555555556, \"#d8576b\"], [0.6666666666666666, \"#ed7953\"], [0.7777777777777778, \"#fb9f3a\"], [0.8888888888888888, \"#fdca26\"], [1.0, \"#f0f921\"]], \"sequentialminus\": [[0.0, \"#0d0887\"], [0.1111111111111111, \"#46039f\"], [0.2222222222222222, \"#7201a8\"], [0.3333333333333333, \"#9c179e\"], [0.4444444444444444, \"#bd3786\"], [0.5555555555555556, \"#d8576b\"], [0.6666666666666666, \"#ed7953\"], [0.7777777777777778, \"#fb9f3a\"], [0.8888888888888888, \"#fdca26\"], [1.0, \"#f0f921\"]]}, \"colorway\": [\"#636efa\", \"#EF553B\", \"#00cc96\", \"#ab63fa\", \"#FFA15A\", \"#19d3f3\", \"#FF6692\", \"#B6E880\", \"#FF97FF\", \"#FECB52\"], \"font\": {\"color\": \"#2a3f5f\"}, \"geo\": {\"bgcolor\": \"white\", \"lakecolor\": \"white\", \"landcolor\": \"#E5ECF6\", \"showlakes\": true, \"showland\": true, \"subunitcolor\": \"white\"}, \"hoverlabel\": {\"align\": \"left\"}, \"hovermode\": \"closest\", \"mapbox\": {\"style\": \"light\"}, \"paper_bgcolor\": \"white\", \"plot_bgcolor\": \"#E5ECF6\", \"polar\": {\"angularaxis\": {\"gridcolor\": \"white\", \"linecolor\": \"white\", \"ticks\": \"\"}, \"bgcolor\": \"#E5ECF6\", \"radialaxis\": {\"gridcolor\": \"white\", \"linecolor\": \"white\", \"ticks\": \"\"}}, \"scene\": {\"xaxis\": {\"backgroundcolor\": \"#E5ECF6\", \"gridcolor\": \"white\", \"gridwidth\": 2, \"linecolor\": \"white\", \"showbackground\": true, \"ticks\": \"\", \"zerolinecolor\": \"white\"}, \"yaxis\": {\"backgroundcolor\": \"#E5ECF6\", \"gridcolor\": \"white\", \"gridwidth\": 2, \"linecolor\": \"white\", \"showbackground\": true, \"ticks\": \"\", \"zerolinecolor\": \"white\"}, \"zaxis\": {\"backgroundcolor\": \"#E5ECF6\", \"gridcolor\": \"white\", \"gridwidth\": 2, \"linecolor\": \"white\", \"showbackground\": true, \"ticks\": \"\", \"zerolinecolor\": \"white\"}}, \"shapedefaults\": {\"line\": {\"color\": \"#2a3f5f\"}}, \"ternary\": {\"aaxis\": {\"gridcolor\": \"white\", \"linecolor\": \"white\", \"ticks\": \"\"}, \"baxis\": {\"gridcolor\": \"white\", \"linecolor\": \"white\", \"ticks\": \"\"}, \"bgcolor\": \"#E5ECF6\", \"caxis\": {\"gridcolor\": \"white\", \"linecolor\": \"white\", \"ticks\": \"\"}}, \"title\": {\"x\": 0.05}, \"xaxis\": {\"automargin\": true, \"gridcolor\": \"white\", \"linecolor\": \"white\", \"ticks\": \"\", \"title\": {\"standoff\": 15}, \"zerolinecolor\": \"white\", \"zerolinewidth\": 2}, \"yaxis\": {\"automargin\": true, \"gridcolor\": \"white\", \"linecolor\": \"white\", \"ticks\": \"\", \"title\": {\"standoff\": 15}, \"zerolinecolor\": \"white\", \"zerolinewidth\": 2}}}, \"title\": {\"font\": {\"color\": \"#4D5663\"}}, \"xaxis\": {\"gridcolor\": \"#E1E5ED\", \"showgrid\": true, \"tickfont\": {\"color\": \"#4D5663\"}, \"title\": {\"font\": {\"color\": \"#4D5663\"}, \"text\": \"\"}, \"zerolinecolor\": \"#E1E5ED\"}, \"yaxis\": {\"gridcolor\": \"#E1E5ED\", \"showgrid\": true, \"tickfont\": {\"color\": \"#4D5663\"}, \"title\": {\"font\": {\"color\": \"#4D5663\"}, \"text\": \"\"}, \"zerolinecolor\": \"#E1E5ED\"}},                        {\"showLink\": true, \"linkText\": \"Export to plot.ly\", \"plotlyServerURL\": \"https://plot.ly\", \"responsive\": true}                    ).then(function(){\n",
       "                            \n",
       "var gd = document.getElementById('f4aeb33c-593b-4595-adfb-2032120139db');\n",
       "var x = new MutationObserver(function (mutations, observer) {{\n",
       "        var display = window.getComputedStyle(gd).display;\n",
       "        if (!display || display === 'none') {{\n",
       "            console.log([gd, 'removed!']);\n",
       "            Plotly.purge(gd);\n",
       "            observer.disconnect();\n",
       "        }}\n",
       "}});\n",
       "\n",
       "// Listen for the removal of the full notebook cells\n",
       "var notebookContainer = gd.closest('#notebook-container');\n",
       "if (notebookContainer) {{\n",
       "    x.observe(notebookContainer, {childList: true});\n",
       "}}\n",
       "\n",
       "// Listen for the clearing of the current output cell\n",
       "var outputEl = gd.closest('.output');\n",
       "if (outputEl) {{\n",
       "    x.observe(outputEl, {childList: true});\n",
       "}}\n",
       "\n",
       "                        })                };                });            </script>        </div>"
      ]
     },
     "metadata": {},
     "output_type": "display_data"
    }
   ],
   "source": [
    "cpt.xs(key='Close',level='Info',axis=1).iplot()"
   ]
  },
  {
   "cell_type": "code",
   "execution_count": 19,
   "id": "df16120f",
   "metadata": {},
   "outputs": [
    {
     "data": {
      "application/vnd.plotly.v1+json": {
       "config": {
        "linkText": "Export to plot.ly",
        "plotlyServerURL": "https://plot.ly",
        "showLink": true
       },
       "data": [
        {
         "histfunc": "count",
         "histnorm": "",
         "marker": {
          "color": "rgba(255, 153, 51, 1.0)",
          "line": {
           "color": "#4D5663",
           "width": 1.3
          }
         },
         "name": "High",
         "opacity": 0.8,
         "orientation": "v",
         "type": "histogram",
         "x": [
          3769.91796875,
          3836.161865234375,
          3836.19873046875,
          3876.78515625,
          3842.059814453125,
          3549.708984375,
          3420.4619140625,
          3240.304443359375,
          3206.790771484375,
          3177.21337890625,
          3247.511962890625,
          3401.219970703125,
          3396.9697265625,
          3330.76611328125,
          3364.537841796875,
          3376.401123046875,
          3355.8193359375,
          3236.01611328125,
          3171.158447265625,
          3265.3369140625,
          3029.0810546875,
          2615.247314453125,
          2542.144775390625,
          2537.20849609375,
          2498.507080078125,
          2705.7841796875,
          2510.45166015625,
          2548.778564453125,
          2627.609375,
          2631.408447265625,
          2697.7353515625,
          2802.3154296875,
          2802.212158203125,
          2712.482666015625,
          2983.5869140625,
          3054.130126953125,
          3061.26123046875,
          3182.5283203125,
          3219.47265625,
          3263.15576171875,
          3271.316162109375,
          3127.45068359375,
          2980.079345703125,
          2947.776611328125,
          2957.963623046875,
          3185.520751953125,
          3181.616943359375,
          3154.615234375,
          2937.30859375,
          2826.347900390625,
          2763.756591796875,
          2752.45849609375,
          2648.916748046875,
          2741.368408203125,
          2689.047607421875,
          2821.972412109375,
          2849.424072265625,
          2831.12548828125,
          2929.180419921875,
          3029.651611328125,
          3026.8681640625,
          2964.67333984375,
          2835.17626953125,
          2679.1025390625,
          2673.63720703125,
          2639.943115234375,
          2618.166015625,
          2761.79638671875,
          2729.116455078125,
          2664.55859375,
          2606.438720703125,
          2594.5498046875,
          2604.034423828125,
          2662.32958984375,
          2781.30712890625,
          2826.16064453125,
          2973.6162109375,
          2979.987060546875,
          2956.965576171875,
          2954.556640625,
          3040.3828125,
          3036.752197265625,
          3118.3876953125,
          3183.9580078125,
          3146.825439453125,
          3291.57763671875,
          3424.019287109375,
          3470.186279296875,
          3435.2861328125,
          3435.12841796875,
          3467.555908203125,
          3521.28466796875,
          3573.960205078125,
          3535.148193359375,
          3546.706787109375,
          3411.672119140625,
          3263.474609375,
          3301.607421875,
          3261.963134765625,
          3303.003173828125,
          3214.4619140625,
          3077.45263671875,
          3123.575439453125,
          3139.9287109375,
          3044.287353515625,
          3074.886962890625,
          3075.77587890625,
          3062.52099609375,
          3125.084228515625,
          3157.8857421875,
          3173.451416015625,
          3024.8544921875,
          2975.32275390625,
          2961.882080078125,
          3018.41552734375,
          3026.4150390625,
          2911.87744140625,
          2973.135009765625,
          2943.44580078125,
          2836.82763671875,
          2838.704345703125,
          2874.14599609375,
          2859.193359375,
          2956.686767578125,
          2948.960693359375,
          2754.837646484375,
          2696.65283203125,
          2638.83056640625,
          2528.258056640625,
          2450.76025390625,
          2441.079345703125,
          2170.4580078125,
          2139.71337890625,
          2063.429931640625,
          2147.1943359375,
          2145.8369140625,
          2113.059814453125,
          2102.32666015625,
          2028.38818359375,
          2054.7958984375,
          1985.39599609375,
          2047.19140625,
          2080.33349609375,
          1991.5355224609375,
          2014.3695068359375,
          1962.171142578125,
          1814.656494140625,
          1757.9417724609375,
          1818.776611328125,
          2005.2108154296875,
          2005.490966796875,
          1965.1666259765625
         ]
        },
        {
         "histfunc": "count",
         "histnorm": "",
         "marker": {
          "color": "rgba(55, 128, 191, 1.0)",
          "line": {
           "color": "#4D5663",
           "width": 1.3
          }
         },
         "name": "Low",
         "opacity": 0.8,
         "orientation": "v",
         "type": "histogram",
         "x": [
          3682.28662109375,
          3727.357421875,
          3698.047607421875,
          3723.349853515625,
          3456.745361328125,
          3335.376708984375,
          3117.38134765625,
          3020.880859375,
          3075.911376953125,
          2947.68359375,
          3061.140625,
          3216.718017578125,
          3247.91748046875,
          3203.82373046875,
          3278.6708984375,
          3291.563720703125,
          3157.22412109375,
          3096.12353515625,
          3055.21240234375,
          3000.908203125,
          2496.81298828125,
          2330.247314453125,
          2381.51513671875,
          2172.30126953125,
          2359.384765625,
          2417.68310546875,
          2328.4521484375,
          2367.833740234375,
          2526.98974609375,
          2550.4609375,
          2489.072265625,
          2682.621826171875,
          2630.120361328125,
          2587.783447265625,
          2675.44384765625,
          2966.781005859375,
          2965.429931640625,
          3002.927001953125,
          3038.3779296875,
          3063.16015625,
          3070.378173828125,
          2888.707763671875,
          2870.177001953125,
          2845.397705078125,
          2840.257568359375,
          2917.857177734375,
          3055.168212890625,
          2861.85205078125,
          2761.643310546875,
          2707.37841796875,
          2585.9462890625,
          2568.25439453125,
          2510.6787109375,
          2587.412841796875,
          2308.914794921875,
          2579.2080078125,
          2745.009033203125,
          2581.61572265625,
          2586.38818359375,
          2868.93896484375,
          2919.943115234375,
          2797.3193359375,
          2587.748291015625,
          2596.989990234375,
          2555.037353515625,
          2455.59375,
          2489.755126953125,
          2573.6552734375,
          2566.193115234375,
          2534.688232421875,
          2559.126953125,
          2503.88525390625,
          2505.29931640625,
          2515.765869140625,
          2610.764404296875,
          2751.560791015625,
          2774.855712890625,
          2910.80224609375,
          2826.107421875,
          2838.25048828125,
          2892.54443359375,
          2933.306640625,
          3012.32666015625,
          3087.49072265625,
          3091.825439453125,
          3129.997802734375,
          3279.027099609375,
          3335.021240234375,
          3349.237060546875,
          3272.9345703125,
          3223.891357421875,
          3442.000244140625,
          3421.259765625,
          3422.0009765625,
          3410.547607421875,
          3171.205078125,
          3155.5810546875,
          3179.142333984375,
          3187.46923828125,
          3211.866943359375,
          2962.756591796875,
          2957.872314453125,
          3006.481689453125,
          2988.435302734375,
          3001.123291015625,
          3016.421142578125,
          2989.0439453125,
          2893.912841796875,
          3035.53515625,
          3045.288330078125,
          2962.410400390625,
          2942.358642578125,
          2926.740234375,
          2922.128662109375,
          2804.507080078125,
          2786.253173828125,
          2802.2734375,
          2861.821533203125,
          2782.435302734375,
          2727.40625,
          2728.078857421875,
          2785.52294921875,
          2762.11865234375,
          2779.273681640625,
          2704.916259765625,
          2645.335205078125,
          2599.5234375,
          2498.43017578125,
          2238.062744140625,
          2206.7568359375,
          2018.8555908203125,
          1748.3031005859375,
          1941.9759521484375,
          1956.572998046875,
          2008.1627197265625,
          1988.811767578125,
          2015.9715576171875,
          1916.6561279296875,
          1907.0205078125,
          1926.6767578125,
          1944.26513671875,
          1966.038818359375,
          1964.3865966796875,
          1920.6881103515625,
          1943.9385986328125,
          1759.1995849609375,
          1721.2647705078125,
          1724.635986328125,
          1765.9373779296875,
          1804.4560546875,
          1932.35205078125,
          1776.05322265625
         ]
        },
        {
         "histfunc": "count",
         "histnorm": "",
         "marker": {
          "color": "rgba(50, 171, 96, 1.0)",
          "line": {
           "color": "#4D5663",
           "width": 1.3
          }
         },
         "name": "Open",
         "opacity": 0.8,
         "orientation": "v",
         "type": "histogram",
         "x": [
          3683.047119140625,
          3769.29833984375,
          3829.53564453125,
          3761.361572265625,
          3794.26904296875,
          3549.708984375,
          3417.837890625,
          3193.50244140625,
          3091.6962890625,
          3157.570556640625,
          3082.990966796875,
          3238.449951171875,
          3372.10498046875,
          3248.648681640625,
          3309.84423828125,
          3330.38720703125,
          3350.947265625,
          3212.28759765625,
          3163.850341796875,
          3095.271728515625,
          3002.956787109375,
          2561.145263671875,
          2406.92431640625,
          2535.89111328125,
          2440.3935546875,
          2455.5791015625,
          2467.1884765625,
          2421.64697265625,
          2546.590576171875,
          2598.56494140625,
          2603.263427734375,
          2687.89892578125,
          2791.958984375,
          2682.22607421875,
          2681.0576171875,
          2984.446044921875,
          3014.959716796875,
          3057.422119140625,
          3143.008544921875,
          3121.1826171875,
          3240.113037109375,
          3077.4130859375,
          2927.386474609375,
          2916.78955078125,
          2880.187744140625,
          2933.72900390625,
          3180.44677734375,
          3126.8583984375,
          2884.340576171875,
          2784.872802734375,
          2763.756591796875,
          2627.66552734375,
          2572.898681640625,
          2639.447021484375,
          2588.166259765625,
          2598.436279296875,
          2764.989501953125,
          2780.50439453125,
          2621.172119140625,
          2919.77587890625,
          2972.471923828125,
          2950.15673828125,
          2834.9873046875,
          2618.4736328125,
          2664.943603515625,
          2555.297607421875,
          2497.721435546875,
          2577.165283203125,
          2729.116455078125,
          2608.271240234375,
          2559.66064453125,
          2573.488037109375,
          2518.486328125,
          2590.6689453125,
          2620.028564453125,
          2771.964111328125,
          2814.4345703125,
          2944.7216796875,
          2946.547607421875,
          2860.103271484375,
          2897.774169921875,
          2973.14501953125,
          3031.060791015625,
          3108.448974609375,
          3106.4052734375,
          3143.795654296875,
          3292.322509765625,
          3335.021240234375,
          3401.526123046875,
          3385.289306640625,
          3282.576171875,
          3449.78857421875,
          3444.810546875,
          3522.364990234375,
          3521.23974609375,
          3411.672119140625,
          3172.197265625,
          3233.2724609375,
          3191.97607421875,
          3261.29150390625,
          3209.576904296875,
          2981.420654296875,
          3029.8779296875,
          3117.82177734375,
          3020.134521484375,
          3041.123291015625,
          3061.8818359375,
          2993.48388671875,
          3057.5703125,
          3103.93505859375,
          3077.829345703125,
          2986.938720703125,
          2964.80224609375,
          2937.34716796875,
          2922.990234375,
          3008.9462890625,
          2808.64599609375,
          2888.849853515625,
          2936.776611328125,
          2815.533447265625,
          2729.994140625,
          2827.614013671875,
          2857.15234375,
          2783.131103515625,
          2940.2265625,
          2748.931640625,
          2694.991943359375,
          2636.121826171875,
          2518.50830078125,
          2242.650390625,
          2342.754150390625,
          2072.504638671875,
          1960.12255859375,
          2014.2806396484375,
          2056.18310546875,
          2145.8369140625,
          2022.88232421875,
          2090.4599609375,
          1916.1495361328125,
          2018.0001220703125,
          1961.0179443359375,
          1974.670654296875,
          2042.3447265625,
          1972.390869140625,
          1978.677001953125,
          1945.0333251953125,
          1802.5438232421875,
          1724.635986328125,
          1792.1844482421875,
          1811.885986328125,
          1996.4080810546875,
          1942.0506591796875
         ]
        },
        {
         "histfunc": "count",
         "histnorm": "",
         "marker": {
          "color": "rgba(128, 0, 128, 1.0)",
          "line": {
           "color": "#4D5663",
           "width": 1.3
          }
         },
         "name": "Close",
         "opacity": 0.8,
         "orientation": "v",
         "type": "histogram",
         "x": [
          3769.697021484375,
          3829.56494140625,
          3761.38037109375,
          3794.056640625,
          3550.386962890625,
          3418.408203125,
          3193.21044921875,
          3091.97265625,
          3157.75146484375,
          3083.097900390625,
          3238.111572265625,
          3372.25830078125,
          3248.28857421875,
          3310.00146484375,
          3330.53076171875,
          3350.921875,
          3212.304931640625,
          3164.025146484375,
          3095.825927734375,
          3001.1201171875,
          2557.931640625,
          2405.18115234375,
          2535.0390625,
          2440.352294921875,
          2455.93505859375,
          2468.0302734375,
          2423.001220703125,
          2547.092041015625,
          2597.084716796875,
          2603.466552734375,
          2688.27880859375,
          2792.1171875,
          2682.85400390625,
          2679.16259765625,
          2983.5869140625,
          3014.648193359375,
          3057.47607421875,
          3142.470703125,
          3122.608642578125,
          3239.45703125,
          3077.482177734375,
          2927.383544921875,
          2917.36279296875,
          2883.46337890625,
          2933.47900390625,
          3179.877197265625,
          3127.830078125,
          2881.48193359375,
          2785.7275390625,
          2763.701171875,
          2628.6484375,
          2573.816162109375,
          2639.29931640625,
          2590.359619140625,
          2598.067138671875,
          2764.53564453125,
          2781.11181640625,
          2621.8017578125,
          2919.201171875,
          2972.485107421875,
          2950.118408203125,
          2834.468994140625,
          2617.156005859375,
          2664.8310546875,
          2555.037353515625,
          2497.771240234375,
          2576.74755859375,
          2729.783447265625,
          2608.048583984375,
          2559.56298828125,
          2574.754150390625,
          2518.944580078125,
          2590.696044921875,
          2620.149658203125,
          2772.0556640625,
          2814.8544921875,
          2945.343017578125,
          2946.257080078125,
          2860.459228515625,
          2897.9765625,
          2973.131103515625,
          3031.067138671875,
          3108.06201171875,
          3106.67138671875,
          3143.178955078125,
          3291.57763671875,
          3336.634521484375,
          3401.98779296875,
          3385.157958984375,
          3281.642822265625,
          3449.55224609375,
          3445.059326171875,
          3522.83349609375,
          3521.2412109375,
          3411.79248046875,
          3171.69189453125,
          3233.274658203125,
          3192.073974609375,
          3261.916259765625,
          3211.866943359375,
          2981.05224609375,
          3030.37646484375,
          3118.34423828125,
          3019.909423828125,
          3040.91650390625,
          3062.310302734375,
          2993.4033203125,
          3057.606689453125,
          3104.1064453125,
          3077.745849609375,
          2987.480712890625,
          2964.835693359375,
          2938.114013671875,
          2922.732666015625,
          3009.3935546875,
          2808.29833984375,
          2888.9296875,
          2936.94091796875,
          2815.601806640625,
          2730.186767578125,
          2827.756103515625,
          2857.410400390625,
          2783.476318359375,
          2940.644775390625,
          2749.213134765625,
          2694.979736328125,
          2636.093017578125,
          2517.4599609375,
          2245.430419921875,
          2343.510986328125,
          2072.108642578125,
          1961.7015380859375,
          2014.418212890625,
          2056.27392578125,
          2145.706787109375,
          2022.7259521484375,
          2090.4091796875,
          1916.6561279296875,
          2018.336181640625,
          1961.315673828125,
          1974.518310546875,
          2043.170166015625,
          1972.181884765625,
          1978.9827880859375,
          1944.827880859375,
          1803.913330078125,
          1724.9228515625,
          1757.9417724609375,
          1812.031005859375,
          1996.4412841796875,
          1942.3280029296875,
          1823.5693359375
         ]
        },
        {
         "histfunc": "count",
         "histnorm": "",
         "marker": {
          "color": "rgba(219, 64, 82, 1.0)",
          "line": {
           "color": "#4D5663",
           "width": 1.3
          }
         },
         "name": "Volume",
         "opacity": 0.8,
         "orientation": "v",
         "type": "histogram",
         "x": [
          9776191466,
          9881471548,
          12080777893,
          14030925983,
          18061338502,
          24293791313,
          24494179209,
          16037732700,
          12334683863,
          19535744145,
          15211447193,
          16662871689,
          15294466275,
          13562957230,
          9619999078,
          9505934874,
          12344309617,
          13024154091,
          13187424144,
          10645922764,
          26796291874,
          27369692036,
          16481489511,
          28220804648,
          16179776932,
          21229909340,
          16126522783,
          14666227351,
          11172062661,
          9501221177,
          13778234614,
          13194846235,
          13876301217,
          12755505065,
          18987223729,
          13102093957,
          9466018022,
          15197063785,
          17136080906,
          13951308490,
          18629485080,
          16043881065,
          11254355757,
          9054963563,
          12164552172,
          13921257873,
          12352406833,
          15860206214,
          15748173433,
          9774183169,
          11641437834,
          18646392740,
          16360200507,
          13382637240,
          29312342666,
          17208902048,
          11724648351,
          16150857254,
          19266124733,
          18757425786,
          16636517503,
          13091199728,
          14496939024,
          8072368396,
          8872976607,
          14594098731,
          13922922903,
          14173665398,
          13292477213,
          12382419582,
          6532996574,
          8632000379,
          11244398839,
          12861105614,
          17915109769,
          12685265194,
          15830879093,
          11576463120,
          12684727326,
          15206116098,
          16830539230,
          16008767658,
          18070503166,
          17030503831,
          8876420740,
          13431866834,
          20620450770,
          19533323636,
          15302506131,
          17685495686,
          20982988937,
          23571556215,
          15333808649,
          18209969743,
          16681503199,
          25632563639,
          16745496605,
          17557050669,
          9908112156,
          10427054790,
          21891804831,
          20235707410,
          16088473629,
          15821419931,
          11256651536,
          8766710365,
          10463091281,
          18629381299,
          14156035096,
          15547362265,
          20783591093,
          16782795477,
          9116955609,
          9696829579,
          22332690614,
          19052045399,
          17419284041,
          18443524633,
          18771041399,
          13520941867,
          15332730152,
          18609741545,
          13026093219,
          18186749944,
          22642925048,
          21027599270,
          13369276367,
          20802269935,
          36333567678,
          38202099639,
          45743399154,
          42463486402,
          24816096567,
          15457044616,
          14846088335,
          21459552191,
          18509929297,
          17740965589,
          18734247914,
          15892482289,
          8546822406,
          10941123403,
          16434529708,
          13057109007,
          13364545730,
          23458681818,
          25470760032,
          23214777872,
          10642556101,
          19580808705,
          18363115560,
          21037797760
         ]
        },
        {
         "histfunc": "count",
         "histnorm": "",
         "marker": {
          "color": "rgba(0, 128, 128, 1.0)",
          "line": {
           "color": "#4D5663",
           "width": 1.3
          }
         },
         "name": "Adj Close",
         "opacity": 0.8,
         "orientation": "v",
         "type": "histogram",
         "x": [
          3769.697021484375,
          3829.56494140625,
          3761.38037109375,
          3794.056640625,
          3550.386962890625,
          3418.408203125,
          3193.21044921875,
          3091.97265625,
          3157.75146484375,
          3083.097900390625,
          3238.111572265625,
          3372.25830078125,
          3248.28857421875,
          3310.00146484375,
          3330.53076171875,
          3350.921875,
          3212.304931640625,
          3164.025146484375,
          3095.825927734375,
          3001.1201171875,
          2557.931640625,
          2405.18115234375,
          2535.0390625,
          2440.352294921875,
          2455.93505859375,
          2468.0302734375,
          2423.001220703125,
          2547.092041015625,
          2597.084716796875,
          2603.466552734375,
          2688.27880859375,
          2792.1171875,
          2682.85400390625,
          2679.16259765625,
          2983.5869140625,
          3014.648193359375,
          3057.47607421875,
          3142.470703125,
          3122.608642578125,
          3239.45703125,
          3077.482177734375,
          2927.383544921875,
          2917.36279296875,
          2883.46337890625,
          2933.47900390625,
          3179.877197265625,
          3127.830078125,
          2881.48193359375,
          2785.7275390625,
          2763.701171875,
          2628.6484375,
          2573.816162109375,
          2639.29931640625,
          2590.359619140625,
          2598.067138671875,
          2764.53564453125,
          2781.11181640625,
          2621.8017578125,
          2919.201171875,
          2972.485107421875,
          2950.118408203125,
          2834.468994140625,
          2617.156005859375,
          2664.8310546875,
          2555.037353515625,
          2497.771240234375,
          2576.74755859375,
          2729.783447265625,
          2608.048583984375,
          2559.56298828125,
          2574.754150390625,
          2518.944580078125,
          2590.696044921875,
          2620.149658203125,
          2772.0556640625,
          2814.8544921875,
          2945.343017578125,
          2946.257080078125,
          2860.459228515625,
          2897.9765625,
          2973.131103515625,
          3031.067138671875,
          3108.06201171875,
          3106.67138671875,
          3143.178955078125,
          3291.57763671875,
          3336.634521484375,
          3401.98779296875,
          3385.157958984375,
          3281.642822265625,
          3449.55224609375,
          3445.059326171875,
          3522.83349609375,
          3521.2412109375,
          3411.79248046875,
          3171.69189453125,
          3233.274658203125,
          3192.073974609375,
          3261.916259765625,
          3211.866943359375,
          2981.05224609375,
          3030.37646484375,
          3118.34423828125,
          3019.909423828125,
          3040.91650390625,
          3062.310302734375,
          2993.4033203125,
          3057.606689453125,
          3104.1064453125,
          3077.745849609375,
          2987.480712890625,
          2964.835693359375,
          2938.114013671875,
          2922.732666015625,
          3009.3935546875,
          2808.29833984375,
          2888.9296875,
          2936.94091796875,
          2815.601806640625,
          2730.186767578125,
          2827.756103515625,
          2857.410400390625,
          2783.476318359375,
          2940.644775390625,
          2749.213134765625,
          2694.979736328125,
          2636.093017578125,
          2517.4599609375,
          2245.430419921875,
          2343.510986328125,
          2072.108642578125,
          1961.7015380859375,
          2014.418212890625,
          2056.27392578125,
          2145.706787109375,
          2022.7259521484375,
          2090.4091796875,
          1916.6561279296875,
          2018.336181640625,
          1961.315673828125,
          1974.518310546875,
          2043.170166015625,
          1972.181884765625,
          1978.9827880859375,
          1944.827880859375,
          1803.913330078125,
          1724.9228515625,
          1757.9417724609375,
          1812.031005859375,
          1996.4412841796875,
          1942.3280029296875,
          1823.5693359375
         ]
        }
       ],
       "layout": {
        "barmode": "overlay",
        "legend": {
         "bgcolor": "#F5F6F9",
         "font": {
          "color": "#4D5663"
         }
        },
        "paper_bgcolor": "#F5F6F9",
        "plot_bgcolor": "#F5F6F9",
        "template": {
         "data": {
          "bar": [
           {
            "error_x": {
             "color": "#2a3f5f"
            },
            "error_y": {
             "color": "#2a3f5f"
            },
            "marker": {
             "line": {
              "color": "#E5ECF6",
              "width": 0.5
             }
            },
            "type": "bar"
           }
          ],
          "barpolar": [
           {
            "marker": {
             "line": {
              "color": "#E5ECF6",
              "width": 0.5
             }
            },
            "type": "barpolar"
           }
          ],
          "carpet": [
           {
            "aaxis": {
             "endlinecolor": "#2a3f5f",
             "gridcolor": "white",
             "linecolor": "white",
             "minorgridcolor": "white",
             "startlinecolor": "#2a3f5f"
            },
            "baxis": {
             "endlinecolor": "#2a3f5f",
             "gridcolor": "white",
             "linecolor": "white",
             "minorgridcolor": "white",
             "startlinecolor": "#2a3f5f"
            },
            "type": "carpet"
           }
          ],
          "choropleth": [
           {
            "colorbar": {
             "outlinewidth": 0,
             "ticks": ""
            },
            "type": "choropleth"
           }
          ],
          "contour": [
           {
            "colorbar": {
             "outlinewidth": 0,
             "ticks": ""
            },
            "colorscale": [
             [
              0,
              "#0d0887"
             ],
             [
              0.1111111111111111,
              "#46039f"
             ],
             [
              0.2222222222222222,
              "#7201a8"
             ],
             [
              0.3333333333333333,
              "#9c179e"
             ],
             [
              0.4444444444444444,
              "#bd3786"
             ],
             [
              0.5555555555555556,
              "#d8576b"
             ],
             [
              0.6666666666666666,
              "#ed7953"
             ],
             [
              0.7777777777777778,
              "#fb9f3a"
             ],
             [
              0.8888888888888888,
              "#fdca26"
             ],
             [
              1,
              "#f0f921"
             ]
            ],
            "type": "contour"
           }
          ],
          "contourcarpet": [
           {
            "colorbar": {
             "outlinewidth": 0,
             "ticks": ""
            },
            "type": "contourcarpet"
           }
          ],
          "heatmap": [
           {
            "colorbar": {
             "outlinewidth": 0,
             "ticks": ""
            },
            "colorscale": [
             [
              0,
              "#0d0887"
             ],
             [
              0.1111111111111111,
              "#46039f"
             ],
             [
              0.2222222222222222,
              "#7201a8"
             ],
             [
              0.3333333333333333,
              "#9c179e"
             ],
             [
              0.4444444444444444,
              "#bd3786"
             ],
             [
              0.5555555555555556,
              "#d8576b"
             ],
             [
              0.6666666666666666,
              "#ed7953"
             ],
             [
              0.7777777777777778,
              "#fb9f3a"
             ],
             [
              0.8888888888888888,
              "#fdca26"
             ],
             [
              1,
              "#f0f921"
             ]
            ],
            "type": "heatmap"
           }
          ],
          "heatmapgl": [
           {
            "colorbar": {
             "outlinewidth": 0,
             "ticks": ""
            },
            "colorscale": [
             [
              0,
              "#0d0887"
             ],
             [
              0.1111111111111111,
              "#46039f"
             ],
             [
              0.2222222222222222,
              "#7201a8"
             ],
             [
              0.3333333333333333,
              "#9c179e"
             ],
             [
              0.4444444444444444,
              "#bd3786"
             ],
             [
              0.5555555555555556,
              "#d8576b"
             ],
             [
              0.6666666666666666,
              "#ed7953"
             ],
             [
              0.7777777777777778,
              "#fb9f3a"
             ],
             [
              0.8888888888888888,
              "#fdca26"
             ],
             [
              1,
              "#f0f921"
             ]
            ],
            "type": "heatmapgl"
           }
          ],
          "histogram": [
           {
            "marker": {
             "colorbar": {
              "outlinewidth": 0,
              "ticks": ""
             }
            },
            "type": "histogram"
           }
          ],
          "histogram2d": [
           {
            "colorbar": {
             "outlinewidth": 0,
             "ticks": ""
            },
            "colorscale": [
             [
              0,
              "#0d0887"
             ],
             [
              0.1111111111111111,
              "#46039f"
             ],
             [
              0.2222222222222222,
              "#7201a8"
             ],
             [
              0.3333333333333333,
              "#9c179e"
             ],
             [
              0.4444444444444444,
              "#bd3786"
             ],
             [
              0.5555555555555556,
              "#d8576b"
             ],
             [
              0.6666666666666666,
              "#ed7953"
             ],
             [
              0.7777777777777778,
              "#fb9f3a"
             ],
             [
              0.8888888888888888,
              "#fdca26"
             ],
             [
              1,
              "#f0f921"
             ]
            ],
            "type": "histogram2d"
           }
          ],
          "histogram2dcontour": [
           {
            "colorbar": {
             "outlinewidth": 0,
             "ticks": ""
            },
            "colorscale": [
             [
              0,
              "#0d0887"
             ],
             [
              0.1111111111111111,
              "#46039f"
             ],
             [
              0.2222222222222222,
              "#7201a8"
             ],
             [
              0.3333333333333333,
              "#9c179e"
             ],
             [
              0.4444444444444444,
              "#bd3786"
             ],
             [
              0.5555555555555556,
              "#d8576b"
             ],
             [
              0.6666666666666666,
              "#ed7953"
             ],
             [
              0.7777777777777778,
              "#fb9f3a"
             ],
             [
              0.8888888888888888,
              "#fdca26"
             ],
             [
              1,
              "#f0f921"
             ]
            ],
            "type": "histogram2dcontour"
           }
          ],
          "mesh3d": [
           {
            "colorbar": {
             "outlinewidth": 0,
             "ticks": ""
            },
            "type": "mesh3d"
           }
          ],
          "parcoords": [
           {
            "line": {
             "colorbar": {
              "outlinewidth": 0,
              "ticks": ""
             }
            },
            "type": "parcoords"
           }
          ],
          "pie": [
           {
            "automargin": true,
            "type": "pie"
           }
          ],
          "scatter": [
           {
            "marker": {
             "colorbar": {
              "outlinewidth": 0,
              "ticks": ""
             }
            },
            "type": "scatter"
           }
          ],
          "scatter3d": [
           {
            "line": {
             "colorbar": {
              "outlinewidth": 0,
              "ticks": ""
             }
            },
            "marker": {
             "colorbar": {
              "outlinewidth": 0,
              "ticks": ""
             }
            },
            "type": "scatter3d"
           }
          ],
          "scattercarpet": [
           {
            "marker": {
             "colorbar": {
              "outlinewidth": 0,
              "ticks": ""
             }
            },
            "type": "scattercarpet"
           }
          ],
          "scattergeo": [
           {
            "marker": {
             "colorbar": {
              "outlinewidth": 0,
              "ticks": ""
             }
            },
            "type": "scattergeo"
           }
          ],
          "scattergl": [
           {
            "marker": {
             "colorbar": {
              "outlinewidth": 0,
              "ticks": ""
             }
            },
            "type": "scattergl"
           }
          ],
          "scattermapbox": [
           {
            "marker": {
             "colorbar": {
              "outlinewidth": 0,
              "ticks": ""
             }
            },
            "type": "scattermapbox"
           }
          ],
          "scatterpolar": [
           {
            "marker": {
             "colorbar": {
              "outlinewidth": 0,
              "ticks": ""
             }
            },
            "type": "scatterpolar"
           }
          ],
          "scatterpolargl": [
           {
            "marker": {
             "colorbar": {
              "outlinewidth": 0,
              "ticks": ""
             }
            },
            "type": "scatterpolargl"
           }
          ],
          "scatterternary": [
           {
            "marker": {
             "colorbar": {
              "outlinewidth": 0,
              "ticks": ""
             }
            },
            "type": "scatterternary"
           }
          ],
          "surface": [
           {
            "colorbar": {
             "outlinewidth": 0,
             "ticks": ""
            },
            "colorscale": [
             [
              0,
              "#0d0887"
             ],
             [
              0.1111111111111111,
              "#46039f"
             ],
             [
              0.2222222222222222,
              "#7201a8"
             ],
             [
              0.3333333333333333,
              "#9c179e"
             ],
             [
              0.4444444444444444,
              "#bd3786"
             ],
             [
              0.5555555555555556,
              "#d8576b"
             ],
             [
              0.6666666666666666,
              "#ed7953"
             ],
             [
              0.7777777777777778,
              "#fb9f3a"
             ],
             [
              0.8888888888888888,
              "#fdca26"
             ],
             [
              1,
              "#f0f921"
             ]
            ],
            "type": "surface"
           }
          ],
          "table": [
           {
            "cells": {
             "fill": {
              "color": "#EBF0F8"
             },
             "line": {
              "color": "white"
             }
            },
            "header": {
             "fill": {
              "color": "#C8D4E3"
             },
             "line": {
              "color": "white"
             }
            },
            "type": "table"
           }
          ]
         },
         "layout": {
          "annotationdefaults": {
           "arrowcolor": "#2a3f5f",
           "arrowhead": 0,
           "arrowwidth": 1
          },
          "autotypenumbers": "strict",
          "coloraxis": {
           "colorbar": {
            "outlinewidth": 0,
            "ticks": ""
           }
          },
          "colorscale": {
           "diverging": [
            [
             0,
             "#8e0152"
            ],
            [
             0.1,
             "#c51b7d"
            ],
            [
             0.2,
             "#de77ae"
            ],
            [
             0.3,
             "#f1b6da"
            ],
            [
             0.4,
             "#fde0ef"
            ],
            [
             0.5,
             "#f7f7f7"
            ],
            [
             0.6,
             "#e6f5d0"
            ],
            [
             0.7,
             "#b8e186"
            ],
            [
             0.8,
             "#7fbc41"
            ],
            [
             0.9,
             "#4d9221"
            ],
            [
             1,
             "#276419"
            ]
           ],
           "sequential": [
            [
             0,
             "#0d0887"
            ],
            [
             0.1111111111111111,
             "#46039f"
            ],
            [
             0.2222222222222222,
             "#7201a8"
            ],
            [
             0.3333333333333333,
             "#9c179e"
            ],
            [
             0.4444444444444444,
             "#bd3786"
            ],
            [
             0.5555555555555556,
             "#d8576b"
            ],
            [
             0.6666666666666666,
             "#ed7953"
            ],
            [
             0.7777777777777778,
             "#fb9f3a"
            ],
            [
             0.8888888888888888,
             "#fdca26"
            ],
            [
             1,
             "#f0f921"
            ]
           ],
           "sequentialminus": [
            [
             0,
             "#0d0887"
            ],
            [
             0.1111111111111111,
             "#46039f"
            ],
            [
             0.2222222222222222,
             "#7201a8"
            ],
            [
             0.3333333333333333,
             "#9c179e"
            ],
            [
             0.4444444444444444,
             "#bd3786"
            ],
            [
             0.5555555555555556,
             "#d8576b"
            ],
            [
             0.6666666666666666,
             "#ed7953"
            ],
            [
             0.7777777777777778,
             "#fb9f3a"
            ],
            [
             0.8888888888888888,
             "#fdca26"
            ],
            [
             1,
             "#f0f921"
            ]
           ]
          },
          "colorway": [
           "#636efa",
           "#EF553B",
           "#00cc96",
           "#ab63fa",
           "#FFA15A",
           "#19d3f3",
           "#FF6692",
           "#B6E880",
           "#FF97FF",
           "#FECB52"
          ],
          "font": {
           "color": "#2a3f5f"
          },
          "geo": {
           "bgcolor": "white",
           "lakecolor": "white",
           "landcolor": "#E5ECF6",
           "showlakes": true,
           "showland": true,
           "subunitcolor": "white"
          },
          "hoverlabel": {
           "align": "left"
          },
          "hovermode": "closest",
          "mapbox": {
           "style": "light"
          },
          "paper_bgcolor": "white",
          "plot_bgcolor": "#E5ECF6",
          "polar": {
           "angularaxis": {
            "gridcolor": "white",
            "linecolor": "white",
            "ticks": ""
           },
           "bgcolor": "#E5ECF6",
           "radialaxis": {
            "gridcolor": "white",
            "linecolor": "white",
            "ticks": ""
           }
          },
          "scene": {
           "xaxis": {
            "backgroundcolor": "#E5ECF6",
            "gridcolor": "white",
            "gridwidth": 2,
            "linecolor": "white",
            "showbackground": true,
            "ticks": "",
            "zerolinecolor": "white"
           },
           "yaxis": {
            "backgroundcolor": "#E5ECF6",
            "gridcolor": "white",
            "gridwidth": 2,
            "linecolor": "white",
            "showbackground": true,
            "ticks": "",
            "zerolinecolor": "white"
           },
           "zaxis": {
            "backgroundcolor": "#E5ECF6",
            "gridcolor": "white",
            "gridwidth": 2,
            "linecolor": "white",
            "showbackground": true,
            "ticks": "",
            "zerolinecolor": "white"
           }
          },
          "shapedefaults": {
           "line": {
            "color": "#2a3f5f"
           }
          },
          "ternary": {
           "aaxis": {
            "gridcolor": "white",
            "linecolor": "white",
            "ticks": ""
           },
           "baxis": {
            "gridcolor": "white",
            "linecolor": "white",
            "ticks": ""
           },
           "bgcolor": "#E5ECF6",
           "caxis": {
            "gridcolor": "white",
            "linecolor": "white",
            "ticks": ""
           }
          },
          "title": {
           "x": 0.05
          },
          "xaxis": {
           "automargin": true,
           "gridcolor": "white",
           "linecolor": "white",
           "ticks": "",
           "title": {
            "standoff": 15
           },
           "zerolinecolor": "white",
           "zerolinewidth": 2
          },
          "yaxis": {
           "automargin": true,
           "gridcolor": "white",
           "linecolor": "white",
           "ticks": "",
           "title": {
            "standoff": 15
           },
           "zerolinecolor": "white",
           "zerolinewidth": 2
          }
         }
        },
        "title": {
         "font": {
          "color": "#4D5663"
         }
        },
        "xaxis": {
         "gridcolor": "#E1E5ED",
         "showgrid": true,
         "tickfont": {
          "color": "#4D5663"
         },
         "title": {
          "font": {
           "color": "#4D5663"
          },
          "text": ""
         },
         "zerolinecolor": "#E1E5ED"
        },
        "yaxis": {
         "gridcolor": "#E1E5ED",
         "showgrid": true,
         "tickfont": {
          "color": "#4D5663"
         },
         "title": {
          "font": {
           "color": "#4D5663"
          },
          "text": ""
         },
         "zerolinecolor": "#E1E5ED"
        }
       }
      },
      "text/html": [
       "<div>                            <div id=\"4badd548-13b7-493a-9b2c-622ccb88ff8d\" class=\"plotly-graph-div\" style=\"height:525px; width:100%;\"></div>            <script type=\"text/javascript\">                require([\"plotly\"], function(Plotly) {                    window.PLOTLYENV=window.PLOTLYENV || {};\n",
       "                    window.PLOTLYENV.BASE_URL='https://plot.ly';                                    if (document.getElementById(\"4badd548-13b7-493a-9b2c-622ccb88ff8d\")) {                    Plotly.newPlot(                        \"4badd548-13b7-493a-9b2c-622ccb88ff8d\",                        [{\"histfunc\": \"count\", \"histnorm\": \"\", \"marker\": {\"color\": \"rgba(255, 153, 51, 1.0)\", \"line\": {\"color\": \"#4D5663\", \"width\": 1.3}}, \"name\": \"High\", \"opacity\": 0.8, \"orientation\": \"v\", \"type\": \"histogram\", \"x\": [3769.91796875, 3836.161865234375, 3836.19873046875, 3876.78515625, 3842.059814453125, 3549.708984375, 3420.4619140625, 3240.304443359375, 3206.790771484375, 3177.21337890625, 3247.511962890625, 3401.219970703125, 3396.9697265625, 3330.76611328125, 3364.537841796875, 3376.401123046875, 3355.8193359375, 3236.01611328125, 3171.158447265625, 3265.3369140625, 3029.0810546875, 2615.247314453125, 2542.144775390625, 2537.20849609375, 2498.507080078125, 2705.7841796875, 2510.45166015625, 2548.778564453125, 2627.609375, 2631.408447265625, 2697.7353515625, 2802.3154296875, 2802.212158203125, 2712.482666015625, 2983.5869140625, 3054.130126953125, 3061.26123046875, 3182.5283203125, 3219.47265625, 3263.15576171875, 3271.316162109375, 3127.45068359375, 2980.079345703125, 2947.776611328125, 2957.963623046875, 3185.520751953125, 3181.616943359375, 3154.615234375, 2937.30859375, 2826.347900390625, 2763.756591796875, 2752.45849609375, 2648.916748046875, 2741.368408203125, 2689.047607421875, 2821.972412109375, 2849.424072265625, 2831.12548828125, 2929.180419921875, 3029.651611328125, 3026.8681640625, 2964.67333984375, 2835.17626953125, 2679.1025390625, 2673.63720703125, 2639.943115234375, 2618.166015625, 2761.79638671875, 2729.116455078125, 2664.55859375, 2606.438720703125, 2594.5498046875, 2604.034423828125, 2662.32958984375, 2781.30712890625, 2826.16064453125, 2973.6162109375, 2979.987060546875, 2956.965576171875, 2954.556640625, 3040.3828125, 3036.752197265625, 3118.3876953125, 3183.9580078125, 3146.825439453125, 3291.57763671875, 3424.019287109375, 3470.186279296875, 3435.2861328125, 3435.12841796875, 3467.555908203125, 3521.28466796875, 3573.960205078125, 3535.148193359375, 3546.706787109375, 3411.672119140625, 3263.474609375, 3301.607421875, 3261.963134765625, 3303.003173828125, 3214.4619140625, 3077.45263671875, 3123.575439453125, 3139.9287109375, 3044.287353515625, 3074.886962890625, 3075.77587890625, 3062.52099609375, 3125.084228515625, 3157.8857421875, 3173.451416015625, 3024.8544921875, 2975.32275390625, 2961.882080078125, 3018.41552734375, 3026.4150390625, 2911.87744140625, 2973.135009765625, 2943.44580078125, 2836.82763671875, 2838.704345703125, 2874.14599609375, 2859.193359375, 2956.686767578125, 2948.960693359375, 2754.837646484375, 2696.65283203125, 2638.83056640625, 2528.258056640625, 2450.76025390625, 2441.079345703125, 2170.4580078125, 2139.71337890625, 2063.429931640625, 2147.1943359375, 2145.8369140625, 2113.059814453125, 2102.32666015625, 2028.38818359375, 2054.7958984375, 1985.39599609375, 2047.19140625, 2080.33349609375, 1991.5355224609375, 2014.3695068359375, 1962.171142578125, 1814.656494140625, 1757.9417724609375, 1818.776611328125, 2005.2108154296875, 2005.490966796875, 1965.1666259765625]}, {\"histfunc\": \"count\", \"histnorm\": \"\", \"marker\": {\"color\": \"rgba(55, 128, 191, 1.0)\", \"line\": {\"color\": \"#4D5663\", \"width\": 1.3}}, \"name\": \"Low\", \"opacity\": 0.8, \"orientation\": \"v\", \"type\": \"histogram\", \"x\": [3682.28662109375, 3727.357421875, 3698.047607421875, 3723.349853515625, 3456.745361328125, 3335.376708984375, 3117.38134765625, 3020.880859375, 3075.911376953125, 2947.68359375, 3061.140625, 3216.718017578125, 3247.91748046875, 3203.82373046875, 3278.6708984375, 3291.563720703125, 3157.22412109375, 3096.12353515625, 3055.21240234375, 3000.908203125, 2496.81298828125, 2330.247314453125, 2381.51513671875, 2172.30126953125, 2359.384765625, 2417.68310546875, 2328.4521484375, 2367.833740234375, 2526.98974609375, 2550.4609375, 2489.072265625, 2682.621826171875, 2630.120361328125, 2587.783447265625, 2675.44384765625, 2966.781005859375, 2965.429931640625, 3002.927001953125, 3038.3779296875, 3063.16015625, 3070.378173828125, 2888.707763671875, 2870.177001953125, 2845.397705078125, 2840.257568359375, 2917.857177734375, 3055.168212890625, 2861.85205078125, 2761.643310546875, 2707.37841796875, 2585.9462890625, 2568.25439453125, 2510.6787109375, 2587.412841796875, 2308.914794921875, 2579.2080078125, 2745.009033203125, 2581.61572265625, 2586.38818359375, 2868.93896484375, 2919.943115234375, 2797.3193359375, 2587.748291015625, 2596.989990234375, 2555.037353515625, 2455.59375, 2489.755126953125, 2573.6552734375, 2566.193115234375, 2534.688232421875, 2559.126953125, 2503.88525390625, 2505.29931640625, 2515.765869140625, 2610.764404296875, 2751.560791015625, 2774.855712890625, 2910.80224609375, 2826.107421875, 2838.25048828125, 2892.54443359375, 2933.306640625, 3012.32666015625, 3087.49072265625, 3091.825439453125, 3129.997802734375, 3279.027099609375, 3335.021240234375, 3349.237060546875, 3272.9345703125, 3223.891357421875, 3442.000244140625, 3421.259765625, 3422.0009765625, 3410.547607421875, 3171.205078125, 3155.5810546875, 3179.142333984375, 3187.46923828125, 3211.866943359375, 2962.756591796875, 2957.872314453125, 3006.481689453125, 2988.435302734375, 3001.123291015625, 3016.421142578125, 2989.0439453125, 2893.912841796875, 3035.53515625, 3045.288330078125, 2962.410400390625, 2942.358642578125, 2926.740234375, 2922.128662109375, 2804.507080078125, 2786.253173828125, 2802.2734375, 2861.821533203125, 2782.435302734375, 2727.40625, 2728.078857421875, 2785.52294921875, 2762.11865234375, 2779.273681640625, 2704.916259765625, 2645.335205078125, 2599.5234375, 2498.43017578125, 2238.062744140625, 2206.7568359375, 2018.8555908203125, 1748.3031005859375, 1941.9759521484375, 1956.572998046875, 2008.1627197265625, 1988.811767578125, 2015.9715576171875, 1916.6561279296875, 1907.0205078125, 1926.6767578125, 1944.26513671875, 1966.038818359375, 1964.3865966796875, 1920.6881103515625, 1943.9385986328125, 1759.1995849609375, 1721.2647705078125, 1724.635986328125, 1765.9373779296875, 1804.4560546875, 1932.35205078125, 1776.05322265625]}, {\"histfunc\": \"count\", \"histnorm\": \"\", \"marker\": {\"color\": \"rgba(50, 171, 96, 1.0)\", \"line\": {\"color\": \"#4D5663\", \"width\": 1.3}}, \"name\": \"Open\", \"opacity\": 0.8, \"orientation\": \"v\", \"type\": \"histogram\", \"x\": [3683.047119140625, 3769.29833984375, 3829.53564453125, 3761.361572265625, 3794.26904296875, 3549.708984375, 3417.837890625, 3193.50244140625, 3091.6962890625, 3157.570556640625, 3082.990966796875, 3238.449951171875, 3372.10498046875, 3248.648681640625, 3309.84423828125, 3330.38720703125, 3350.947265625, 3212.28759765625, 3163.850341796875, 3095.271728515625, 3002.956787109375, 2561.145263671875, 2406.92431640625, 2535.89111328125, 2440.3935546875, 2455.5791015625, 2467.1884765625, 2421.64697265625, 2546.590576171875, 2598.56494140625, 2603.263427734375, 2687.89892578125, 2791.958984375, 2682.22607421875, 2681.0576171875, 2984.446044921875, 3014.959716796875, 3057.422119140625, 3143.008544921875, 3121.1826171875, 3240.113037109375, 3077.4130859375, 2927.386474609375, 2916.78955078125, 2880.187744140625, 2933.72900390625, 3180.44677734375, 3126.8583984375, 2884.340576171875, 2784.872802734375, 2763.756591796875, 2627.66552734375, 2572.898681640625, 2639.447021484375, 2588.166259765625, 2598.436279296875, 2764.989501953125, 2780.50439453125, 2621.172119140625, 2919.77587890625, 2972.471923828125, 2950.15673828125, 2834.9873046875, 2618.4736328125, 2664.943603515625, 2555.297607421875, 2497.721435546875, 2577.165283203125, 2729.116455078125, 2608.271240234375, 2559.66064453125, 2573.488037109375, 2518.486328125, 2590.6689453125, 2620.028564453125, 2771.964111328125, 2814.4345703125, 2944.7216796875, 2946.547607421875, 2860.103271484375, 2897.774169921875, 2973.14501953125, 3031.060791015625, 3108.448974609375, 3106.4052734375, 3143.795654296875, 3292.322509765625, 3335.021240234375, 3401.526123046875, 3385.289306640625, 3282.576171875, 3449.78857421875, 3444.810546875, 3522.364990234375, 3521.23974609375, 3411.672119140625, 3172.197265625, 3233.2724609375, 3191.97607421875, 3261.29150390625, 3209.576904296875, 2981.420654296875, 3029.8779296875, 3117.82177734375, 3020.134521484375, 3041.123291015625, 3061.8818359375, 2993.48388671875, 3057.5703125, 3103.93505859375, 3077.829345703125, 2986.938720703125, 2964.80224609375, 2937.34716796875, 2922.990234375, 3008.9462890625, 2808.64599609375, 2888.849853515625, 2936.776611328125, 2815.533447265625, 2729.994140625, 2827.614013671875, 2857.15234375, 2783.131103515625, 2940.2265625, 2748.931640625, 2694.991943359375, 2636.121826171875, 2518.50830078125, 2242.650390625, 2342.754150390625, 2072.504638671875, 1960.12255859375, 2014.2806396484375, 2056.18310546875, 2145.8369140625, 2022.88232421875, 2090.4599609375, 1916.1495361328125, 2018.0001220703125, 1961.0179443359375, 1974.670654296875, 2042.3447265625, 1972.390869140625, 1978.677001953125, 1945.0333251953125, 1802.5438232421875, 1724.635986328125, 1792.1844482421875, 1811.885986328125, 1996.4080810546875, 1942.0506591796875]}, {\"histfunc\": \"count\", \"histnorm\": \"\", \"marker\": {\"color\": \"rgba(128, 0, 128, 1.0)\", \"line\": {\"color\": \"#4D5663\", \"width\": 1.3}}, \"name\": \"Close\", \"opacity\": 0.8, \"orientation\": \"v\", \"type\": \"histogram\", \"x\": [3769.697021484375, 3829.56494140625, 3761.38037109375, 3794.056640625, 3550.386962890625, 3418.408203125, 3193.21044921875, 3091.97265625, 3157.75146484375, 3083.097900390625, 3238.111572265625, 3372.25830078125, 3248.28857421875, 3310.00146484375, 3330.53076171875, 3350.921875, 3212.304931640625, 3164.025146484375, 3095.825927734375, 3001.1201171875, 2557.931640625, 2405.18115234375, 2535.0390625, 2440.352294921875, 2455.93505859375, 2468.0302734375, 2423.001220703125, 2547.092041015625, 2597.084716796875, 2603.466552734375, 2688.27880859375, 2792.1171875, 2682.85400390625, 2679.16259765625, 2983.5869140625, 3014.648193359375, 3057.47607421875, 3142.470703125, 3122.608642578125, 3239.45703125, 3077.482177734375, 2927.383544921875, 2917.36279296875, 2883.46337890625, 2933.47900390625, 3179.877197265625, 3127.830078125, 2881.48193359375, 2785.7275390625, 2763.701171875, 2628.6484375, 2573.816162109375, 2639.29931640625, 2590.359619140625, 2598.067138671875, 2764.53564453125, 2781.11181640625, 2621.8017578125, 2919.201171875, 2972.485107421875, 2950.118408203125, 2834.468994140625, 2617.156005859375, 2664.8310546875, 2555.037353515625, 2497.771240234375, 2576.74755859375, 2729.783447265625, 2608.048583984375, 2559.56298828125, 2574.754150390625, 2518.944580078125, 2590.696044921875, 2620.149658203125, 2772.0556640625, 2814.8544921875, 2945.343017578125, 2946.257080078125, 2860.459228515625, 2897.9765625, 2973.131103515625, 3031.067138671875, 3108.06201171875, 3106.67138671875, 3143.178955078125, 3291.57763671875, 3336.634521484375, 3401.98779296875, 3385.157958984375, 3281.642822265625, 3449.55224609375, 3445.059326171875, 3522.83349609375, 3521.2412109375, 3411.79248046875, 3171.69189453125, 3233.274658203125, 3192.073974609375, 3261.916259765625, 3211.866943359375, 2981.05224609375, 3030.37646484375, 3118.34423828125, 3019.909423828125, 3040.91650390625, 3062.310302734375, 2993.4033203125, 3057.606689453125, 3104.1064453125, 3077.745849609375, 2987.480712890625, 2964.835693359375, 2938.114013671875, 2922.732666015625, 3009.3935546875, 2808.29833984375, 2888.9296875, 2936.94091796875, 2815.601806640625, 2730.186767578125, 2827.756103515625, 2857.410400390625, 2783.476318359375, 2940.644775390625, 2749.213134765625, 2694.979736328125, 2636.093017578125, 2517.4599609375, 2245.430419921875, 2343.510986328125, 2072.108642578125, 1961.7015380859375, 2014.418212890625, 2056.27392578125, 2145.706787109375, 2022.7259521484375, 2090.4091796875, 1916.6561279296875, 2018.336181640625, 1961.315673828125, 1974.518310546875, 2043.170166015625, 1972.181884765625, 1978.9827880859375, 1944.827880859375, 1803.913330078125, 1724.9228515625, 1757.9417724609375, 1812.031005859375, 1996.4412841796875, 1942.3280029296875, 1823.5693359375]}, {\"histfunc\": \"count\", \"histnorm\": \"\", \"marker\": {\"color\": \"rgba(219, 64, 82, 1.0)\", \"line\": {\"color\": \"#4D5663\", \"width\": 1.3}}, \"name\": \"Volume\", \"opacity\": 0.8, \"orientation\": \"v\", \"type\": \"histogram\", \"x\": [9776191466, 9881471548, 12080777893, 14030925983, 18061338502, 24293791313, 24494179209, 16037732700, 12334683863, 19535744145, 15211447193, 16662871689, 15294466275, 13562957230, 9619999078, 9505934874, 12344309617, 13024154091, 13187424144, 10645922764, 26796291874, 27369692036, 16481489511, 28220804648, 16179776932, 21229909340, 16126522783, 14666227351, 11172062661, 9501221177, 13778234614, 13194846235, 13876301217, 12755505065, 18987223729, 13102093957, 9466018022, 15197063785, 17136080906, 13951308490, 18629485080, 16043881065, 11254355757, 9054963563, 12164552172, 13921257873, 12352406833, 15860206214, 15748173433, 9774183169, 11641437834, 18646392740, 16360200507, 13382637240, 29312342666, 17208902048, 11724648351, 16150857254, 19266124733, 18757425786, 16636517503, 13091199728, 14496939024, 8072368396, 8872976607, 14594098731, 13922922903, 14173665398, 13292477213, 12382419582, 6532996574, 8632000379, 11244398839, 12861105614, 17915109769, 12685265194, 15830879093, 11576463120, 12684727326, 15206116098, 16830539230, 16008767658, 18070503166, 17030503831, 8876420740, 13431866834, 20620450770, 19533323636, 15302506131, 17685495686, 20982988937, 23571556215, 15333808649, 18209969743, 16681503199, 25632563639, 16745496605, 17557050669, 9908112156, 10427054790, 21891804831, 20235707410, 16088473629, 15821419931, 11256651536, 8766710365, 10463091281, 18629381299, 14156035096, 15547362265, 20783591093, 16782795477, 9116955609, 9696829579, 22332690614, 19052045399, 17419284041, 18443524633, 18771041399, 13520941867, 15332730152, 18609741545, 13026093219, 18186749944, 22642925048, 21027599270, 13369276367, 20802269935, 36333567678, 38202099639, 45743399154, 42463486402, 24816096567, 15457044616, 14846088335, 21459552191, 18509929297, 17740965589, 18734247914, 15892482289, 8546822406, 10941123403, 16434529708, 13057109007, 13364545730, 23458681818, 25470760032, 23214777872, 10642556101, 19580808705, 18363115560, 21037797760]}, {\"histfunc\": \"count\", \"histnorm\": \"\", \"marker\": {\"color\": \"rgba(0, 128, 128, 1.0)\", \"line\": {\"color\": \"#4D5663\", \"width\": 1.3}}, \"name\": \"Adj Close\", \"opacity\": 0.8, \"orientation\": \"v\", \"type\": \"histogram\", \"x\": [3769.697021484375, 3829.56494140625, 3761.38037109375, 3794.056640625, 3550.386962890625, 3418.408203125, 3193.21044921875, 3091.97265625, 3157.75146484375, 3083.097900390625, 3238.111572265625, 3372.25830078125, 3248.28857421875, 3310.00146484375, 3330.53076171875, 3350.921875, 3212.304931640625, 3164.025146484375, 3095.825927734375, 3001.1201171875, 2557.931640625, 2405.18115234375, 2535.0390625, 2440.352294921875, 2455.93505859375, 2468.0302734375, 2423.001220703125, 2547.092041015625, 2597.084716796875, 2603.466552734375, 2688.27880859375, 2792.1171875, 2682.85400390625, 2679.16259765625, 2983.5869140625, 3014.648193359375, 3057.47607421875, 3142.470703125, 3122.608642578125, 3239.45703125, 3077.482177734375, 2927.383544921875, 2917.36279296875, 2883.46337890625, 2933.47900390625, 3179.877197265625, 3127.830078125, 2881.48193359375, 2785.7275390625, 2763.701171875, 2628.6484375, 2573.816162109375, 2639.29931640625, 2590.359619140625, 2598.067138671875, 2764.53564453125, 2781.11181640625, 2621.8017578125, 2919.201171875, 2972.485107421875, 2950.118408203125, 2834.468994140625, 2617.156005859375, 2664.8310546875, 2555.037353515625, 2497.771240234375, 2576.74755859375, 2729.783447265625, 2608.048583984375, 2559.56298828125, 2574.754150390625, 2518.944580078125, 2590.696044921875, 2620.149658203125, 2772.0556640625, 2814.8544921875, 2945.343017578125, 2946.257080078125, 2860.459228515625, 2897.9765625, 2973.131103515625, 3031.067138671875, 3108.06201171875, 3106.67138671875, 3143.178955078125, 3291.57763671875, 3336.634521484375, 3401.98779296875, 3385.157958984375, 3281.642822265625, 3449.55224609375, 3445.059326171875, 3522.83349609375, 3521.2412109375, 3411.79248046875, 3171.69189453125, 3233.274658203125, 3192.073974609375, 3261.916259765625, 3211.866943359375, 2981.05224609375, 3030.37646484375, 3118.34423828125, 3019.909423828125, 3040.91650390625, 3062.310302734375, 2993.4033203125, 3057.606689453125, 3104.1064453125, 3077.745849609375, 2987.480712890625, 2964.835693359375, 2938.114013671875, 2922.732666015625, 3009.3935546875, 2808.29833984375, 2888.9296875, 2936.94091796875, 2815.601806640625, 2730.186767578125, 2827.756103515625, 2857.410400390625, 2783.476318359375, 2940.644775390625, 2749.213134765625, 2694.979736328125, 2636.093017578125, 2517.4599609375, 2245.430419921875, 2343.510986328125, 2072.108642578125, 1961.7015380859375, 2014.418212890625, 2056.27392578125, 2145.706787109375, 2022.7259521484375, 2090.4091796875, 1916.6561279296875, 2018.336181640625, 1961.315673828125, 1974.518310546875, 2043.170166015625, 1972.181884765625, 1978.9827880859375, 1944.827880859375, 1803.913330078125, 1724.9228515625, 1757.9417724609375, 1812.031005859375, 1996.4412841796875, 1942.3280029296875, 1823.5693359375]}],                        {\"barmode\": \"overlay\", \"legend\": {\"bgcolor\": \"#F5F6F9\", \"font\": {\"color\": \"#4D5663\"}}, \"paper_bgcolor\": \"#F5F6F9\", \"plot_bgcolor\": \"#F5F6F9\", \"template\": {\"data\": {\"bar\": [{\"error_x\": {\"color\": \"#2a3f5f\"}, \"error_y\": {\"color\": \"#2a3f5f\"}, \"marker\": {\"line\": {\"color\": \"#E5ECF6\", \"width\": 0.5}}, \"type\": \"bar\"}], \"barpolar\": [{\"marker\": {\"line\": {\"color\": \"#E5ECF6\", \"width\": 0.5}}, \"type\": \"barpolar\"}], \"carpet\": [{\"aaxis\": {\"endlinecolor\": \"#2a3f5f\", \"gridcolor\": \"white\", \"linecolor\": \"white\", \"minorgridcolor\": \"white\", \"startlinecolor\": \"#2a3f5f\"}, \"baxis\": {\"endlinecolor\": \"#2a3f5f\", \"gridcolor\": \"white\", \"linecolor\": \"white\", \"minorgridcolor\": \"white\", \"startlinecolor\": \"#2a3f5f\"}, \"type\": \"carpet\"}], \"choropleth\": [{\"colorbar\": {\"outlinewidth\": 0, \"ticks\": \"\"}, \"type\": \"choropleth\"}], \"contour\": [{\"colorbar\": {\"outlinewidth\": 0, \"ticks\": \"\"}, \"colorscale\": [[0.0, \"#0d0887\"], [0.1111111111111111, \"#46039f\"], [0.2222222222222222, \"#7201a8\"], [0.3333333333333333, \"#9c179e\"], [0.4444444444444444, \"#bd3786\"], [0.5555555555555556, \"#d8576b\"], [0.6666666666666666, \"#ed7953\"], [0.7777777777777778, \"#fb9f3a\"], [0.8888888888888888, \"#fdca26\"], [1.0, \"#f0f921\"]], \"type\": \"contour\"}], \"contourcarpet\": [{\"colorbar\": {\"outlinewidth\": 0, \"ticks\": \"\"}, \"type\": \"contourcarpet\"}], \"heatmap\": [{\"colorbar\": {\"outlinewidth\": 0, \"ticks\": \"\"}, \"colorscale\": [[0.0, \"#0d0887\"], [0.1111111111111111, \"#46039f\"], [0.2222222222222222, \"#7201a8\"], [0.3333333333333333, \"#9c179e\"], [0.4444444444444444, \"#bd3786\"], [0.5555555555555556, \"#d8576b\"], [0.6666666666666666, \"#ed7953\"], [0.7777777777777778, \"#fb9f3a\"], [0.8888888888888888, \"#fdca26\"], [1.0, \"#f0f921\"]], \"type\": \"heatmap\"}], \"heatmapgl\": [{\"colorbar\": {\"outlinewidth\": 0, \"ticks\": \"\"}, \"colorscale\": [[0.0, \"#0d0887\"], [0.1111111111111111, \"#46039f\"], [0.2222222222222222, \"#7201a8\"], [0.3333333333333333, \"#9c179e\"], [0.4444444444444444, \"#bd3786\"], [0.5555555555555556, \"#d8576b\"], [0.6666666666666666, \"#ed7953\"], [0.7777777777777778, \"#fb9f3a\"], [0.8888888888888888, \"#fdca26\"], [1.0, \"#f0f921\"]], \"type\": \"heatmapgl\"}], \"histogram\": [{\"marker\": {\"colorbar\": {\"outlinewidth\": 0, \"ticks\": \"\"}}, \"type\": \"histogram\"}], \"histogram2d\": [{\"colorbar\": {\"outlinewidth\": 0, \"ticks\": \"\"}, \"colorscale\": [[0.0, \"#0d0887\"], [0.1111111111111111, \"#46039f\"], [0.2222222222222222, \"#7201a8\"], [0.3333333333333333, \"#9c179e\"], [0.4444444444444444, \"#bd3786\"], [0.5555555555555556, \"#d8576b\"], [0.6666666666666666, \"#ed7953\"], [0.7777777777777778, \"#fb9f3a\"], [0.8888888888888888, \"#fdca26\"], [1.0, \"#f0f921\"]], \"type\": \"histogram2d\"}], \"histogram2dcontour\": [{\"colorbar\": {\"outlinewidth\": 0, \"ticks\": \"\"}, \"colorscale\": [[0.0, \"#0d0887\"], [0.1111111111111111, \"#46039f\"], [0.2222222222222222, \"#7201a8\"], [0.3333333333333333, \"#9c179e\"], [0.4444444444444444, \"#bd3786\"], [0.5555555555555556, \"#d8576b\"], [0.6666666666666666, \"#ed7953\"], [0.7777777777777778, \"#fb9f3a\"], [0.8888888888888888, \"#fdca26\"], [1.0, \"#f0f921\"]], \"type\": \"histogram2dcontour\"}], \"mesh3d\": [{\"colorbar\": {\"outlinewidth\": 0, \"ticks\": \"\"}, \"type\": \"mesh3d\"}], \"parcoords\": [{\"line\": {\"colorbar\": {\"outlinewidth\": 0, \"ticks\": \"\"}}, \"type\": \"parcoords\"}], \"pie\": [{\"automargin\": true, \"type\": \"pie\"}], \"scatter\": [{\"marker\": {\"colorbar\": {\"outlinewidth\": 0, \"ticks\": \"\"}}, \"type\": \"scatter\"}], \"scatter3d\": [{\"line\": {\"colorbar\": {\"outlinewidth\": 0, \"ticks\": \"\"}}, \"marker\": {\"colorbar\": {\"outlinewidth\": 0, \"ticks\": \"\"}}, \"type\": \"scatter3d\"}], \"scattercarpet\": [{\"marker\": {\"colorbar\": {\"outlinewidth\": 0, \"ticks\": \"\"}}, \"type\": \"scattercarpet\"}], \"scattergeo\": [{\"marker\": {\"colorbar\": {\"outlinewidth\": 0, \"ticks\": \"\"}}, \"type\": \"scattergeo\"}], \"scattergl\": [{\"marker\": {\"colorbar\": {\"outlinewidth\": 0, \"ticks\": \"\"}}, \"type\": \"scattergl\"}], \"scattermapbox\": [{\"marker\": {\"colorbar\": {\"outlinewidth\": 0, \"ticks\": \"\"}}, \"type\": \"scattermapbox\"}], \"scatterpolar\": [{\"marker\": {\"colorbar\": {\"outlinewidth\": 0, \"ticks\": \"\"}}, \"type\": \"scatterpolar\"}], \"scatterpolargl\": [{\"marker\": {\"colorbar\": {\"outlinewidth\": 0, \"ticks\": \"\"}}, \"type\": \"scatterpolargl\"}], \"scatterternary\": [{\"marker\": {\"colorbar\": {\"outlinewidth\": 0, \"ticks\": \"\"}}, \"type\": \"scatterternary\"}], \"surface\": [{\"colorbar\": {\"outlinewidth\": 0, \"ticks\": \"\"}, \"colorscale\": [[0.0, \"#0d0887\"], [0.1111111111111111, \"#46039f\"], [0.2222222222222222, \"#7201a8\"], [0.3333333333333333, \"#9c179e\"], [0.4444444444444444, \"#bd3786\"], [0.5555555555555556, \"#d8576b\"], [0.6666666666666666, \"#ed7953\"], [0.7777777777777778, \"#fb9f3a\"], [0.8888888888888888, \"#fdca26\"], [1.0, \"#f0f921\"]], \"type\": \"surface\"}], \"table\": [{\"cells\": {\"fill\": {\"color\": \"#EBF0F8\"}, \"line\": {\"color\": \"white\"}}, \"header\": {\"fill\": {\"color\": \"#C8D4E3\"}, \"line\": {\"color\": \"white\"}}, \"type\": \"table\"}]}, \"layout\": {\"annotationdefaults\": {\"arrowcolor\": \"#2a3f5f\", \"arrowhead\": 0, \"arrowwidth\": 1}, \"autotypenumbers\": \"strict\", \"coloraxis\": {\"colorbar\": {\"outlinewidth\": 0, \"ticks\": \"\"}}, \"colorscale\": {\"diverging\": [[0, \"#8e0152\"], [0.1, \"#c51b7d\"], [0.2, \"#de77ae\"], [0.3, \"#f1b6da\"], [0.4, \"#fde0ef\"], [0.5, \"#f7f7f7\"], [0.6, \"#e6f5d0\"], [0.7, \"#b8e186\"], [0.8, \"#7fbc41\"], [0.9, \"#4d9221\"], [1, \"#276419\"]], \"sequential\": [[0.0, \"#0d0887\"], [0.1111111111111111, \"#46039f\"], [0.2222222222222222, \"#7201a8\"], [0.3333333333333333, \"#9c179e\"], [0.4444444444444444, \"#bd3786\"], [0.5555555555555556, \"#d8576b\"], [0.6666666666666666, \"#ed7953\"], [0.7777777777777778, \"#fb9f3a\"], [0.8888888888888888, \"#fdca26\"], [1.0, \"#f0f921\"]], \"sequentialminus\": [[0.0, \"#0d0887\"], [0.1111111111111111, \"#46039f\"], [0.2222222222222222, \"#7201a8\"], [0.3333333333333333, \"#9c179e\"], [0.4444444444444444, \"#bd3786\"], [0.5555555555555556, \"#d8576b\"], [0.6666666666666666, \"#ed7953\"], [0.7777777777777778, \"#fb9f3a\"], [0.8888888888888888, \"#fdca26\"], [1.0, \"#f0f921\"]]}, \"colorway\": [\"#636efa\", \"#EF553B\", \"#00cc96\", \"#ab63fa\", \"#FFA15A\", \"#19d3f3\", \"#FF6692\", \"#B6E880\", \"#FF97FF\", \"#FECB52\"], \"font\": {\"color\": \"#2a3f5f\"}, \"geo\": {\"bgcolor\": \"white\", \"lakecolor\": \"white\", \"landcolor\": \"#E5ECF6\", \"showlakes\": true, \"showland\": true, \"subunitcolor\": \"white\"}, \"hoverlabel\": {\"align\": \"left\"}, \"hovermode\": \"closest\", \"mapbox\": {\"style\": \"light\"}, \"paper_bgcolor\": \"white\", \"plot_bgcolor\": \"#E5ECF6\", \"polar\": {\"angularaxis\": {\"gridcolor\": \"white\", \"linecolor\": \"white\", \"ticks\": \"\"}, \"bgcolor\": \"#E5ECF6\", \"radialaxis\": {\"gridcolor\": \"white\", \"linecolor\": \"white\", \"ticks\": \"\"}}, \"scene\": {\"xaxis\": {\"backgroundcolor\": \"#E5ECF6\", \"gridcolor\": \"white\", \"gridwidth\": 2, \"linecolor\": \"white\", \"showbackground\": true, \"ticks\": \"\", \"zerolinecolor\": \"white\"}, \"yaxis\": {\"backgroundcolor\": \"#E5ECF6\", \"gridcolor\": \"white\", \"gridwidth\": 2, \"linecolor\": \"white\", \"showbackground\": true, \"ticks\": \"\", \"zerolinecolor\": \"white\"}, \"zaxis\": {\"backgroundcolor\": \"#E5ECF6\", \"gridcolor\": \"white\", \"gridwidth\": 2, \"linecolor\": \"white\", \"showbackground\": true, \"ticks\": \"\", \"zerolinecolor\": \"white\"}}, \"shapedefaults\": {\"line\": {\"color\": \"#2a3f5f\"}}, \"ternary\": {\"aaxis\": {\"gridcolor\": \"white\", \"linecolor\": \"white\", \"ticks\": \"\"}, \"baxis\": {\"gridcolor\": \"white\", \"linecolor\": \"white\", \"ticks\": \"\"}, \"bgcolor\": \"#E5ECF6\", \"caxis\": {\"gridcolor\": \"white\", \"linecolor\": \"white\", \"ticks\": \"\"}}, \"title\": {\"x\": 0.05}, \"xaxis\": {\"automargin\": true, \"gridcolor\": \"white\", \"linecolor\": \"white\", \"ticks\": \"\", \"title\": {\"standoff\": 15}, \"zerolinecolor\": \"white\", \"zerolinewidth\": 2}, \"yaxis\": {\"automargin\": true, \"gridcolor\": \"white\", \"linecolor\": \"white\", \"ticks\": \"\", \"title\": {\"standoff\": 15}, \"zerolinecolor\": \"white\", \"zerolinewidth\": 2}}}, \"title\": {\"font\": {\"color\": \"#4D5663\"}}, \"xaxis\": {\"gridcolor\": \"#E1E5ED\", \"showgrid\": true, \"tickfont\": {\"color\": \"#4D5663\"}, \"title\": {\"font\": {\"color\": \"#4D5663\"}, \"text\": \"\"}, \"zerolinecolor\": \"#E1E5ED\"}, \"yaxis\": {\"gridcolor\": \"#E1E5ED\", \"showgrid\": true, \"tickfont\": {\"color\": \"#4D5663\"}, \"title\": {\"font\": {\"color\": \"#4D5663\"}, \"text\": \"\"}, \"zerolinecolor\": \"#E1E5ED\"}},                        {\"showLink\": true, \"linkText\": \"Export to plot.ly\", \"plotlyServerURL\": \"https://plot.ly\", \"responsive\": true}                    ).then(function(){\n",
       "                            \n",
       "var gd = document.getElementById('4badd548-13b7-493a-9b2c-622ccb88ff8d');\n",
       "var x = new MutationObserver(function (mutations, observer) {{\n",
       "        var display = window.getComputedStyle(gd).display;\n",
       "        if (!display || display === 'none') {{\n",
       "            console.log([gd, 'removed!']);\n",
       "            Plotly.purge(gd);\n",
       "            observer.disconnect();\n",
       "        }}\n",
       "}});\n",
       "\n",
       "// Listen for the removal of the full notebook cells\n",
       "var notebookContainer = gd.closest('#notebook-container');\n",
       "if (notebookContainer) {{\n",
       "    x.observe(notebookContainer, {childList: true});\n",
       "}}\n",
       "\n",
       "// Listen for the clearing of the current output cell\n",
       "var outputEl = gd.closest('.output');\n",
       "if (outputEl) {{\n",
       "    x.observe(outputEl, {childList: true});\n",
       "}}\n",
       "\n",
       "                        })                };                });            </script>        </div>"
      ]
     },
     "metadata": {},
     "output_type": "display_data"
    }
   ],
   "source": [
    "cpt['ETH-USD'].iplot(kind='hist')"
   ]
  },
  {
   "cell_type": "code",
   "execution_count": 20,
   "id": "4bdb4c09",
   "metadata": {},
   "outputs": [
    {
     "data": {
      "application/vnd.plotly.v1+json": {
       "config": {
        "linkText": "Export to plot.ly",
        "plotlyServerURL": "https://plot.ly",
        "showLink": true
       },
       "data": [
        {
         "line": {
          "color": "rgba(255, 153, 51, 1.0)",
          "dash": "solid",
          "shape": "linear",
          "width": 1.3
         },
         "marker": {
          "size": 10,
          "symbol": "circle"
         },
         "mode": "markers",
         "name": "ETH-USD Return",
         "text": "",
         "type": "scatter",
         "x": [
          null,
          -0.007163274962024402,
          -0.0187368774698079,
          -0.012065555013512697,
          -0.050734060615097554,
          -0.009366159015892994,
          -0.03714070469186992,
          0.004235994902819673,
          0.004256970472081845,
          -0.0021554853640055605,
          0.021869109453241498,
          0.028389418684672707,
          -0.030888714484173407,
          0.011930269358978673,
          0.001802778677309158,
          -0.0014711291913973579,
          -0.020024366790964976,
          0.0029604828561313745,
          -0.014897823244158781,
          -0.02548634039729203,
          -0.10381165615712484,
          -0.039143484680769114,
          0.03558509252717301,
          0.010406744495611076,
          0.008175727030871549,
          -0.002757016878562668,
          0.007763821260712289,
          0.017397102127314046,
          0.00936493083845824,
          -0.005783656346668664,
          0.01491453610450133,
          0.00676006528835682,
          -0.046209029430310355,
          0.005456046132945147,
          0.116978066100073,
          -0.001438787435204647,
          0.023437312952531153,
          0.033665872045371525,
          0.0063448528050995545,
          0.004994545046617338,
          -0.01744935921313273,
          -0.026561982607033352,
          -0.0038546734323026133,
          -0.001111462077505676,
          0.009228086961576842,
          0.04668769779745485,
          -0.013759752216496501,
          -0.07788223029977337,
          -0.012507647384577658,
          0.0022777282826873524,
          -0.04214073972532317,
          -0.03528620868790788,
          0.03265642371222732,
          -0.025843815613622922,
          0.027778400368163814,
          0.022998939789759643,
          -0.002781397053842838,
          -0.03568234201898368,
          0.1454118392886461,
          0.026888524570001016,
          -0.009706302725009275,
          -0.03351981142193561,
          -0.07806935036049167,
          0.00671938064683042,
          -0.024887994408395286,
          -0.009316643885282638,
          0.017740259990833174,
          0.08378639716414904,
          -0.060630954045771346,
          -0.016291319622939393,
          0.002810649293818468,
          -0.027101257933814904,
          0.0480080837903738,
          -0.008268101563720931,
          0.04588714481344902,
          -0.00467993171076464,
          0.020750884742987363,
          0.009317830622209256,
          -0.022346848712323064,
          -0.004117262624553253,
          0.031180014163224357,
          0.012610091153007819,
          0.024898646221148013,
          0.008821397620525806,
          0.003429583093865096,
          0.052126312256127294,
          0.0065678873583499,
          0.0071661546110000085,
          -0.008491735032190584,
          -0.03238210822970233,
          0.016315115388267687,
          -0.008917040798352427,
          0.012745379989237415,
          0.003640395949819908,
          -0.02287907280900814,
          -0.05156849392240015,
          0.006876459247305178,
          -0.02795577079433975,
          0.011693070951357853,
          -0.013427680050824398,
          -0.06363225953812457,
          0.015315083892861292,
          0.025906300465151855,
          -0.029908006531745968,
          0.015473675726454417,
          -0.0031805042860567623,
          -0.017502542356175654,
          0.027929174608607443,
          0.016571096753378534,
          -0.003093074404708074,
          -0.020471984048854197,
          -0.019420038833716236,
          -0.0063811726165236005,
          -0.0004416040475622163,
          0.025057850055308917,
          -0.057858267871623625,
          0.029478882606909007,
          0.013575224570606004,
          -0.02926557389929385,
          -0.023179313474195662,
          0.019997911964443782,
          0.001565786170879102,
          -0.020215120218891713,
          0.051599856624237495,
          -0.07867402068901796,
          -0.014606061408683924,
          -0.014954355270636377,
          -0.040636848764922684,
          -0.11046369999353145,
          0.02396125848050934,
          -0.06725839173272163,
          0.003849706798608521,
          0.008102229834508146,
          0.027939733537411415,
          0.03999325713567892,
          -0.046069001557128786,
          0.018850785235190015,
          -0.05605711989808215,
          0.05550304428240649,
          -0.036734890846488066,
          0.007927413013061102,
          0.030289794482822652,
          -0.04039123144227663,
          0.019130468401079792,
          -0.003143576713387941,
          -0.009983529917456657,
          -0.02185551924250806,
          0.006543557286537771,
          0.02190035821988534,
          0.07744470968730455,
          0.0020777630413166825,
          -0.06269536357891181
         ],
         "y": [
          "",
          0.01588136117589123,
          -0.017804782359288618,
          0.008687307931515731,
          -0.06422404850925867,
          -0.0371730634280415,
          -0.06587795854818668,
          -0.031704077942472875,
          0.021274058960640163,
          -0.02364136800640171,
          0.05027854349203764,
          0.04142745718356022,
          -0.03676163434271329,
          0.018998586244709736,
          0.006202201749167191,
          0.006122481592311324,
          -0.04136680845756069,
          -0.015029639521672689,
          -0.021554575451392277,
          -0.030591452089873683,
          -0.14767435465989753,
          -0.05971640752836038,
          0.053990906269038685,
          -0.03735120652726631,
          0.006385456601614825,
          0.0049248919678990255,
          -0.018244935331225953,
          0.05121368460412512,
          0.019627353458854913,
          0.0024573075711489256,
          0.03257666428258821,
          0.03862634283851252,
          -0.039132735575322264,
          -0.0013759251322007504,
          0.11362666703116964,
          0.010410717097086852,
          0.014206593311191451,
          0.027798951436755814,
          -0.00632052369720526,
          0.037420119536786256,
          -0.05000061799033162,
          -0.04877319319619966,
          -0.0034231086563658586,
          -0.011619882910758439,
          0.01734567720397817,
          0.08399521286202116,
          -0.01636765067071777,
          -0.07876007915331673,
          -0.03323095432766643,
          -0.00790686342387692,
          -0.048866619788482835,
          -0.02085949365019457,
          0.02544204798341476,
          -0.01854268553832039,
          0.002975463126547284,
          0.0640739815309288,
          0.005996005841990337,
          -0.05728286710874153,
          0.1134332194172587,
          0.018252916606172453,
          -0.0075245790678323266,
          -0.03920161771843611,
          -0.07666797157791327,
          0.018216357267732075,
          -0.04120099883208184,
          -0.02241302390450539,
          0.031618715552175436,
          0.0593911064983772,
          -0.04459506244101141,
          -0.018590756322895086,
          0.005935060859578956,
          -0.021675689037740864,
          0.02848473341224711,
          0.011368996119395458,
          0.057976079871540964,
          0.015439382650158429,
          0.04635711215367966,
          0.00031034161201071164,
          -0.029120965764543816,
          0.013115842942408973,
          0.025933453702879916,
          0.019486538985025836,
          0.02540190286930155,
          -0.0004474251140281771,
          0.011751345351635134,
          0.047212927981994834,
          0.013688537758611341,
          0.0195865837458582,
          -0.004947058898670642,
          -0.030579115649246424,
          0.051166270347545506,
          -0.0013024646682661123,
          0.022575567663241758,
          -0.0004519898990444915,
          -0.031082429152761826,
          -0.07037373677091652,
          0.019416376407197067,
          -0.012742710703286475,
          0.02187990808226714,
          -0.015343531967263346,
          -0.07186309437345806,
          0.016545908853034197,
          0.0290286617712483,
          -0.03156637206525337,
          0.0069561954118133595,
          0.007035312808044258,
          -0.022501632953508044,
          0.021448285536718847,
          0.015207893160284813,
          -0.00849216873439762,
          -0.029328327006015287,
          -0.007579971791462747,
          -0.00901287034129783,
          -0.005235109183876596,
          0.029650638144067543,
          -0.06682250466394446,
          0.028711816872254436,
          0.01661903738138304,
          -0.041314794787239206,
          -0.030336334797430475,
          0.03573723860073175,
          0.010486865128902734,
          -0.02587450581867512,
          0.05646480841047263,
          -0.0650985260875554,
          -0.01972688030319758,
          -0.02185052375578611,
          -0.04500336515045189,
          -0.10805714698013369,
          0.04368007377831029,
          -0.11581014355526464,
          -0.053282488294059016,
          0.026872933410718503,
          0.020778065161833226,
          0.04349267877534668,
          -0.057314837096923754,
          0.033461392764142284,
          -0.08311915841461581,
          0.053050754503766395,
          -0.02825124393605738,
          0.006731520527228918,
          0.03476891305694485,
          -0.03474418451813721,
          0.0034484158752532412,
          -0.017258819749310206,
          -0.07245605236746355,
          -0.04378840002928741,
          0.019142259532667127,
          0.030768501122035552,
          0.10176993535099799,
          -0.02710486988964189,
          -0.061142436711543735
         ]
        }
       ],
       "layout": {
        "legend": {
         "bgcolor": "#F5F6F9",
         "font": {
          "color": "#4D5663"
         }
        },
        "paper_bgcolor": "#F5F6F9",
        "plot_bgcolor": "#F5F6F9",
        "template": {
         "data": {
          "bar": [
           {
            "error_x": {
             "color": "#2a3f5f"
            },
            "error_y": {
             "color": "#2a3f5f"
            },
            "marker": {
             "line": {
              "color": "#E5ECF6",
              "width": 0.5
             }
            },
            "type": "bar"
           }
          ],
          "barpolar": [
           {
            "marker": {
             "line": {
              "color": "#E5ECF6",
              "width": 0.5
             }
            },
            "type": "barpolar"
           }
          ],
          "carpet": [
           {
            "aaxis": {
             "endlinecolor": "#2a3f5f",
             "gridcolor": "white",
             "linecolor": "white",
             "minorgridcolor": "white",
             "startlinecolor": "#2a3f5f"
            },
            "baxis": {
             "endlinecolor": "#2a3f5f",
             "gridcolor": "white",
             "linecolor": "white",
             "minorgridcolor": "white",
             "startlinecolor": "#2a3f5f"
            },
            "type": "carpet"
           }
          ],
          "choropleth": [
           {
            "colorbar": {
             "outlinewidth": 0,
             "ticks": ""
            },
            "type": "choropleth"
           }
          ],
          "contour": [
           {
            "colorbar": {
             "outlinewidth": 0,
             "ticks": ""
            },
            "colorscale": [
             [
              0,
              "#0d0887"
             ],
             [
              0.1111111111111111,
              "#46039f"
             ],
             [
              0.2222222222222222,
              "#7201a8"
             ],
             [
              0.3333333333333333,
              "#9c179e"
             ],
             [
              0.4444444444444444,
              "#bd3786"
             ],
             [
              0.5555555555555556,
              "#d8576b"
             ],
             [
              0.6666666666666666,
              "#ed7953"
             ],
             [
              0.7777777777777778,
              "#fb9f3a"
             ],
             [
              0.8888888888888888,
              "#fdca26"
             ],
             [
              1,
              "#f0f921"
             ]
            ],
            "type": "contour"
           }
          ],
          "contourcarpet": [
           {
            "colorbar": {
             "outlinewidth": 0,
             "ticks": ""
            },
            "type": "contourcarpet"
           }
          ],
          "heatmap": [
           {
            "colorbar": {
             "outlinewidth": 0,
             "ticks": ""
            },
            "colorscale": [
             [
              0,
              "#0d0887"
             ],
             [
              0.1111111111111111,
              "#46039f"
             ],
             [
              0.2222222222222222,
              "#7201a8"
             ],
             [
              0.3333333333333333,
              "#9c179e"
             ],
             [
              0.4444444444444444,
              "#bd3786"
             ],
             [
              0.5555555555555556,
              "#d8576b"
             ],
             [
              0.6666666666666666,
              "#ed7953"
             ],
             [
              0.7777777777777778,
              "#fb9f3a"
             ],
             [
              0.8888888888888888,
              "#fdca26"
             ],
             [
              1,
              "#f0f921"
             ]
            ],
            "type": "heatmap"
           }
          ],
          "heatmapgl": [
           {
            "colorbar": {
             "outlinewidth": 0,
             "ticks": ""
            },
            "colorscale": [
             [
              0,
              "#0d0887"
             ],
             [
              0.1111111111111111,
              "#46039f"
             ],
             [
              0.2222222222222222,
              "#7201a8"
             ],
             [
              0.3333333333333333,
              "#9c179e"
             ],
             [
              0.4444444444444444,
              "#bd3786"
             ],
             [
              0.5555555555555556,
              "#d8576b"
             ],
             [
              0.6666666666666666,
              "#ed7953"
             ],
             [
              0.7777777777777778,
              "#fb9f3a"
             ],
             [
              0.8888888888888888,
              "#fdca26"
             ],
             [
              1,
              "#f0f921"
             ]
            ],
            "type": "heatmapgl"
           }
          ],
          "histogram": [
           {
            "marker": {
             "colorbar": {
              "outlinewidth": 0,
              "ticks": ""
             }
            },
            "type": "histogram"
           }
          ],
          "histogram2d": [
           {
            "colorbar": {
             "outlinewidth": 0,
             "ticks": ""
            },
            "colorscale": [
             [
              0,
              "#0d0887"
             ],
             [
              0.1111111111111111,
              "#46039f"
             ],
             [
              0.2222222222222222,
              "#7201a8"
             ],
             [
              0.3333333333333333,
              "#9c179e"
             ],
             [
              0.4444444444444444,
              "#bd3786"
             ],
             [
              0.5555555555555556,
              "#d8576b"
             ],
             [
              0.6666666666666666,
              "#ed7953"
             ],
             [
              0.7777777777777778,
              "#fb9f3a"
             ],
             [
              0.8888888888888888,
              "#fdca26"
             ],
             [
              1,
              "#f0f921"
             ]
            ],
            "type": "histogram2d"
           }
          ],
          "histogram2dcontour": [
           {
            "colorbar": {
             "outlinewidth": 0,
             "ticks": ""
            },
            "colorscale": [
             [
              0,
              "#0d0887"
             ],
             [
              0.1111111111111111,
              "#46039f"
             ],
             [
              0.2222222222222222,
              "#7201a8"
             ],
             [
              0.3333333333333333,
              "#9c179e"
             ],
             [
              0.4444444444444444,
              "#bd3786"
             ],
             [
              0.5555555555555556,
              "#d8576b"
             ],
             [
              0.6666666666666666,
              "#ed7953"
             ],
             [
              0.7777777777777778,
              "#fb9f3a"
             ],
             [
              0.8888888888888888,
              "#fdca26"
             ],
             [
              1,
              "#f0f921"
             ]
            ],
            "type": "histogram2dcontour"
           }
          ],
          "mesh3d": [
           {
            "colorbar": {
             "outlinewidth": 0,
             "ticks": ""
            },
            "type": "mesh3d"
           }
          ],
          "parcoords": [
           {
            "line": {
             "colorbar": {
              "outlinewidth": 0,
              "ticks": ""
             }
            },
            "type": "parcoords"
           }
          ],
          "pie": [
           {
            "automargin": true,
            "type": "pie"
           }
          ],
          "scatter": [
           {
            "marker": {
             "colorbar": {
              "outlinewidth": 0,
              "ticks": ""
             }
            },
            "type": "scatter"
           }
          ],
          "scatter3d": [
           {
            "line": {
             "colorbar": {
              "outlinewidth": 0,
              "ticks": ""
             }
            },
            "marker": {
             "colorbar": {
              "outlinewidth": 0,
              "ticks": ""
             }
            },
            "type": "scatter3d"
           }
          ],
          "scattercarpet": [
           {
            "marker": {
             "colorbar": {
              "outlinewidth": 0,
              "ticks": ""
             }
            },
            "type": "scattercarpet"
           }
          ],
          "scattergeo": [
           {
            "marker": {
             "colorbar": {
              "outlinewidth": 0,
              "ticks": ""
             }
            },
            "type": "scattergeo"
           }
          ],
          "scattergl": [
           {
            "marker": {
             "colorbar": {
              "outlinewidth": 0,
              "ticks": ""
             }
            },
            "type": "scattergl"
           }
          ],
          "scattermapbox": [
           {
            "marker": {
             "colorbar": {
              "outlinewidth": 0,
              "ticks": ""
             }
            },
            "type": "scattermapbox"
           }
          ],
          "scatterpolar": [
           {
            "marker": {
             "colorbar": {
              "outlinewidth": 0,
              "ticks": ""
             }
            },
            "type": "scatterpolar"
           }
          ],
          "scatterpolargl": [
           {
            "marker": {
             "colorbar": {
              "outlinewidth": 0,
              "ticks": ""
             }
            },
            "type": "scatterpolargl"
           }
          ],
          "scatterternary": [
           {
            "marker": {
             "colorbar": {
              "outlinewidth": 0,
              "ticks": ""
             }
            },
            "type": "scatterternary"
           }
          ],
          "surface": [
           {
            "colorbar": {
             "outlinewidth": 0,
             "ticks": ""
            },
            "colorscale": [
             [
              0,
              "#0d0887"
             ],
             [
              0.1111111111111111,
              "#46039f"
             ],
             [
              0.2222222222222222,
              "#7201a8"
             ],
             [
              0.3333333333333333,
              "#9c179e"
             ],
             [
              0.4444444444444444,
              "#bd3786"
             ],
             [
              0.5555555555555556,
              "#d8576b"
             ],
             [
              0.6666666666666666,
              "#ed7953"
             ],
             [
              0.7777777777777778,
              "#fb9f3a"
             ],
             [
              0.8888888888888888,
              "#fdca26"
             ],
             [
              1,
              "#f0f921"
             ]
            ],
            "type": "surface"
           }
          ],
          "table": [
           {
            "cells": {
             "fill": {
              "color": "#EBF0F8"
             },
             "line": {
              "color": "white"
             }
            },
            "header": {
             "fill": {
              "color": "#C8D4E3"
             },
             "line": {
              "color": "white"
             }
            },
            "type": "table"
           }
          ]
         },
         "layout": {
          "annotationdefaults": {
           "arrowcolor": "#2a3f5f",
           "arrowhead": 0,
           "arrowwidth": 1
          },
          "autotypenumbers": "strict",
          "coloraxis": {
           "colorbar": {
            "outlinewidth": 0,
            "ticks": ""
           }
          },
          "colorscale": {
           "diverging": [
            [
             0,
             "#8e0152"
            ],
            [
             0.1,
             "#c51b7d"
            ],
            [
             0.2,
             "#de77ae"
            ],
            [
             0.3,
             "#f1b6da"
            ],
            [
             0.4,
             "#fde0ef"
            ],
            [
             0.5,
             "#f7f7f7"
            ],
            [
             0.6,
             "#e6f5d0"
            ],
            [
             0.7,
             "#b8e186"
            ],
            [
             0.8,
             "#7fbc41"
            ],
            [
             0.9,
             "#4d9221"
            ],
            [
             1,
             "#276419"
            ]
           ],
           "sequential": [
            [
             0,
             "#0d0887"
            ],
            [
             0.1111111111111111,
             "#46039f"
            ],
            [
             0.2222222222222222,
             "#7201a8"
            ],
            [
             0.3333333333333333,
             "#9c179e"
            ],
            [
             0.4444444444444444,
             "#bd3786"
            ],
            [
             0.5555555555555556,
             "#d8576b"
            ],
            [
             0.6666666666666666,
             "#ed7953"
            ],
            [
             0.7777777777777778,
             "#fb9f3a"
            ],
            [
             0.8888888888888888,
             "#fdca26"
            ],
            [
             1,
             "#f0f921"
            ]
           ],
           "sequentialminus": [
            [
             0,
             "#0d0887"
            ],
            [
             0.1111111111111111,
             "#46039f"
            ],
            [
             0.2222222222222222,
             "#7201a8"
            ],
            [
             0.3333333333333333,
             "#9c179e"
            ],
            [
             0.4444444444444444,
             "#bd3786"
            ],
            [
             0.5555555555555556,
             "#d8576b"
            ],
            [
             0.6666666666666666,
             "#ed7953"
            ],
            [
             0.7777777777777778,
             "#fb9f3a"
            ],
            [
             0.8888888888888888,
             "#fdca26"
            ],
            [
             1,
             "#f0f921"
            ]
           ]
          },
          "colorway": [
           "#636efa",
           "#EF553B",
           "#00cc96",
           "#ab63fa",
           "#FFA15A",
           "#19d3f3",
           "#FF6692",
           "#B6E880",
           "#FF97FF",
           "#FECB52"
          ],
          "font": {
           "color": "#2a3f5f"
          },
          "geo": {
           "bgcolor": "white",
           "lakecolor": "white",
           "landcolor": "#E5ECF6",
           "showlakes": true,
           "showland": true,
           "subunitcolor": "white"
          },
          "hoverlabel": {
           "align": "left"
          },
          "hovermode": "closest",
          "mapbox": {
           "style": "light"
          },
          "paper_bgcolor": "white",
          "plot_bgcolor": "#E5ECF6",
          "polar": {
           "angularaxis": {
            "gridcolor": "white",
            "linecolor": "white",
            "ticks": ""
           },
           "bgcolor": "#E5ECF6",
           "radialaxis": {
            "gridcolor": "white",
            "linecolor": "white",
            "ticks": ""
           }
          },
          "scene": {
           "xaxis": {
            "backgroundcolor": "#E5ECF6",
            "gridcolor": "white",
            "gridwidth": 2,
            "linecolor": "white",
            "showbackground": true,
            "ticks": "",
            "zerolinecolor": "white"
           },
           "yaxis": {
            "backgroundcolor": "#E5ECF6",
            "gridcolor": "white",
            "gridwidth": 2,
            "linecolor": "white",
            "showbackground": true,
            "ticks": "",
            "zerolinecolor": "white"
           },
           "zaxis": {
            "backgroundcolor": "#E5ECF6",
            "gridcolor": "white",
            "gridwidth": 2,
            "linecolor": "white",
            "showbackground": true,
            "ticks": "",
            "zerolinecolor": "white"
           }
          },
          "shapedefaults": {
           "line": {
            "color": "#2a3f5f"
           }
          },
          "ternary": {
           "aaxis": {
            "gridcolor": "white",
            "linecolor": "white",
            "ticks": ""
           },
           "baxis": {
            "gridcolor": "white",
            "linecolor": "white",
            "ticks": ""
           },
           "bgcolor": "#E5ECF6",
           "caxis": {
            "gridcolor": "white",
            "linecolor": "white",
            "ticks": ""
           }
          },
          "title": {
           "x": 0.05
          },
          "xaxis": {
           "automargin": true,
           "gridcolor": "white",
           "linecolor": "white",
           "ticks": "",
           "title": {
            "standoff": 15
           },
           "zerolinecolor": "white",
           "zerolinewidth": 2
          },
          "yaxis": {
           "automargin": true,
           "gridcolor": "white",
           "linecolor": "white",
           "ticks": "",
           "title": {
            "standoff": 15
           },
           "zerolinecolor": "white",
           "zerolinewidth": 2
          }
         }
        },
        "title": {
         "font": {
          "color": "#4D5663"
         }
        },
        "xaxis": {
         "gridcolor": "#E1E5ED",
         "showgrid": true,
         "tickfont": {
          "color": "#4D5663"
         },
         "title": {
          "font": {
           "color": "#4D5663"
          },
          "text": ""
         },
         "zerolinecolor": "#E1E5ED"
        },
        "yaxis": {
         "gridcolor": "#E1E5ED",
         "showgrid": true,
         "tickfont": {
          "color": "#4D5663"
         },
         "title": {
          "font": {
           "color": "#4D5663"
          },
          "text": ""
         },
         "zerolinecolor": "#E1E5ED"
        }
       }
      },
      "text/html": [
       "<div>                            <div id=\"27ddd6df-05cc-4bd1-8474-f2b63de800a8\" class=\"plotly-graph-div\" style=\"height:525px; width:100%;\"></div>            <script type=\"text/javascript\">                require([\"plotly\"], function(Plotly) {                    window.PLOTLYENV=window.PLOTLYENV || {};\n",
       "                    window.PLOTLYENV.BASE_URL='https://plot.ly';                                    if (document.getElementById(\"27ddd6df-05cc-4bd1-8474-f2b63de800a8\")) {                    Plotly.newPlot(                        \"27ddd6df-05cc-4bd1-8474-f2b63de800a8\",                        [{\"line\": {\"color\": \"rgba(255, 153, 51, 1.0)\", \"dash\": \"solid\", \"shape\": \"linear\", \"width\": 1.3}, \"marker\": {\"size\": 10, \"symbol\": \"circle\"}, \"mode\": \"markers\", \"name\": \"ETH-USD Return\", \"text\": \"\", \"type\": \"scatter\", \"x\": [null, -0.007163274962024402, -0.0187368774698079, -0.012065555013512697, -0.050734060615097554, -0.009366159015892994, -0.03714070469186992, 0.004235994902819673, 0.004256970472081845, -0.0021554853640055605, 0.021869109453241498, 0.028389418684672707, -0.030888714484173407, 0.011930269358978673, 0.001802778677309158, -0.0014711291913973579, -0.020024366790964976, 0.0029604828561313745, -0.014897823244158781, -0.02548634039729203, -0.10381165615712484, -0.039143484680769114, 0.03558509252717301, 0.010406744495611076, 0.008175727030871549, -0.002757016878562668, 0.007763821260712289, 0.017397102127314046, 0.00936493083845824, -0.005783656346668664, 0.01491453610450133, 0.00676006528835682, -0.046209029430310355, 0.005456046132945147, 0.116978066100073, -0.001438787435204647, 0.023437312952531153, 0.033665872045371525, 0.0063448528050995545, 0.004994545046617338, -0.01744935921313273, -0.026561982607033352, -0.0038546734323026133, -0.001111462077505676, 0.009228086961576842, 0.04668769779745485, -0.013759752216496501, -0.07788223029977337, -0.012507647384577658, 0.0022777282826873524, -0.04214073972532317, -0.03528620868790788, 0.03265642371222732, -0.025843815613622922, 0.027778400368163814, 0.022998939789759643, -0.002781397053842838, -0.03568234201898368, 0.1454118392886461, 0.026888524570001016, -0.009706302725009275, -0.03351981142193561, -0.07806935036049167, 0.00671938064683042, -0.024887994408395286, -0.009316643885282638, 0.017740259990833174, 0.08378639716414904, -0.060630954045771346, -0.016291319622939393, 0.002810649293818468, -0.027101257933814904, 0.0480080837903738, -0.008268101563720931, 0.04588714481344902, -0.00467993171076464, 0.020750884742987363, 0.009317830622209256, -0.022346848712323064, -0.004117262624553253, 0.031180014163224357, 0.012610091153007819, 0.024898646221148013, 0.008821397620525806, 0.003429583093865096, 0.052126312256127294, 0.0065678873583499, 0.0071661546110000085, -0.008491735032190584, -0.03238210822970233, 0.016315115388267687, -0.008917040798352427, 0.012745379989237415, 0.003640395949819908, -0.02287907280900814, -0.05156849392240015, 0.006876459247305178, -0.02795577079433975, 0.011693070951357853, -0.013427680050824398, -0.06363225953812457, 0.015315083892861292, 0.025906300465151855, -0.029908006531745968, 0.015473675726454417, -0.0031805042860567623, -0.017502542356175654, 0.027929174608607443, 0.016571096753378534, -0.003093074404708074, -0.020471984048854197, -0.019420038833716236, -0.0063811726165236005, -0.0004416040475622163, 0.025057850055308917, -0.057858267871623625, 0.029478882606909007, 0.013575224570606004, -0.02926557389929385, -0.023179313474195662, 0.019997911964443782, 0.001565786170879102, -0.020215120218891713, 0.051599856624237495, -0.07867402068901796, -0.014606061408683924, -0.014954355270636377, -0.040636848764922684, -0.11046369999353145, 0.02396125848050934, -0.06725839173272163, 0.003849706798608521, 0.008102229834508146, 0.027939733537411415, 0.03999325713567892, -0.046069001557128786, 0.018850785235190015, -0.05605711989808215, 0.05550304428240649, -0.036734890846488066, 0.007927413013061102, 0.030289794482822652, -0.04039123144227663, 0.019130468401079792, -0.003143576713387941, -0.009983529917456657, -0.02185551924250806, 0.006543557286537771, 0.02190035821988534, 0.07744470968730455, 0.0020777630413166825, -0.06269536357891181], \"y\": [\"\", 0.01588136117589123, -0.017804782359288618, 0.008687307931515731, -0.06422404850925867, -0.0371730634280415, -0.06587795854818668, -0.031704077942472875, 0.021274058960640163, -0.02364136800640171, 0.05027854349203764, 0.04142745718356022, -0.03676163434271329, 0.018998586244709736, 0.006202201749167191, 0.006122481592311324, -0.04136680845756069, -0.015029639521672689, -0.021554575451392277, -0.030591452089873683, -0.14767435465989753, -0.05971640752836038, 0.053990906269038685, -0.03735120652726631, 0.006385456601614825, 0.0049248919678990255, -0.018244935331225953, 0.05121368460412512, 0.019627353458854913, 0.0024573075711489256, 0.03257666428258821, 0.03862634283851252, -0.039132735575322264, -0.0013759251322007504, 0.11362666703116964, 0.010410717097086852, 0.014206593311191451, 0.027798951436755814, -0.00632052369720526, 0.037420119536786256, -0.05000061799033162, -0.04877319319619966, -0.0034231086563658586, -0.011619882910758439, 0.01734567720397817, 0.08399521286202116, -0.01636765067071777, -0.07876007915331673, -0.03323095432766643, -0.00790686342387692, -0.048866619788482835, -0.02085949365019457, 0.02544204798341476, -0.01854268553832039, 0.002975463126547284, 0.0640739815309288, 0.005996005841990337, -0.05728286710874153, 0.1134332194172587, 0.018252916606172453, -0.0075245790678323266, -0.03920161771843611, -0.07666797157791327, 0.018216357267732075, -0.04120099883208184, -0.02241302390450539, 0.031618715552175436, 0.0593911064983772, -0.04459506244101141, -0.018590756322895086, 0.005935060859578956, -0.021675689037740864, 0.02848473341224711, 0.011368996119395458, 0.057976079871540964, 0.015439382650158429, 0.04635711215367966, 0.00031034161201071164, -0.029120965764543816, 0.013115842942408973, 0.025933453702879916, 0.019486538985025836, 0.02540190286930155, -0.0004474251140281771, 0.011751345351635134, 0.047212927981994834, 0.013688537758611341, 0.0195865837458582, -0.004947058898670642, -0.030579115649246424, 0.051166270347545506, -0.0013024646682661123, 0.022575567663241758, -0.0004519898990444915, -0.031082429152761826, -0.07037373677091652, 0.019416376407197067, -0.012742710703286475, 0.02187990808226714, -0.015343531967263346, -0.07186309437345806, 0.016545908853034197, 0.0290286617712483, -0.03156637206525337, 0.0069561954118133595, 0.007035312808044258, -0.022501632953508044, 0.021448285536718847, 0.015207893160284813, -0.00849216873439762, -0.029328327006015287, -0.007579971791462747, -0.00901287034129783, -0.005235109183876596, 0.029650638144067543, -0.06682250466394446, 0.028711816872254436, 0.01661903738138304, -0.041314794787239206, -0.030336334797430475, 0.03573723860073175, 0.010486865128902734, -0.02587450581867512, 0.05646480841047263, -0.0650985260875554, -0.01972688030319758, -0.02185052375578611, -0.04500336515045189, -0.10805714698013369, 0.04368007377831029, -0.11581014355526464, -0.053282488294059016, 0.026872933410718503, 0.020778065161833226, 0.04349267877534668, -0.057314837096923754, 0.033461392764142284, -0.08311915841461581, 0.053050754503766395, -0.02825124393605738, 0.006731520527228918, 0.03476891305694485, -0.03474418451813721, 0.0034484158752532412, -0.017258819749310206, -0.07245605236746355, -0.04378840002928741, 0.019142259532667127, 0.030768501122035552, 0.10176993535099799, -0.02710486988964189, -0.061142436711543735]}],                        {\"legend\": {\"bgcolor\": \"#F5F6F9\", \"font\": {\"color\": \"#4D5663\"}}, \"paper_bgcolor\": \"#F5F6F9\", \"plot_bgcolor\": \"#F5F6F9\", \"template\": {\"data\": {\"bar\": [{\"error_x\": {\"color\": \"#2a3f5f\"}, \"error_y\": {\"color\": \"#2a3f5f\"}, \"marker\": {\"line\": {\"color\": \"#E5ECF6\", \"width\": 0.5}}, \"type\": \"bar\"}], \"barpolar\": [{\"marker\": {\"line\": {\"color\": \"#E5ECF6\", \"width\": 0.5}}, \"type\": \"barpolar\"}], \"carpet\": [{\"aaxis\": {\"endlinecolor\": \"#2a3f5f\", \"gridcolor\": \"white\", \"linecolor\": \"white\", \"minorgridcolor\": \"white\", \"startlinecolor\": \"#2a3f5f\"}, \"baxis\": {\"endlinecolor\": \"#2a3f5f\", \"gridcolor\": \"white\", \"linecolor\": \"white\", \"minorgridcolor\": \"white\", \"startlinecolor\": \"#2a3f5f\"}, \"type\": \"carpet\"}], \"choropleth\": [{\"colorbar\": {\"outlinewidth\": 0, \"ticks\": \"\"}, \"type\": \"choropleth\"}], \"contour\": [{\"colorbar\": {\"outlinewidth\": 0, \"ticks\": \"\"}, \"colorscale\": [[0.0, \"#0d0887\"], [0.1111111111111111, \"#46039f\"], [0.2222222222222222, \"#7201a8\"], [0.3333333333333333, \"#9c179e\"], [0.4444444444444444, \"#bd3786\"], [0.5555555555555556, \"#d8576b\"], [0.6666666666666666, \"#ed7953\"], [0.7777777777777778, \"#fb9f3a\"], [0.8888888888888888, \"#fdca26\"], [1.0, \"#f0f921\"]], \"type\": \"contour\"}], \"contourcarpet\": [{\"colorbar\": {\"outlinewidth\": 0, \"ticks\": \"\"}, \"type\": \"contourcarpet\"}], \"heatmap\": [{\"colorbar\": {\"outlinewidth\": 0, \"ticks\": \"\"}, \"colorscale\": [[0.0, \"#0d0887\"], [0.1111111111111111, \"#46039f\"], [0.2222222222222222, \"#7201a8\"], [0.3333333333333333, \"#9c179e\"], [0.4444444444444444, \"#bd3786\"], [0.5555555555555556, \"#d8576b\"], [0.6666666666666666, \"#ed7953\"], [0.7777777777777778, \"#fb9f3a\"], [0.8888888888888888, \"#fdca26\"], [1.0, \"#f0f921\"]], \"type\": \"heatmap\"}], \"heatmapgl\": [{\"colorbar\": {\"outlinewidth\": 0, \"ticks\": \"\"}, \"colorscale\": [[0.0, \"#0d0887\"], [0.1111111111111111, \"#46039f\"], [0.2222222222222222, \"#7201a8\"], [0.3333333333333333, \"#9c179e\"], [0.4444444444444444, \"#bd3786\"], [0.5555555555555556, \"#d8576b\"], [0.6666666666666666, \"#ed7953\"], [0.7777777777777778, \"#fb9f3a\"], [0.8888888888888888, \"#fdca26\"], [1.0, \"#f0f921\"]], \"type\": \"heatmapgl\"}], \"histogram\": [{\"marker\": {\"colorbar\": {\"outlinewidth\": 0, \"ticks\": \"\"}}, \"type\": \"histogram\"}], \"histogram2d\": [{\"colorbar\": {\"outlinewidth\": 0, \"ticks\": \"\"}, \"colorscale\": [[0.0, \"#0d0887\"], [0.1111111111111111, \"#46039f\"], [0.2222222222222222, \"#7201a8\"], [0.3333333333333333, \"#9c179e\"], [0.4444444444444444, \"#bd3786\"], [0.5555555555555556, \"#d8576b\"], [0.6666666666666666, \"#ed7953\"], [0.7777777777777778, \"#fb9f3a\"], [0.8888888888888888, \"#fdca26\"], [1.0, \"#f0f921\"]], \"type\": \"histogram2d\"}], \"histogram2dcontour\": [{\"colorbar\": {\"outlinewidth\": 0, \"ticks\": \"\"}, \"colorscale\": [[0.0, \"#0d0887\"], [0.1111111111111111, \"#46039f\"], [0.2222222222222222, \"#7201a8\"], [0.3333333333333333, \"#9c179e\"], [0.4444444444444444, \"#bd3786\"], [0.5555555555555556, \"#d8576b\"], [0.6666666666666666, \"#ed7953\"], [0.7777777777777778, \"#fb9f3a\"], [0.8888888888888888, \"#fdca26\"], [1.0, \"#f0f921\"]], \"type\": \"histogram2dcontour\"}], \"mesh3d\": [{\"colorbar\": {\"outlinewidth\": 0, \"ticks\": \"\"}, \"type\": \"mesh3d\"}], \"parcoords\": [{\"line\": {\"colorbar\": {\"outlinewidth\": 0, \"ticks\": \"\"}}, \"type\": \"parcoords\"}], \"pie\": [{\"automargin\": true, \"type\": \"pie\"}], \"scatter\": [{\"marker\": {\"colorbar\": {\"outlinewidth\": 0, \"ticks\": \"\"}}, \"type\": \"scatter\"}], \"scatter3d\": [{\"line\": {\"colorbar\": {\"outlinewidth\": 0, \"ticks\": \"\"}}, \"marker\": {\"colorbar\": {\"outlinewidth\": 0, \"ticks\": \"\"}}, \"type\": \"scatter3d\"}], \"scattercarpet\": [{\"marker\": {\"colorbar\": {\"outlinewidth\": 0, \"ticks\": \"\"}}, \"type\": \"scattercarpet\"}], \"scattergeo\": [{\"marker\": {\"colorbar\": {\"outlinewidth\": 0, \"ticks\": \"\"}}, \"type\": \"scattergeo\"}], \"scattergl\": [{\"marker\": {\"colorbar\": {\"outlinewidth\": 0, \"ticks\": \"\"}}, \"type\": \"scattergl\"}], \"scattermapbox\": [{\"marker\": {\"colorbar\": {\"outlinewidth\": 0, \"ticks\": \"\"}}, \"type\": \"scattermapbox\"}], \"scatterpolar\": [{\"marker\": {\"colorbar\": {\"outlinewidth\": 0, \"ticks\": \"\"}}, \"type\": \"scatterpolar\"}], \"scatterpolargl\": [{\"marker\": {\"colorbar\": {\"outlinewidth\": 0, \"ticks\": \"\"}}, \"type\": \"scatterpolargl\"}], \"scatterternary\": [{\"marker\": {\"colorbar\": {\"outlinewidth\": 0, \"ticks\": \"\"}}, \"type\": \"scatterternary\"}], \"surface\": [{\"colorbar\": {\"outlinewidth\": 0, \"ticks\": \"\"}, \"colorscale\": [[0.0, \"#0d0887\"], [0.1111111111111111, \"#46039f\"], [0.2222222222222222, \"#7201a8\"], [0.3333333333333333, \"#9c179e\"], [0.4444444444444444, \"#bd3786\"], [0.5555555555555556, \"#d8576b\"], [0.6666666666666666, \"#ed7953\"], [0.7777777777777778, \"#fb9f3a\"], [0.8888888888888888, \"#fdca26\"], [1.0, \"#f0f921\"]], \"type\": \"surface\"}], \"table\": [{\"cells\": {\"fill\": {\"color\": \"#EBF0F8\"}, \"line\": {\"color\": \"white\"}}, \"header\": {\"fill\": {\"color\": \"#C8D4E3\"}, \"line\": {\"color\": \"white\"}}, \"type\": \"table\"}]}, \"layout\": {\"annotationdefaults\": {\"arrowcolor\": \"#2a3f5f\", \"arrowhead\": 0, \"arrowwidth\": 1}, \"autotypenumbers\": \"strict\", \"coloraxis\": {\"colorbar\": {\"outlinewidth\": 0, \"ticks\": \"\"}}, \"colorscale\": {\"diverging\": [[0, \"#8e0152\"], [0.1, \"#c51b7d\"], [0.2, \"#de77ae\"], [0.3, \"#f1b6da\"], [0.4, \"#fde0ef\"], [0.5, \"#f7f7f7\"], [0.6, \"#e6f5d0\"], [0.7, \"#b8e186\"], [0.8, \"#7fbc41\"], [0.9, \"#4d9221\"], [1, \"#276419\"]], \"sequential\": [[0.0, \"#0d0887\"], [0.1111111111111111, \"#46039f\"], [0.2222222222222222, \"#7201a8\"], [0.3333333333333333, \"#9c179e\"], [0.4444444444444444, \"#bd3786\"], [0.5555555555555556, \"#d8576b\"], [0.6666666666666666, \"#ed7953\"], [0.7777777777777778, \"#fb9f3a\"], [0.8888888888888888, \"#fdca26\"], [1.0, \"#f0f921\"]], \"sequentialminus\": [[0.0, \"#0d0887\"], [0.1111111111111111, \"#46039f\"], [0.2222222222222222, \"#7201a8\"], [0.3333333333333333, \"#9c179e\"], [0.4444444444444444, \"#bd3786\"], [0.5555555555555556, \"#d8576b\"], [0.6666666666666666, \"#ed7953\"], [0.7777777777777778, \"#fb9f3a\"], [0.8888888888888888, \"#fdca26\"], [1.0, \"#f0f921\"]]}, \"colorway\": [\"#636efa\", \"#EF553B\", \"#00cc96\", \"#ab63fa\", \"#FFA15A\", \"#19d3f3\", \"#FF6692\", \"#B6E880\", \"#FF97FF\", \"#FECB52\"], \"font\": {\"color\": \"#2a3f5f\"}, \"geo\": {\"bgcolor\": \"white\", \"lakecolor\": \"white\", \"landcolor\": \"#E5ECF6\", \"showlakes\": true, \"showland\": true, \"subunitcolor\": \"white\"}, \"hoverlabel\": {\"align\": \"left\"}, \"hovermode\": \"closest\", \"mapbox\": {\"style\": \"light\"}, \"paper_bgcolor\": \"white\", \"plot_bgcolor\": \"#E5ECF6\", \"polar\": {\"angularaxis\": {\"gridcolor\": \"white\", \"linecolor\": \"white\", \"ticks\": \"\"}, \"bgcolor\": \"#E5ECF6\", \"radialaxis\": {\"gridcolor\": \"white\", \"linecolor\": \"white\", \"ticks\": \"\"}}, \"scene\": {\"xaxis\": {\"backgroundcolor\": \"#E5ECF6\", \"gridcolor\": \"white\", \"gridwidth\": 2, \"linecolor\": \"white\", \"showbackground\": true, \"ticks\": \"\", \"zerolinecolor\": \"white\"}, \"yaxis\": {\"backgroundcolor\": \"#E5ECF6\", \"gridcolor\": \"white\", \"gridwidth\": 2, \"linecolor\": \"white\", \"showbackground\": true, \"ticks\": \"\", \"zerolinecolor\": \"white\"}, \"zaxis\": {\"backgroundcolor\": \"#E5ECF6\", \"gridcolor\": \"white\", \"gridwidth\": 2, \"linecolor\": \"white\", \"showbackground\": true, \"ticks\": \"\", \"zerolinecolor\": \"white\"}}, \"shapedefaults\": {\"line\": {\"color\": \"#2a3f5f\"}}, \"ternary\": {\"aaxis\": {\"gridcolor\": \"white\", \"linecolor\": \"white\", \"ticks\": \"\"}, \"baxis\": {\"gridcolor\": \"white\", \"linecolor\": \"white\", \"ticks\": \"\"}, \"bgcolor\": \"#E5ECF6\", \"caxis\": {\"gridcolor\": \"white\", \"linecolor\": \"white\", \"ticks\": \"\"}}, \"title\": {\"x\": 0.05}, \"xaxis\": {\"automargin\": true, \"gridcolor\": \"white\", \"linecolor\": \"white\", \"ticks\": \"\", \"title\": {\"standoff\": 15}, \"zerolinecolor\": \"white\", \"zerolinewidth\": 2}, \"yaxis\": {\"automargin\": true, \"gridcolor\": \"white\", \"linecolor\": \"white\", \"ticks\": \"\", \"title\": {\"standoff\": 15}, \"zerolinecolor\": \"white\", \"zerolinewidth\": 2}}}, \"title\": {\"font\": {\"color\": \"#4D5663\"}}, \"xaxis\": {\"gridcolor\": \"#E1E5ED\", \"showgrid\": true, \"tickfont\": {\"color\": \"#4D5663\"}, \"title\": {\"font\": {\"color\": \"#4D5663\"}, \"text\": \"\"}, \"zerolinecolor\": \"#E1E5ED\"}, \"yaxis\": {\"gridcolor\": \"#E1E5ED\", \"showgrid\": true, \"tickfont\": {\"color\": \"#4D5663\"}, \"title\": {\"font\": {\"color\": \"#4D5663\"}, \"text\": \"\"}, \"zerolinecolor\": \"#E1E5ED\"}},                        {\"showLink\": true, \"linkText\": \"Export to plot.ly\", \"plotlyServerURL\": \"https://plot.ly\", \"responsive\": true}                    ).then(function(){\n",
       "                            \n",
       "var gd = document.getElementById('27ddd6df-05cc-4bd1-8474-f2b63de800a8');\n",
       "var x = new MutationObserver(function (mutations, observer) {{\n",
       "        var display = window.getComputedStyle(gd).display;\n",
       "        if (!display || display === 'none') {{\n",
       "            console.log([gd, 'removed!']);\n",
       "            Plotly.purge(gd);\n",
       "            observer.disconnect();\n",
       "        }}\n",
       "}});\n",
       "\n",
       "// Listen for the removal of the full notebook cells\n",
       "var notebookContainer = gd.closest('#notebook-container');\n",
       "if (notebookContainer) {{\n",
       "    x.observe(notebookContainer, {childList: true});\n",
       "}}\n",
       "\n",
       "// Listen for the clearing of the current output cell\n",
       "var outputEl = gd.closest('.output');\n",
       "if (outputEl) {{\n",
       "    x.observe(outputEl, {childList: true});\n",
       "}}\n",
       "\n",
       "                        })                };                });            </script>        </div>"
      ]
     },
     "metadata": {},
     "output_type": "display_data"
    }
   ],
   "source": [
    "returns.iplot(kind='scatter',x='BTC-USD Return',y='ETH-USD Return',mode='markers',size=10)"
   ]
  }
 ],
 "metadata": {
  "kernelspec": {
   "display_name": "Python 3 (ipykernel)",
   "language": "python",
   "name": "python3"
  },
  "language_info": {
   "codemirror_mode": {
    "name": "ipython",
    "version": 3
   },
   "file_extension": ".py",
   "mimetype": "text/x-python",
   "name": "python",
   "nbconvert_exporter": "python",
   "pygments_lexer": "ipython3",
   "version": "3.9.12"
  }
 },
 "nbformat": 4,
 "nbformat_minor": 5
}
